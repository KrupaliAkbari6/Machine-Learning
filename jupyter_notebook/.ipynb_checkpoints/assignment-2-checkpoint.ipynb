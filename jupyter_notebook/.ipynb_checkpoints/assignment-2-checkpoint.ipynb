{
 "cells": [
  {
   "cell_type": "markdown",
   "id": "26620bef-c773-4c8d-bb3d-85d65b012cc3",
   "metadata": {},
   "source": [
    "# Read the dataset"
   ]
  },
  {
   "cell_type": "code",
   "execution_count": 13,
   "id": "41a79339-3b5f-4fe5-947b-7fb0e25b5bc3",
   "metadata": {},
   "outputs": [
    {
     "name": "stdout",
     "output_type": "stream",
     "text": [
      "         Country           GDP  Literacy Rate  Life expectancy  Year\n",
      "0    Afghanistan  1.910135e+10          0.097             64.5  2022\n",
      "1        Albania  1.527808e+10          0.550             78.5  2022\n",
      "2        Algeria  1.699882e+11          0.514             76.7  2022\n",
      "3        Andorra  3.154058e+09            NaN              NaN  2022\n",
      "4         Angola  9.463542e+10          0.093             60.8  2022\n",
      "..           ...           ...            ...              ...   ...\n",
      "580    Venezuela  1.185729e+09          0.026             72.8  2021\n",
      "581      Vietnam  1.119191e+12          0.116             54.3  2021\n",
      "582        Yemen  1.050993e+09          0.157             83.1  2021\n",
      "583       Zambia  1.022078e+10          1.366             77.2  2021\n",
      "584     Zimbabwe  1.394116e+12          1.046             81.0  2021\n",
      "\n",
      "[585 rows x 5 columns]\n"
     ]
    }
   ],
   "source": [
    "import pandas as pd\n",
    "import matplotlib.pyplot as plt\n",
    "import xlrd\n",
    "df=pd.read_excel(\"world_literacy_data_2021_2023.xlsx\")\n",
    "print(df)\n",
    "# df.fillna(0,inplace=True)\n",
    "# # print(df)\n",
    "# df['GDP']=df['GDP'].replace({'\\$':' ',',':' '},regex=True)\n",
    "# df['GDP']=pd.to_numeric(df['GDP'])\n",
    "\n",
    "# df['Literacy Rate']=df['Literacy Rate'].replace({'\\%':' '},regex=True)\n",
    "# df['Literacy Rate']=pd.to_numeric(df['Literacy Rate'])\n",
    "\n",
    "# print(df)\n",
    "# df.info()\n",
    "\n",
    "# plt.bar(df['Country'],df['GDP'])\n",
    "# plt.show()"
   ]
  },
  {
   "cell_type": "markdown",
   "id": "f692de8f-6b6e-4422-8096-1ed171423af4",
   "metadata": {},
   "source": [
    "#  display the 10 records"
   ]
  },
  {
   "cell_type": "code",
   "execution_count": 14,
   "id": "522e6560-3dae-4c73-82de-e5e418dc18fb",
   "metadata": {},
   "outputs": [
    {
     "data": {
      "text/html": [
       "<div>\n",
       "<style scoped>\n",
       "    .dataframe tbody tr th:only-of-type {\n",
       "        vertical-align: middle;\n",
       "    }\n",
       "\n",
       "    .dataframe tbody tr th {\n",
       "        vertical-align: top;\n",
       "    }\n",
       "\n",
       "    .dataframe thead th {\n",
       "        text-align: right;\n",
       "    }\n",
       "</style>\n",
       "<table border=\"1\" class=\"dataframe\">\n",
       "  <thead>\n",
       "    <tr style=\"text-align: right;\">\n",
       "      <th></th>\n",
       "      <th>Country</th>\n",
       "      <th>GDP</th>\n",
       "      <th>Literacy Rate</th>\n",
       "      <th>Life expectancy</th>\n",
       "      <th>Year</th>\n",
       "    </tr>\n",
       "  </thead>\n",
       "  <tbody>\n",
       "    <tr>\n",
       "      <th>0</th>\n",
       "      <td>Afghanistan</td>\n",
       "      <td>1.910135e+10</td>\n",
       "      <td>0.097</td>\n",
       "      <td>64.5</td>\n",
       "      <td>2022</td>\n",
       "    </tr>\n",
       "    <tr>\n",
       "      <th>1</th>\n",
       "      <td>Albania</td>\n",
       "      <td>1.527808e+10</td>\n",
       "      <td>0.550</td>\n",
       "      <td>78.5</td>\n",
       "      <td>2022</td>\n",
       "    </tr>\n",
       "    <tr>\n",
       "      <th>2</th>\n",
       "      <td>Algeria</td>\n",
       "      <td>1.699882e+11</td>\n",
       "      <td>0.514</td>\n",
       "      <td>76.7</td>\n",
       "      <td>2022</td>\n",
       "    </tr>\n",
       "    <tr>\n",
       "      <th>3</th>\n",
       "      <td>Andorra</td>\n",
       "      <td>3.154058e+09</td>\n",
       "      <td>NaN</td>\n",
       "      <td>NaN</td>\n",
       "      <td>2022</td>\n",
       "    </tr>\n",
       "    <tr>\n",
       "      <th>4</th>\n",
       "      <td>Angola</td>\n",
       "      <td>9.463542e+10</td>\n",
       "      <td>0.093</td>\n",
       "      <td>60.8</td>\n",
       "      <td>2022</td>\n",
       "    </tr>\n",
       "    <tr>\n",
       "      <th>5</th>\n",
       "      <td>Antigua and Barbuda</td>\n",
       "      <td>1.727759e+09</td>\n",
       "      <td>0.248</td>\n",
       "      <td>76.9</td>\n",
       "      <td>2022</td>\n",
       "    </tr>\n",
       "    <tr>\n",
       "      <th>6</th>\n",
       "      <td>Argentina</td>\n",
       "      <td>4.496634e+11</td>\n",
       "      <td>0.900</td>\n",
       "      <td>76.5</td>\n",
       "      <td>2022</td>\n",
       "    </tr>\n",
       "    <tr>\n",
       "      <th>7</th>\n",
       "      <td>Armenia</td>\n",
       "      <td>1.367280e+10</td>\n",
       "      <td>0.546</td>\n",
       "      <td>74.9</td>\n",
       "      <td>2022</td>\n",
       "    </tr>\n",
       "    <tr>\n",
       "      <th>8</th>\n",
       "      <td>Australia</td>\n",
       "      <td>1.392681e+12</td>\n",
       "      <td>1.131</td>\n",
       "      <td>82.7</td>\n",
       "      <td>2022</td>\n",
       "    </tr>\n",
       "    <tr>\n",
       "      <th>9</th>\n",
       "      <td>Austria</td>\n",
       "      <td>4.463147e+11</td>\n",
       "      <td>0.851</td>\n",
       "      <td>81.6</td>\n",
       "      <td>2022</td>\n",
       "    </tr>\n",
       "  </tbody>\n",
       "</table>\n",
       "</div>"
      ],
      "text/plain": [
       "               Country           GDP  Literacy Rate  Life expectancy  Year\n",
       "0          Afghanistan  1.910135e+10          0.097             64.5  2022\n",
       "1              Albania  1.527808e+10          0.550             78.5  2022\n",
       "2              Algeria  1.699882e+11          0.514             76.7  2022\n",
       "3              Andorra  3.154058e+09            NaN              NaN  2022\n",
       "4               Angola  9.463542e+10          0.093             60.8  2022\n",
       "5  Antigua and Barbuda  1.727759e+09          0.248             76.9  2022\n",
       "6            Argentina  4.496634e+11          0.900             76.5  2022\n",
       "7              Armenia  1.367280e+10          0.546             74.9  2022\n",
       "8            Australia  1.392681e+12          1.131             82.7  2022\n",
       "9              Austria  4.463147e+11          0.851             81.6  2022"
      ]
     },
     "execution_count": 14,
     "metadata": {},
     "output_type": "execute_result"
    }
   ],
   "source": [
    "df.head(10)"
   ]
  },
  {
   "cell_type": "markdown",
   "id": "cb2d9081-8830-4051-9223-f4c6ca01e6f6",
   "metadata": {},
   "source": [
    "# Print all the column names"
   ]
  },
  {
   "cell_type": "code",
   "execution_count": 15,
   "id": "c9b13261-1329-411d-8c05-03973ad48957",
   "metadata": {},
   "outputs": [
    {
     "data": {
      "text/plain": [
       "Index(['Country', 'GDP', 'Literacy Rate', 'Life expectancy', 'Year'], dtype='object')"
      ]
     },
     "execution_count": 15,
     "metadata": {},
     "output_type": "execute_result"
    }
   ],
   "source": [
    "df.columns"
   ]
  },
  {
   "cell_type": "markdown",
   "id": "97d1677d-b414-4f82-909c-d72be27fbafe",
   "metadata": {},
   "source": [
    "# Print the size(rows, cols) of dataset"
   ]
  },
  {
   "cell_type": "code",
   "execution_count": 16,
   "id": "d50f498e-ce39-463c-bea8-9a8fcb45bb96",
   "metadata": {},
   "outputs": [
    {
     "data": {
      "text/plain": [
       "2925"
      ]
     },
     "execution_count": 16,
     "metadata": {},
     "output_type": "execute_result"
    }
   ],
   "source": [
    "df.size"
   ]
  },
  {
   "cell_type": "markdown",
   "id": "d2f35389-a9be-478d-a52d-a98e148905de",
   "metadata": {},
   "source": [
    "# Check for the NULL values in dataset and if found replace the NULL values with the average values"
   ]
  },
  {
   "cell_type": "code",
   "execution_count": 17,
   "id": "77b537cb-5f6c-4d49-84cf-5ad0c1d6a18c",
   "metadata": {},
   "outputs": [
    {
     "data": {
      "text/plain": [
       "Country             0\n",
       "GDP                 4\n",
       "Literacy Rate      19\n",
       "Life expectancy    17\n",
       "Year                0\n",
       "dtype: int64"
      ]
     },
     "execution_count": 17,
     "metadata": {},
     "output_type": "execute_result"
    }
   ],
   "source": [
    "df.isnull().sum()"
   ]
  },
  {
   "cell_type": "code",
   "execution_count": 18,
   "id": "ca5d870a-4d5c-4760-92cf-a5db63503ea6",
   "metadata": {},
   "outputs": [
    {
     "name": "stdout",
     "output_type": "stream",
     "text": [
      "GDP                4.780700e+11\n",
      "Literacy Rate      3.806678e-01\n",
      "Life expectancy    7.228187e+01\n",
      "dtype: float64\n",
      "         Country           GDP  Literacy Rate  Life expectancy  Year\n",
      "0    Afghanistan  1.910135e+10       0.097000        64.500000  2022\n",
      "1        Albania  1.527808e+10       0.550000        78.500000  2022\n",
      "2        Algeria  1.699882e+11       0.514000        76.700000  2022\n",
      "3        Andorra  3.154058e+09       0.380668        72.281866  2022\n",
      "4         Angola  9.463542e+10       0.093000        60.800000  2022\n",
      "..           ...           ...            ...              ...   ...\n",
      "580    Venezuela  1.185729e+09       0.026000        72.800000  2021\n",
      "581      Vietnam  1.119191e+12       0.116000        54.300000  2021\n",
      "582        Yemen  1.050993e+09       0.157000        83.100000  2021\n",
      "583       Zambia  1.022078e+10       1.366000        77.200000  2021\n",
      "584     Zimbabwe  1.394116e+12       1.046000        81.000000  2021\n",
      "\n",
      "[585 rows x 5 columns]\n"
     ]
    }
   ],
   "source": [
    "# df.fillna(0,inplace=True)\n",
    "# print(df)\n",
    "\n",
    "df=pd.read_excel(\"world_literacy_data_2021_2023.xlsx\")\n",
    "\n",
    "data=df[['GDP','Literacy Rate','Life expectancy']]\n",
    "# print(data)\n",
    "mean_value=data.mean(axis=0)\n",
    "print(mean_value)\n",
    "\n",
    "df.fillna(mean_value,inplace=True)\n",
    "print(df)"
   ]
  },
  {
   "cell_type": "markdown",
   "id": "8dc408cc-32d9-4fa8-8d81-b353b3247352",
   "metadata": {},
   "source": [
    "# Print the updated dataset"
   ]
  },
  {
   "cell_type": "code",
   "execution_count": 19,
   "id": "57e2d523-1581-4b29-a5c3-5194b0e6983e",
   "metadata": {},
   "outputs": [
    {
     "name": "stdout",
     "output_type": "stream",
     "text": [
      "         Country           GDP  Literacy Rate  Life expectancy  Year\n",
      "0    Afghanistan  1.910135e+10       0.097000        64.500000  2022\n",
      "1        Albania  1.527808e+10       0.550000        78.500000  2022\n",
      "2        Algeria  1.699882e+11       0.514000        76.700000  2022\n",
      "3        Andorra  3.154058e+09       0.380668        72.281866  2022\n",
      "4         Angola  9.463542e+10       0.093000        60.800000  2022\n",
      "..           ...           ...            ...              ...   ...\n",
      "580    Venezuela  1.185729e+09       0.026000        72.800000  2021\n",
      "581      Vietnam  1.119191e+12       0.116000        54.300000  2021\n",
      "582        Yemen  1.050993e+09       0.157000        83.100000  2021\n",
      "583       Zambia  1.022078e+10       1.366000        77.200000  2021\n",
      "584     Zimbabwe  1.394116e+12       1.046000        81.000000  2021\n",
      "\n",
      "[585 rows x 5 columns]\n"
     ]
    }
   ],
   "source": [
    "df.fillna(mean_value,inplace=True)\n",
    "print(df)"
   ]
  },
  {
   "cell_type": "markdown",
   "id": "f4120ec3-1788-4dc0-82bc-7b81e4beafd5",
   "metadata": {},
   "source": [
    "# Display the top 10 countries having highest GDP year 2023"
   ]
  },
  {
   "cell_type": "code",
   "execution_count": 20,
   "id": "ffc03fa6-4868-42a0-b3cb-c79e474127a4",
   "metadata": {},
   "outputs": [
    {
     "name": "stdout",
     "output_type": "stream",
     "text": [
      "           Country           GDP  Literacy Rate  Life expectancy  Year\n",
      "270        Hungary  2.142770e+13       0.363000             76.8  2023\n",
      "255         France  1.991000e+13       0.639000             80.0  2023\n",
      "339         Rwanda  5.081770e+12       0.874000             76.8  2023\n",
      "297         Malawi  3.845630e+12       0.380668             76.0  2023\n",
      "266         Guyana  2.827113e+12       0.262000             81.0  2023\n",
      "265  Guinea-Bissau  2.715518e+12       0.380668             60.4  2023\n",
      "264         Guinea  2.611000e+12       0.011000             79.0  2023\n",
      "258        Georgia  2.029000e+12       1.366000             64.1  2023\n",
      "257     The Gambia  2.001244e+12       0.157000             77.1  2023\n",
      "211        Belgium  1.839758e+12       0.048000             75.7  2023\n"
     ]
    }
   ],
   "source": [
    "import pandas as pd\n",
    "import matplotlib.pyplot as plt\n",
    "df=pd.read_excel(\"world_literacy_data_2021_2023.xlsx\")\n",
    "df.fillna(mean_value,inplace=True)\n",
    "\n",
    "df_2023=df[df['Year']==2023]\n",
    "df_sorted=df_2023.sort_values(by='GDP',ascending=False)\n",
    "top_10_countries=df_sorted.head(10)\n",
    "print(top_10_countries)"
   ]
  },
  {
   "cell_type": "markdown",
   "id": "23e09b0c-85be-488d-a339-deb99f974b42",
   "metadata": {},
   "source": [
    "# Display top 10 countries having highest Literacy rate year 2023"
   ]
  },
  {
   "cell_type": "code",
   "execution_count": 21,
   "id": "5edd9b27-19eb-4dde-b2ed-7d37ec143169",
   "metadata": {},
   "outputs": [
    {
     "name": "stdout",
     "output_type": "stream",
     "text": [
      "        Country           GDP  Literacy Rate  Life expectancy  Year\n",
      "258     Georgia  2.029000e+12          1.366             64.1  2023\n",
      "199      Angola  1.258287e+12          1.131             77.2  2023\n",
      "285      Kuwait  2.691440e+10          1.131             75.3  2023\n",
      "259     Germany  2.065002e+09          1.046             64.3  2023\n",
      "197     Algeria  1.185729e+09          0.900             72.9  2023\n",
      "283       Kenya  2.509540e+10          0.900             70.3  2023\n",
      "312  Mozambique  3.720625e+11          0.885             63.4  2023\n",
      "367    Tanzania  7.666704e+09          0.885             76.5  2023\n",
      "215     Bolivia  1.022078e+10          0.882             57.4  2023\n",
      "251    Eswatini  1.890228e+10          0.882             78.2  2023\n"
     ]
    }
   ],
   "source": [
    "import pandas as pd\n",
    "import matplotlib.pyplot as plt\n",
    "df=pd.read_excel(\"world_literacy_data_2021_2023.xlsx\")\n",
    "df.fillna(mean_value,inplace=True)\n",
    "\n",
    "df_2023=df[df['Year']==2023]\n",
    "df_sorted=df_2023.sort_values(by='Literacy Rate',ascending=False)\n",
    "top_10_countries=df_sorted.head(10)\n",
    "print(top_10_countries)"
   ]
  },
  {
   "cell_type": "markdown",
   "id": "fb354685-c809-4f91-8ebe-6bbb9b80d31a",
   "metadata": {},
   "source": [
    "# Plot the year wise literacy rate of each country"
   ]
  },
  {
   "cell_type": "code",
   "execution_count": 25,
   "id": "4d6fac6f-9d8d-4708-98bb-92f80c5c0f28",
   "metadata": {},
   "outputs": [
    {
     "data": {
      "application/vnd.plotly.v1+json": {
       "config": {
        "plotlyServerURL": "https://plot.ly"
       },
       "data": [
        {
         "alignmentgroup": "True",
         "hovertemplate": "x=%{x}<br>y=%{y}<br>color=%{marker.color}<extra></extra>",
         "legendgroup": "",
         "marker": {
          "color": [
           2022,
           2022,
           2022,
           2022,
           2022,
           2022,
           2022,
           2022,
           2022,
           2022,
           2022,
           2022,
           2022,
           2022,
           2022,
           2022,
           2022,
           2022,
           2022,
           2022,
           2022,
           2022,
           2022,
           2022,
           2022,
           2022,
           2022,
           2022,
           2022,
           2022,
           2022,
           2022,
           2022,
           2022,
           2022,
           2022,
           2022,
           2022,
           2022,
           2022,
           2022,
           2022,
           2022,
           2022,
           2022,
           2022,
           2022,
           2022,
           2022,
           2022,
           2022,
           2022,
           2022,
           2022,
           2022,
           2022,
           2022,
           2022,
           2022,
           2022,
           2022,
           2022,
           2022,
           2022,
           2022,
           2022,
           2022,
           2022,
           2022,
           2022,
           2022,
           2022,
           2022,
           2022,
           2022,
           2022,
           2022,
           2022,
           2022,
           2022,
           2022,
           2022,
           2022,
           2022,
           2022,
           2022,
           2022,
           2022,
           2022,
           2022,
           2022,
           2022,
           2022,
           2022,
           2022,
           2022,
           2022,
           2022,
           2022,
           2022,
           2022,
           2022,
           2022,
           2022,
           2022,
           2022,
           2022,
           2022,
           2022,
           2022,
           2022,
           2022,
           2022,
           2022,
           2022,
           2022,
           2022,
           2022,
           2022,
           2022,
           2022,
           2022,
           2022,
           2022,
           2022,
           2022,
           2022,
           2022,
           2022,
           2022,
           2022,
           2022,
           2022,
           2022,
           2022,
           2022,
           2022,
           2022,
           2022,
           2022,
           2022,
           2022,
           2022,
           2022,
           2022,
           2022,
           2022,
           2022,
           2022,
           2022,
           2022,
           2022,
           2022,
           2022,
           2022,
           2022,
           2022,
           2022,
           2022,
           2022,
           2022,
           2022,
           2022,
           2022,
           2022,
           2022,
           2022,
           2022,
           2022,
           2022,
           2022,
           2022,
           2022,
           2022,
           2022,
           2022,
           2022,
           2022,
           2022,
           2022,
           2022,
           2022,
           2022,
           2022,
           2022,
           2022,
           2022,
           2022,
           2022,
           2022,
           2022,
           2022,
           2022,
           2022,
           2022,
           2023,
           2023,
           2023,
           2023,
           2023,
           2023,
           2023,
           2023,
           2023,
           2023,
           2023,
           2023,
           2023,
           2023,
           2023,
           2023,
           2023,
           2023,
           2023,
           2023,
           2023,
           2023,
           2023,
           2023,
           2023,
           2023,
           2023,
           2023,
           2023,
           2023,
           2023,
           2023,
           2023,
           2023,
           2023,
           2023,
           2023,
           2023,
           2023,
           2023,
           2023,
           2023,
           2023,
           2023,
           2023,
           2023,
           2023,
           2023,
           2023,
           2023,
           2023,
           2023,
           2023,
           2023,
           2023,
           2023,
           2023,
           2023,
           2023,
           2023,
           2023,
           2023,
           2023,
           2023,
           2023,
           2023,
           2023,
           2023,
           2023,
           2023,
           2023,
           2023,
           2023,
           2023,
           2023,
           2023,
           2023,
           2023,
           2023,
           2023,
           2023,
           2023,
           2023,
           2023,
           2023,
           2023,
           2023,
           2023,
           2023,
           2023,
           2023,
           2023,
           2023,
           2023,
           2023,
           2023,
           2023,
           2023,
           2023,
           2023,
           2023,
           2023,
           2023,
           2023,
           2023,
           2023,
           2023,
           2023,
           2023,
           2023,
           2023,
           2023,
           2023,
           2023,
           2023,
           2023,
           2023,
           2023,
           2023,
           2023,
           2023,
           2023,
           2023,
           2023,
           2023,
           2023,
           2023,
           2023,
           2023,
           2023,
           2023,
           2023,
           2023,
           2023,
           2023,
           2023,
           2023,
           2023,
           2023,
           2023,
           2023,
           2023,
           2023,
           2023,
           2023,
           2023,
           2023,
           2023,
           2023,
           2023,
           2023,
           2023,
           2023,
           2023,
           2023,
           2023,
           2023,
           2023,
           2023,
           2023,
           2023,
           2023,
           2023,
           2023,
           2023,
           2023,
           2023,
           2023,
           2023,
           2023,
           2023,
           2023,
           2023,
           2023,
           2023,
           2023,
           2023,
           2023,
           2023,
           2023,
           2023,
           2023,
           2023,
           2023,
           2023,
           2023,
           2023,
           2023,
           2023,
           2023,
           2023,
           2023,
           2023,
           2023,
           2023,
           2021,
           2021,
           2021,
           2021,
           2021,
           2021,
           2021,
           2021,
           2021,
           2021,
           2021,
           2021,
           2021,
           2021,
           2021,
           2021,
           2021,
           2021,
           2021,
           2021,
           2021,
           2021,
           2021,
           2021,
           2021,
           2021,
           2021,
           2021,
           2021,
           2021,
           2021,
           2021,
           2021,
           2021,
           2021,
           2021,
           2021,
           2021,
           2021,
           2021,
           2021,
           2021,
           2021,
           2021,
           2021,
           2021,
           2021,
           2021,
           2021,
           2021,
           2021,
           2021,
           2021,
           2021,
           2021,
           2021,
           2021,
           2021,
           2021,
           2021,
           2021,
           2021,
           2021,
           2021,
           2021,
           2021,
           2021,
           2021,
           2021,
           2021,
           2021,
           2021,
           2021,
           2021,
           2021,
           2021,
           2021,
           2021,
           2021,
           2021,
           2021,
           2021,
           2021,
           2021,
           2021,
           2021,
           2021,
           2021,
           2021,
           2021,
           2021,
           2021,
           2021,
           2021,
           2021,
           2021,
           2021,
           2021,
           2021,
           2021,
           2021,
           2021,
           2021,
           2021,
           2021,
           2021,
           2021,
           2021,
           2021,
           2021,
           2021,
           2021,
           2021,
           2021,
           2021,
           2021,
           2021,
           2021,
           2021,
           2021,
           2021,
           2021,
           2021,
           2021,
           2021,
           2021,
           2021,
           2021,
           2021,
           2021,
           2021,
           2021,
           2021,
           2021,
           2021,
           2021,
           2021,
           2021,
           2021,
           2021,
           2021,
           2021,
           2021,
           2021,
           2021,
           2021,
           2021,
           2021,
           2021,
           2021,
           2021,
           2021,
           2021,
           2021,
           2021,
           2021,
           2021,
           2021,
           2021,
           2021,
           2021,
           2021,
           2021,
           2021,
           2021,
           2021,
           2021,
           2021,
           2021,
           2021,
           2021,
           2021,
           2021,
           2021,
           2021,
           2021,
           2021,
           2021,
           2021,
           2021,
           2021,
           2021,
           2021,
           2021,
           2021,
           2021,
           2021,
           2021,
           2021,
           2021,
           2021,
           2021,
           2021,
           2021,
           2021
          ],
          "coloraxis": "coloraxis",
          "pattern": {
           "shape": ""
          }
         },
         "name": "",
         "offsetgroup": "",
         "orientation": "v",
         "showlegend": false,
         "textposition": "auto",
         "type": "bar",
         "x": [
          "Afghanistan",
          "Albania",
          "Algeria",
          "Andorra",
          "Angola",
          "Antigua and Barbuda",
          "Argentina",
          "Armenia",
          "Australia",
          "Austria",
          "Azerbaijan",
          "The Bahamas",
          "Bahrain",
          "Bangladesh",
          "Barbados",
          "Belarus",
          "Belgium",
          "Belize",
          "Benin",
          "Bhutan",
          "Bolivia",
          "Bosnia and Herzegovina",
          "Botswana",
          "Brazil",
          "Brunei",
          "Bulgaria",
          "Burkina Faso",
          "Burundi",
          "Ivory Coast",
          "Cape Verde",
          "Cambodia",
          "Cameroon",
          "Canada",
          "Central African Republic",
          "Chad",
          "Chile",
          "China",
          "Colombia",
          "Comoros",
          "Republic of the Congo",
          "Costa Rica",
          "Croatia",
          "Cuba",
          "Cyprus",
          "Czech Republic",
          "Democratic Republic of the Congo",
          "Denmark",
          "Djibouti",
          "Dominica",
          "Dominican Republic",
          "Ecuador",
          "Egypt",
          "El Salvador",
          "Equatorial Guinea",
          "Eritrea",
          "Estonia",
          "Eswatini",
          "Ethiopia",
          "Fiji",
          "Finland",
          "France",
          "Gabon",
          "The Gambia",
          "Georgia",
          "Germany",
          "Ghana",
          "Greece",
          "Grenada",
          "Guatemala",
          "Guinea",
          "Guinea-Bissau",
          "Guyana",
          "Haiti",
          "Vatican City",
          "Honduras",
          "Hungary",
          "Iceland",
          "India",
          "Indonesia",
          "Iran",
          "Iraq",
          "Republic of Ireland",
          "Israel",
          "Italy",
          "Jamaica",
          "Japan",
          "Jordan",
          "Kazakhstan",
          "Kenya",
          "Kiribati",
          "Kuwait",
          "Kyrgyzstan",
          "Laos",
          "Latvia",
          "Lebanon",
          "Lesotho",
          "Liberia",
          "Libya",
          "Liechtenstein",
          "Lithuania",
          "Luxembourg",
          "Madagascar",
          "Malawi",
          "Malaysia",
          "Maldives",
          "Mali",
          "Malta",
          "Marshall Islands",
          "Mauritania",
          "Mauritius",
          "Mexico",
          "Federated States of Micronesia",
          "Moldova",
          "Monaco",
          "Mongolia",
          "Montenegro",
          "Morocco",
          "Mozambique",
          "Myanmar",
          "Namibia",
          "Nauru",
          "Nepal",
          "Netherlands",
          "New Zealand",
          "Nicaragua",
          "Niger",
          "Nigeria",
          "North Korea",
          "North Macedonia",
          "Norway",
          "Oman",
          "Pakistan",
          "Palau",
          "Palestinian National Authority",
          "Panama",
          "Papua New Guinea",
          "Paraguay",
          "Peru",
          "Philippines",
          "Poland",
          "Portugal",
          "Qatar",
          "Romania",
          "Russia",
          "Rwanda",
          "Saint Kitts and Nevis",
          "Saint Lucia",
          "Saint Vincent and the Grenadines",
          "Samoa",
          "San Marino",
          "Sï¿½ï¿½ï¿½ï¿½ï¿½ï¿½ï¿½ï¿½ï¿½ï¿½ï¿½",
          "Saudi Arabia",
          "Senegal",
          "Serbia",
          "Seychelles",
          "Sierra Leone",
          "Singapore",
          "Slovakia",
          "Slovenia",
          "Solomon Islands",
          "Somalia",
          "South Africa",
          "South Korea",
          "South Sudan",
          "Spain",
          "Sri Lanka",
          "Sudan",
          "Suriname",
          "Sweden",
          "Switzerland",
          "Syria",
          "Tajikistan",
          "Tanzania",
          "Thailand",
          "East Timor",
          "Togo",
          "Tonga",
          "Trinidad and Tobago",
          "Tunisia",
          "Turkey",
          "Turkmenistan",
          "Tuvalu",
          "Uganda",
          "Ukraine",
          "United Arab Emirates",
          "United Kingdom",
          "United States",
          "Uruguay",
          "Uzbekistan",
          "Vanuatu",
          "Venezuela",
          "Vietnam",
          "Yemen",
          "Zambia",
          "Zimbabwe",
          "Afghanistan",
          "Albania",
          "Algeria",
          "Andorra",
          "Angola",
          "Antigua and Barbuda",
          "Argentina",
          "Armenia",
          "Australia",
          "Austria",
          "Azerbaijan",
          "The Bahamas",
          "Bahrain",
          "Bangladesh",
          "Barbados",
          "Belarus",
          "Belgium",
          "Belize",
          "Benin",
          "Bhutan",
          "Bolivia",
          "Bosnia and Herzegovina",
          "Botswana",
          "Brazil",
          "Brunei",
          "Bulgaria",
          "Burkina Faso",
          "Burundi",
          "Ivory Coast",
          "Cape Verde",
          "Cambodia",
          "Cameroon",
          "Canada",
          "Central African Republic",
          "Chad",
          "Chile",
          "China",
          "Colombia",
          "Comoros",
          "Republic of the Congo",
          "Costa Rica",
          "Croatia",
          "Cuba",
          "Cyprus",
          "Czech Republic",
          "Democratic Republic of the Congo",
          "Denmark",
          "Djibouti",
          "Dominica",
          "Dominican Republic",
          "Ecuador",
          "Egypt",
          "El Salvador",
          "Equatorial Guinea",
          "Eritrea",
          "Estonia",
          "Eswatini",
          "Ethiopia",
          "Fiji",
          "Finland",
          "France",
          "Gabon",
          "The Gambia",
          "Georgia",
          "Germany",
          "Ghana",
          "Greece",
          "Grenada",
          "Guatemala",
          "Guinea",
          "Guinea-Bissau",
          "Guyana",
          "Haiti",
          "Vatican City",
          "Honduras",
          "Hungary",
          "Iceland",
          "India",
          "Indonesia",
          "Iran",
          "Iraq",
          "Republic of Ireland",
          "Israel",
          "Italy",
          "Jamaica",
          "Japan",
          "Jordan",
          "Kazakhstan",
          "Kenya",
          "Kiribati",
          "Kuwait",
          "Kyrgyzstan",
          "Laos",
          "Latvia",
          "Lebanon",
          "Lesotho",
          "Liberia",
          "Libya",
          "Liechtenstein",
          "Lithuania",
          "Luxembourg",
          "Madagascar",
          "Malawi",
          "Malaysia",
          "Maldives",
          "Mali",
          "Malta",
          "Marshall Islands",
          "Mauritania",
          "Mauritius",
          "Mexico",
          "Federated States of Micronesia",
          "Moldova",
          "Monaco",
          "Mongolia",
          "Montenegro",
          "Morocco",
          "Mozambique",
          "Myanmar",
          "Namibia",
          "Nauru",
          "Nepal",
          "Netherlands",
          "New Zealand",
          "Nicaragua",
          "Niger",
          "Nigeria",
          "North Korea",
          "North Macedonia",
          "Norway",
          "Oman",
          "Pakistan",
          "Palau",
          "Palestinian National Authority",
          "Panama",
          "Papua New Guinea",
          "Paraguay",
          "Peru",
          "Philippines",
          "Poland",
          "Portugal",
          "Qatar",
          "Romania",
          "Russia",
          "Rwanda",
          "Saint Kitts and Nevis",
          "Saint Lucia",
          "Saint Vincent and the Grenadines",
          "Samoa",
          "San Marino",
          "Sï¿½ï¿½ï¿½ï¿½ï¿½ï¿½ï¿½ï¿½ï¿½ï¿½ï¿½",
          "Saudi Arabia",
          "Senegal",
          "Serbia",
          "Seychelles",
          "Sierra Leone",
          "Singapore",
          "Slovakia",
          "Slovenia",
          "Solomon Islands",
          "Somalia",
          "South Africa",
          "South Korea",
          "South Sudan",
          "Spain",
          "Sri Lanka",
          "Sudan",
          "Suriname",
          "Sweden",
          "Switzerland",
          "Syria",
          "Tajikistan",
          "Tanzania",
          "Thailand",
          "East Timor",
          "Togo",
          "Tonga",
          "Trinidad and Tobago",
          "Tunisia",
          "Turkey",
          "Turkmenistan",
          "Tuvalu",
          "Uganda",
          "Ukraine",
          "United Arab Emirates",
          "United Kingdom",
          "United States",
          "Uruguay",
          "Uzbekistan",
          "Vanuatu",
          "Venezuela",
          "Vietnam",
          "Yemen",
          "Zambia",
          "Zimbabwe",
          "Afghanistan",
          "Albania",
          "Algeria",
          "Andorra",
          "Angola",
          "Antigua and Barbuda",
          "Argentina",
          "Armenia",
          "Australia",
          "Austria",
          "Azerbaijan",
          "The Bahamas",
          "Bahrain",
          "Bangladesh",
          "Barbados",
          "Belarus",
          "Belgium",
          "Belize",
          "Benin",
          "Bhutan",
          "Bolivia",
          "Bosnia and Herzegovina",
          "Botswana",
          "Brazil",
          "Brunei",
          "Bulgaria",
          "Burkina Faso",
          "Burundi",
          "Ivory Coast",
          "Cape Verde",
          "Cambodia",
          "Cameroon",
          "Canada",
          "Central African Republic",
          "Chad",
          "Chile",
          "China",
          "Colombia",
          "Comoros",
          "Republic of the Congo",
          "Costa Rica",
          "Croatia",
          "Cuba",
          "Cyprus",
          "Czech Republic",
          "Democratic Republic of the Congo",
          "Denmark",
          "Djibouti",
          "Dominica",
          "Dominican Republic",
          "Ecuador",
          "Egypt",
          "El Salvador",
          "Equatorial Guinea",
          "Eritrea",
          "Estonia",
          "Eswatini",
          "Ethiopia",
          "Fiji",
          "Finland",
          "France",
          "Gabon",
          "The Gambia",
          "Georgia",
          "Germany",
          "Ghana",
          "Greece",
          "Grenada",
          "Guatemala",
          "Guinea",
          "Guinea-Bissau",
          "Guyana",
          "Haiti",
          "Vatican City",
          "Honduras",
          "Hungary",
          "Iceland",
          "India",
          "Indonesia",
          "Iran",
          "Iraq",
          "Republic of Ireland",
          "Israel",
          "Italy",
          "Jamaica",
          "Japan",
          "Jordan",
          "Kazakhstan",
          "Kenya",
          "Kiribati",
          "Kuwait",
          "Kyrgyzstan",
          "Laos",
          "Latvia",
          "Lebanon",
          "Lesotho",
          "Liberia",
          "Libya",
          "Liechtenstein",
          "Lithuania",
          "Luxembourg",
          "Madagascar",
          "Malawi",
          "Malaysia",
          "Maldives",
          "Mali",
          "Malta",
          "Marshall Islands",
          "Mauritania",
          "Mauritius",
          "Mexico",
          "Federated States of Micronesia",
          "Moldova",
          "Monaco",
          "Mongolia",
          "Montenegro",
          "Morocco",
          "Mozambique",
          "Myanmar",
          "Namibia",
          "Nauru",
          "Nepal",
          "Netherlands",
          "New Zealand",
          "Nicaragua",
          "Niger",
          "Nigeria",
          "North Korea",
          "North Macedonia",
          "Norway",
          "Oman",
          "Pakistan",
          "Palau",
          "Palestinian National Authority",
          "Panama",
          "Papua New Guinea",
          "Paraguay",
          "Peru",
          "Philippines",
          "Poland",
          "Portugal",
          "Qatar",
          "Romania",
          "Russia",
          "Rwanda",
          "Saint Kitts and Nevis",
          "Saint Lucia",
          "Saint Vincent and the Grenadines",
          "Samoa",
          "San Marino",
          "Sï¿½ï¿½ï¿½ï¿½ï¿½ï¿½ï¿½ï¿½ï¿½ï¿½ï¿½",
          "Saudi Arabia",
          "Senegal",
          "Serbia",
          "Seychelles",
          "Sierra Leone",
          "Singapore",
          "Slovakia",
          "Slovenia",
          "Solomon Islands",
          "Somalia",
          "South Africa",
          "South Korea",
          "South Sudan",
          "Spain",
          "Sri Lanka",
          "Sudan",
          "Suriname",
          "Sweden",
          "Switzerland",
          "Syria",
          "Tajikistan",
          "Tanzania",
          "Thailand",
          "East Timor",
          "Togo",
          "Tonga",
          "Trinidad and Tobago",
          "Tunisia",
          "Turkey",
          "Turkmenistan",
          "Tuvalu",
          "Uganda",
          "Ukraine",
          "United Arab Emirates",
          "United Kingdom",
          "United States",
          "Uruguay",
          "Uzbekistan",
          "Vanuatu",
          "Venezuela",
          "Vietnam",
          "Yemen",
          "Zambia",
          "Zimbabwe"
         ],
         "xaxis": "x",
         "y": [
          0.097,
          0.55,
          0.514,
          0.3806678445229682,
          0.093,
          0.248,
          0.9,
          0.546,
          1.131,
          0.851,
          0.277,
          0.151,
          0.505,
          0.206,
          0.654,
          0.874,
          0.797,
          0.247,
          0.123,
          0.156,
          0.3806678445229682,
          0.233,
          0.249,
          0.513,
          0.314,
          0.71,
          0.065,
          0.061,
          0.093,
          0.236,
          0.137,
          0.128,
          0.689,
          0.03,
          0.033,
          0.885,
          0.506,
          0.553,
          0.09,
          0.127,
          0.552,
          0.679,
          0.414,
          0.759,
          0.641,
          0.066,
          0.806,
          0.053,
          0.072,
          0.599,
          0.449,
          0.352,
          0.294,
          0.019,
          0.034,
          0.696,
          0.3806678445229682,
          0.081,
          0.161,
          0.882,
          0.656,
          0.083,
          0.027,
          0.639,
          0.702,
          0.157,
          1.366,
          1.046,
          0.218,
          0.116,
          0.026,
          0.116,
          0.011,
          0.3806678445229682,
          0.262,
          0.485,
          0.718,
          0.281,
          0.363,
          0.681,
          0.162,
          0.778,
          0.634,
          0.619,
          0.271,
          0.632,
          0.344,
          0.617,
          0.115,
          0.3806678445229682,
          0.544,
          0.413,
          0.15,
          0.881,
          0.263,
          0.102,
          0.119,
          0.605,
          0.356,
          0.724,
          0.192,
          0.054,
          0.008,
          0.451,
          0.312,
          0.045,
          0.543,
          0.237,
          0.05,
          0.406,
          0.402,
          0.141,
          0.398,
          0.3806678445229682,
          0.656,
          0.561,
          0.359,
          0.073,
          0.188,
          0.229,
          0.3806678445229682,
          0.124,
          0.85,
          0.82,
          0.174,
          0.044,
          0.102,
          0.27,
          0.3806678445229682,
          0.82,
          0.38,
          0.09,
          0.547,
          0.3806678445229682,
          0.478,
          0.018,
          0.346,
          0.707,
          0.355,
          0.678,
          0.639,
          0.179,
          0.494,
          0.819,
          0.067,
          0.867,
          0.141,
          0.237,
          0.076,
          0.425,
          0.134,
          0.68,
          0.128,
          0.672,
          0.171,
          0.02,
          0.848,
          0.466,
          0.786,
          0.3806678445229682,
          0.025,
          0.224,
          0.943,
          0.3806678445229682,
          0.889,
          0.196,
          0.169,
          0.126,
          0.67,
          0.596,
          0.401,
          0.313,
          0.04,
          0.493,
          0.178,
          0.145,
          0.064,
          0.12,
          0.317,
          0.239,
          0.08,
          0.3806678445229682,
          0.048,
          0.827,
          0.368,
          0.6,
          0.882,
          0.631,
          0.101,
          0.047,
          0.793,
          0.285,
          0.102,
          0.041,
          0.1,
          0.093,
          0.248,
          0.9,
          0.546,
          1.131,
          0.851,
          0.277,
          0.151,
          0.505,
          0.206,
          0.654,
          0.874,
          0.797,
          0.247,
          0.123,
          0.156,
          0.048,
          0.827,
          0.368,
          0.6,
          0.882,
          0.631,
          0.101,
          0.047,
          0.793,
          0.285,
          0.102,
          0.041,
          0.1,
          0.478,
          0.018,
          0.346,
          0.707,
          0.355,
          0.678,
          0.639,
          0.179,
          0.494,
          0.819,
          0.067,
          0.867,
          0.141,
          0.237,
          0.076,
          0.425,
          0.134,
          0.68,
          0.128,
          0.672,
          0.171,
          0.02,
          0.848,
          0.466,
          0.786,
          0.081,
          0.161,
          0.882,
          0.656,
          0.083,
          0.027,
          0.639,
          0.702,
          0.157,
          1.366,
          1.046,
          0.218,
          0.116,
          0.026,
          0.116,
          0.011,
          0.3806678445229682,
          0.262,
          0.485,
          0.718,
          0.281,
          0.363,
          0.681,
          0.162,
          0.778,
          0.634,
          0.619,
          0.271,
          0.632,
          0.344,
          0.617,
          0.115,
          0.093,
          0.248,
          0.9,
          0.546,
          1.131,
          0.851,
          0.277,
          0.151,
          0.505,
          0.206,
          0.654,
          0.874,
          0.797,
          0.247,
          0.123,
          0.156,
          0.3806678445229682,
          0.233,
          0.249,
          0.513,
          0.314,
          0.71,
          0.065,
          0.061,
          0.093,
          0.236,
          0.137,
          0.128,
          0.689,
          0.03,
          0.033,
          0.885,
          0.506,
          0.553,
          0.09,
          0.127,
          0.552,
          0.679,
          0.414,
          0.759,
          0.641,
          0.066,
          0.806,
          0.053,
          0.072,
          0.599,
          0.449,
          0.352,
          0.294,
          0.019,
          0.034,
          0.696,
          0.851,
          0.277,
          0.151,
          0.505,
          0.206,
          0.654,
          0.874,
          0.797,
          0.247,
          0.123,
          0.156,
          0.3806678445229682,
          0.233,
          0.249,
          0.513,
          0.314,
          0.71,
          0.065,
          0.061,
          0.093,
          0.233,
          0.249,
          0.513,
          0.314,
          0.71,
          0.065,
          0.061,
          0.093,
          0.236,
          0.137,
          0.128,
          0.689,
          0.03,
          0.033,
          0.885,
          0.506,
          0.553,
          0.09,
          0.127,
          0.552,
          0.679,
          0.414,
          0.759,
          0.641,
          0.066,
          0.233,
          0.249,
          0.513,
          0.314,
          0.71,
          0.065,
          0.061,
          0.093,
          0.236,
          0.137,
          0.128,
          0.689,
          0.71,
          0.065,
          0.061,
          0.093,
          0.236,
          0.137,
          0.128,
          0.689,
          0.137,
          0.137,
          0.9,
          0.546,
          1.131,
          0.851,
          0.277,
          0.151,
          0.505,
          0.206,
          0.654,
          0.874,
          0.797,
          0.247,
          0.123,
          0.156,
          0.236,
          0.233,
          0.249,
          0.513,
          0.314,
          0.71,
          0.065,
          0.061,
          0.093,
          0.236,
          0.137,
          0.128,
          0.689,
          0.03,
          0.033,
          0.885,
          0.506,
          0.553,
          0.09,
          0.127,
          0.552,
          0.679,
          0.414,
          0.759,
          0.641,
          0.066,
          0.806,
          0.053,
          0.072,
          0.599,
          0.449,
          0.352,
          0.294,
          0.019,
          0.034,
          0.696,
          0.851,
          0.277,
          0.151,
          0.505,
          0.206,
          0.654,
          0.874,
          0.797,
          0.247,
          0.123,
          0.156,
          0.3806678445229682,
          0.233,
          0.249,
          0.513,
          0.314,
          0.71,
          0.065,
          0.061,
          0.093,
          0.233,
          0.249,
          0.513,
          0.314,
          0.71,
          0.065,
          0.061,
          0.093,
          0.236,
          0.137,
          0.128,
          0.689,
          0.03,
          0.033,
          0.885,
          0.506,
          0.553,
          0.09,
          0.127,
          0.552,
          0.679,
          0.414,
          0.759,
          0.641,
          0.066,
          0.233,
          0.249,
          0.513,
          0.314,
          0.71,
          0.065,
          0.061,
          0.093,
          0.236,
          0.137,
          0.128,
          0.689,
          0.053,
          0.072,
          0.599,
          0.449,
          0.352,
          0.294,
          0.019,
          0.034,
          0.696,
          0.3806678445229682,
          0.081,
          0.161,
          0.882,
          0.656,
          0.083,
          0.027,
          0.639,
          0.702,
          0.157,
          1.366,
          1.046,
          0.218,
          0.116,
          0.026,
          0.116,
          0.053,
          0.072,
          0.599,
          0.449,
          0.352,
          0.294,
          0.019,
          0.034,
          0.696,
          0.3806678445229682,
          0.081,
          0.161,
          0.882,
          0.656,
          0.083,
          0.027,
          0.639,
          0.702,
          0.157,
          1.366,
          1.046,
          0.218,
          0.116,
          0.026,
          0.116,
          0.053,
          0.072,
          0.599,
          0.449,
          0.352,
          0.294,
          0.019,
          0.034,
          0.696,
          0.3806678445229682,
          0.081,
          0.161,
          0.882,
          0.656,
          0.083,
          0.027,
          0.639,
          0.702,
          0.157,
          1.366,
          1.046,
          0.218,
          0.116,
          0.026,
          0.116,
          0.157,
          1.366,
          1.046
         ],
         "yaxis": "y"
        }
       ],
       "layout": {
        "autosize": true,
        "barmode": "relative",
        "coloraxis": {
         "colorbar": {
          "title": {
           "text": "color"
          }
         },
         "colorscale": [
          [
           0,
           "#0d0887"
          ],
          [
           0.1111111111111111,
           "#46039f"
          ],
          [
           0.2222222222222222,
           "#7201a8"
          ],
          [
           0.3333333333333333,
           "#9c179e"
          ],
          [
           0.4444444444444444,
           "#bd3786"
          ],
          [
           0.5555555555555556,
           "#d8576b"
          ],
          [
           0.6666666666666666,
           "#ed7953"
          ],
          [
           0.7777777777777778,
           "#fb9f3a"
          ],
          [
           0.8888888888888888,
           "#fdca26"
          ],
          [
           1,
           "#f0f921"
          ]
         ]
        },
        "legend": {
         "tracegroupgap": 0
        },
        "template": {
         "data": {
          "bar": [
           {
            "error_x": {
             "color": "#2a3f5f"
            },
            "error_y": {
             "color": "#2a3f5f"
            },
            "marker": {
             "line": {
              "color": "#E5ECF6",
              "width": 0.5
             },
             "pattern": {
              "fillmode": "overlay",
              "size": 10,
              "solidity": 0.2
             }
            },
            "type": "bar"
           }
          ],
          "barpolar": [
           {
            "marker": {
             "line": {
              "color": "#E5ECF6",
              "width": 0.5
             },
             "pattern": {
              "fillmode": "overlay",
              "size": 10,
              "solidity": 0.2
             }
            },
            "type": "barpolar"
           }
          ],
          "carpet": [
           {
            "aaxis": {
             "endlinecolor": "#2a3f5f",
             "gridcolor": "white",
             "linecolor": "white",
             "minorgridcolor": "white",
             "startlinecolor": "#2a3f5f"
            },
            "baxis": {
             "endlinecolor": "#2a3f5f",
             "gridcolor": "white",
             "linecolor": "white",
             "minorgridcolor": "white",
             "startlinecolor": "#2a3f5f"
            },
            "type": "carpet"
           }
          ],
          "choropleth": [
           {
            "colorbar": {
             "outlinewidth": 0,
             "ticks": ""
            },
            "type": "choropleth"
           }
          ],
          "contour": [
           {
            "colorbar": {
             "outlinewidth": 0,
             "ticks": ""
            },
            "colorscale": [
             [
              0,
              "#0d0887"
             ],
             [
              0.1111111111111111,
              "#46039f"
             ],
             [
              0.2222222222222222,
              "#7201a8"
             ],
             [
              0.3333333333333333,
              "#9c179e"
             ],
             [
              0.4444444444444444,
              "#bd3786"
             ],
             [
              0.5555555555555556,
              "#d8576b"
             ],
             [
              0.6666666666666666,
              "#ed7953"
             ],
             [
              0.7777777777777778,
              "#fb9f3a"
             ],
             [
              0.8888888888888888,
              "#fdca26"
             ],
             [
              1,
              "#f0f921"
             ]
            ],
            "type": "contour"
           }
          ],
          "contourcarpet": [
           {
            "colorbar": {
             "outlinewidth": 0,
             "ticks": ""
            },
            "type": "contourcarpet"
           }
          ],
          "heatmap": [
           {
            "colorbar": {
             "outlinewidth": 0,
             "ticks": ""
            },
            "colorscale": [
             [
              0,
              "#0d0887"
             ],
             [
              0.1111111111111111,
              "#46039f"
             ],
             [
              0.2222222222222222,
              "#7201a8"
             ],
             [
              0.3333333333333333,
              "#9c179e"
             ],
             [
              0.4444444444444444,
              "#bd3786"
             ],
             [
              0.5555555555555556,
              "#d8576b"
             ],
             [
              0.6666666666666666,
              "#ed7953"
             ],
             [
              0.7777777777777778,
              "#fb9f3a"
             ],
             [
              0.8888888888888888,
              "#fdca26"
             ],
             [
              1,
              "#f0f921"
             ]
            ],
            "type": "heatmap"
           }
          ],
          "heatmapgl": [
           {
            "colorbar": {
             "outlinewidth": 0,
             "ticks": ""
            },
            "colorscale": [
             [
              0,
              "#0d0887"
             ],
             [
              0.1111111111111111,
              "#46039f"
             ],
             [
              0.2222222222222222,
              "#7201a8"
             ],
             [
              0.3333333333333333,
              "#9c179e"
             ],
             [
              0.4444444444444444,
              "#bd3786"
             ],
             [
              0.5555555555555556,
              "#d8576b"
             ],
             [
              0.6666666666666666,
              "#ed7953"
             ],
             [
              0.7777777777777778,
              "#fb9f3a"
             ],
             [
              0.8888888888888888,
              "#fdca26"
             ],
             [
              1,
              "#f0f921"
             ]
            ],
            "type": "heatmapgl"
           }
          ],
          "histogram": [
           {
            "marker": {
             "pattern": {
              "fillmode": "overlay",
              "size": 10,
              "solidity": 0.2
             }
            },
            "type": "histogram"
           }
          ],
          "histogram2d": [
           {
            "colorbar": {
             "outlinewidth": 0,
             "ticks": ""
            },
            "colorscale": [
             [
              0,
              "#0d0887"
             ],
             [
              0.1111111111111111,
              "#46039f"
             ],
             [
              0.2222222222222222,
              "#7201a8"
             ],
             [
              0.3333333333333333,
              "#9c179e"
             ],
             [
              0.4444444444444444,
              "#bd3786"
             ],
             [
              0.5555555555555556,
              "#d8576b"
             ],
             [
              0.6666666666666666,
              "#ed7953"
             ],
             [
              0.7777777777777778,
              "#fb9f3a"
             ],
             [
              0.8888888888888888,
              "#fdca26"
             ],
             [
              1,
              "#f0f921"
             ]
            ],
            "type": "histogram2d"
           }
          ],
          "histogram2dcontour": [
           {
            "colorbar": {
             "outlinewidth": 0,
             "ticks": ""
            },
            "colorscale": [
             [
              0,
              "#0d0887"
             ],
             [
              0.1111111111111111,
              "#46039f"
             ],
             [
              0.2222222222222222,
              "#7201a8"
             ],
             [
              0.3333333333333333,
              "#9c179e"
             ],
             [
              0.4444444444444444,
              "#bd3786"
             ],
             [
              0.5555555555555556,
              "#d8576b"
             ],
             [
              0.6666666666666666,
              "#ed7953"
             ],
             [
              0.7777777777777778,
              "#fb9f3a"
             ],
             [
              0.8888888888888888,
              "#fdca26"
             ],
             [
              1,
              "#f0f921"
             ]
            ],
            "type": "histogram2dcontour"
           }
          ],
          "mesh3d": [
           {
            "colorbar": {
             "outlinewidth": 0,
             "ticks": ""
            },
            "type": "mesh3d"
           }
          ],
          "parcoords": [
           {
            "line": {
             "colorbar": {
              "outlinewidth": 0,
              "ticks": ""
             }
            },
            "type": "parcoords"
           }
          ],
          "pie": [
           {
            "automargin": true,
            "type": "pie"
           }
          ],
          "scatter": [
           {
            "fillpattern": {
             "fillmode": "overlay",
             "size": 10,
             "solidity": 0.2
            },
            "type": "scatter"
           }
          ],
          "scatter3d": [
           {
            "line": {
             "colorbar": {
              "outlinewidth": 0,
              "ticks": ""
             }
            },
            "marker": {
             "colorbar": {
              "outlinewidth": 0,
              "ticks": ""
             }
            },
            "type": "scatter3d"
           }
          ],
          "scattercarpet": [
           {
            "marker": {
             "colorbar": {
              "outlinewidth": 0,
              "ticks": ""
             }
            },
            "type": "scattercarpet"
           }
          ],
          "scattergeo": [
           {
            "marker": {
             "colorbar": {
              "outlinewidth": 0,
              "ticks": ""
             }
            },
            "type": "scattergeo"
           }
          ],
          "scattergl": [
           {
            "marker": {
             "colorbar": {
              "outlinewidth": 0,
              "ticks": ""
             }
            },
            "type": "scattergl"
           }
          ],
          "scattermapbox": [
           {
            "marker": {
             "colorbar": {
              "outlinewidth": 0,
              "ticks": ""
             }
            },
            "type": "scattermapbox"
           }
          ],
          "scatterpolar": [
           {
            "marker": {
             "colorbar": {
              "outlinewidth": 0,
              "ticks": ""
             }
            },
            "type": "scatterpolar"
           }
          ],
          "scatterpolargl": [
           {
            "marker": {
             "colorbar": {
              "outlinewidth": 0,
              "ticks": ""
             }
            },
            "type": "scatterpolargl"
           }
          ],
          "scatterternary": [
           {
            "marker": {
             "colorbar": {
              "outlinewidth": 0,
              "ticks": ""
             }
            },
            "type": "scatterternary"
           }
          ],
          "surface": [
           {
            "colorbar": {
             "outlinewidth": 0,
             "ticks": ""
            },
            "colorscale": [
             [
              0,
              "#0d0887"
             ],
             [
              0.1111111111111111,
              "#46039f"
             ],
             [
              0.2222222222222222,
              "#7201a8"
             ],
             [
              0.3333333333333333,
              "#9c179e"
             ],
             [
              0.4444444444444444,
              "#bd3786"
             ],
             [
              0.5555555555555556,
              "#d8576b"
             ],
             [
              0.6666666666666666,
              "#ed7953"
             ],
             [
              0.7777777777777778,
              "#fb9f3a"
             ],
             [
              0.8888888888888888,
              "#fdca26"
             ],
             [
              1,
              "#f0f921"
             ]
            ],
            "type": "surface"
           }
          ],
          "table": [
           {
            "cells": {
             "fill": {
              "color": "#EBF0F8"
             },
             "line": {
              "color": "white"
             }
            },
            "header": {
             "fill": {
              "color": "#C8D4E3"
             },
             "line": {
              "color": "white"
             }
            },
            "type": "table"
           }
          ]
         },
         "layout": {
          "annotationdefaults": {
           "arrowcolor": "#2a3f5f",
           "arrowhead": 0,
           "arrowwidth": 1
          },
          "autotypenumbers": "strict",
          "coloraxis": {
           "colorbar": {
            "outlinewidth": 0,
            "ticks": ""
           }
          },
          "colorscale": {
           "diverging": [
            [
             0,
             "#8e0152"
            ],
            [
             0.1,
             "#c51b7d"
            ],
            [
             0.2,
             "#de77ae"
            ],
            [
             0.3,
             "#f1b6da"
            ],
            [
             0.4,
             "#fde0ef"
            ],
            [
             0.5,
             "#f7f7f7"
            ],
            [
             0.6,
             "#e6f5d0"
            ],
            [
             0.7,
             "#b8e186"
            ],
            [
             0.8,
             "#7fbc41"
            ],
            [
             0.9,
             "#4d9221"
            ],
            [
             1,
             "#276419"
            ]
           ],
           "sequential": [
            [
             0,
             "#0d0887"
            ],
            [
             0.1111111111111111,
             "#46039f"
            ],
            [
             0.2222222222222222,
             "#7201a8"
            ],
            [
             0.3333333333333333,
             "#9c179e"
            ],
            [
             0.4444444444444444,
             "#bd3786"
            ],
            [
             0.5555555555555556,
             "#d8576b"
            ],
            [
             0.6666666666666666,
             "#ed7953"
            ],
            [
             0.7777777777777778,
             "#fb9f3a"
            ],
            [
             0.8888888888888888,
             "#fdca26"
            ],
            [
             1,
             "#f0f921"
            ]
           ],
           "sequentialminus": [
            [
             0,
             "#0d0887"
            ],
            [
             0.1111111111111111,
             "#46039f"
            ],
            [
             0.2222222222222222,
             "#7201a8"
            ],
            [
             0.3333333333333333,
             "#9c179e"
            ],
            [
             0.4444444444444444,
             "#bd3786"
            ],
            [
             0.5555555555555556,
             "#d8576b"
            ],
            [
             0.6666666666666666,
             "#ed7953"
            ],
            [
             0.7777777777777778,
             "#fb9f3a"
            ],
            [
             0.8888888888888888,
             "#fdca26"
            ],
            [
             1,
             "#f0f921"
            ]
           ]
          },
          "colorway": [
           "#636efa",
           "#EF553B",
           "#00cc96",
           "#ab63fa",
           "#FFA15A",
           "#19d3f3",
           "#FF6692",
           "#B6E880",
           "#FF97FF",
           "#FECB52"
          ],
          "font": {
           "color": "#2a3f5f"
          },
          "geo": {
           "bgcolor": "white",
           "lakecolor": "white",
           "landcolor": "#E5ECF6",
           "showlakes": true,
           "showland": true,
           "subunitcolor": "white"
          },
          "hoverlabel": {
           "align": "left"
          },
          "hovermode": "closest",
          "mapbox": {
           "style": "light"
          },
          "paper_bgcolor": "white",
          "plot_bgcolor": "#E5ECF6",
          "polar": {
           "angularaxis": {
            "gridcolor": "white",
            "linecolor": "white",
            "ticks": ""
           },
           "bgcolor": "#E5ECF6",
           "radialaxis": {
            "gridcolor": "white",
            "linecolor": "white",
            "ticks": ""
           }
          },
          "scene": {
           "xaxis": {
            "backgroundcolor": "#E5ECF6",
            "gridcolor": "white",
            "gridwidth": 2,
            "linecolor": "white",
            "showbackground": true,
            "ticks": "",
            "zerolinecolor": "white"
           },
           "yaxis": {
            "backgroundcolor": "#E5ECF6",
            "gridcolor": "white",
            "gridwidth": 2,
            "linecolor": "white",
            "showbackground": true,
            "ticks": "",
            "zerolinecolor": "white"
           },
           "zaxis": {
            "backgroundcolor": "#E5ECF6",
            "gridcolor": "white",
            "gridwidth": 2,
            "linecolor": "white",
            "showbackground": true,
            "ticks": "",
            "zerolinecolor": "white"
           }
          },
          "shapedefaults": {
           "line": {
            "color": "#2a3f5f"
           }
          },
          "ternary": {
           "aaxis": {
            "gridcolor": "white",
            "linecolor": "white",
            "ticks": ""
           },
           "baxis": {
            "gridcolor": "white",
            "linecolor": "white",
            "ticks": ""
           },
           "bgcolor": "#E5ECF6",
           "caxis": {
            "gridcolor": "white",
            "linecolor": "white",
            "ticks": ""
           }
          },
          "title": {
           "x": 0.05
          },
          "xaxis": {
           "automargin": true,
           "gridcolor": "white",
           "linecolor": "white",
           "ticks": "",
           "title": {
            "standoff": 15
           },
           "zerolinecolor": "white",
           "zerolinewidth": 2
          },
          "yaxis": {
           "automargin": true,
           "gridcolor": "white",
           "linecolor": "white",
           "ticks": "",
           "title": {
            "standoff": 15
           },
           "zerolinecolor": "white",
           "zerolinewidth": 2
          }
         }
        },
        "title": {
         "text": "World Literacy Rates of year 2021-23"
        },
        "xaxis": {
         "anchor": "y",
         "autorange": true,
         "domain": [
          0,
          1
         ],
         "range": [
          -0.5,
          194.5
         ],
         "title": {
          "text": "x"
         },
         "type": "category"
        },
        "yaxis": {
         "anchor": "x",
         "autorange": true,
         "domain": [
          0,
          1
         ],
         "range": [
          0,
          2.8410526315789473
         ],
         "title": {
          "text": "y"
         },
         "type": "linear"
        }
       }
      },
      "image/png": "[encoded data removed]",
      "text/html": [
       "<div>                            <div id=\"9c633472-9db5-4b40-beeb-a464f0a08fda\" class=\"plotly-graph-div\" style=\"height:525px; width:100%;\"></div>            <script type=\"text/javascript\">                require([\"plotly\"], function(Plotly) {                    window.PLOTLYENV=window.PLOTLYENV || {};                                    if (document.getElementById(\"9c633472-9db5-4b40-beeb-a464f0a08fda\")) {                    Plotly.newPlot(                        \"9c633472-9db5-4b40-beeb-a464f0a08fda\",                        [{\"alignmentgroup\":\"True\",\"hovertemplate\":\"x=%{x}\\u003cbr\\u003ey=%{y}\\u003cbr\\u003ecolor=%{marker.color}\\u003cextra\\u003e\\u003c\\u002fextra\\u003e\",\"legendgroup\":\"\",\"marker\":{\"color\":[2022,2022,2022,2022,2022,2022,2022,2022,2022,2022,2022,2022,2022,2022,2022,2022,2022,2022,2022,2022,2022,2022,2022,2022,2022,2022,2022,2022,2022,2022,2022,2022,2022,2022,2022,2022,2022,2022,2022,2022,2022,2022,2022,2022,2022,2022,2022,2022,2022,2022,2022,2022,2022,2022,2022,2022,2022,2022,2022,2022,2022,2022,2022,2022,2022,2022,2022,2022,2022,2022,2022,2022,2022,2022,2022,2022,2022,2022,2022,2022,2022,2022,2022,2022,2022,2022,2022,2022,2022,2022,2022,2022,2022,2022,2022,2022,2022,2022,2022,2022,2022,2022,2022,2022,2022,2022,2022,2022,2022,2022,2022,2022,2022,2022,2022,2022,2022,2022,2022,2022,2022,2022,2022,2022,2022,2022,2022,2022,2022,2022,2022,2022,2022,2022,2022,2022,2022,2022,2022,2022,2022,2022,2022,2022,2022,2022,2022,2022,2022,2022,2022,2022,2022,2022,2022,2022,2022,2022,2022,2022,2022,2022,2022,2022,2022,2022,2022,2022,2022,2022,2022,2022,2022,2022,2022,2022,2022,2022,2022,2022,2022,2022,2022,2022,2022,2022,2022,2022,2022,2022,2022,2022,2022,2022,2022,2023,2023,2023,2023,2023,2023,2023,2023,2023,2023,2023,2023,2023,2023,2023,2023,2023,2023,2023,2023,2023,2023,2023,2023,2023,2023,2023,2023,2023,2023,2023,2023,2023,2023,2023,2023,2023,2023,2023,2023,2023,2023,2023,2023,2023,2023,2023,2023,2023,2023,2023,2023,2023,2023,2023,2023,2023,2023,2023,2023,2023,2023,2023,2023,2023,2023,2023,2023,2023,2023,2023,2023,2023,2023,2023,2023,2023,2023,2023,2023,2023,2023,2023,2023,2023,2023,2023,2023,2023,2023,2023,2023,2023,2023,2023,2023,2023,2023,2023,2023,2023,2023,2023,2023,2023,2023,2023,2023,2023,2023,2023,2023,2023,2023,2023,2023,2023,2023,2023,2023,2023,2023,2023,2023,2023,2023,2023,2023,2023,2023,2023,2023,2023,2023,2023,2023,2023,2023,2023,2023,2023,2023,2023,2023,2023,2023,2023,2023,2023,2023,2023,2023,2023,2023,2023,2023,2023,2023,2023,2023,2023,2023,2023,2023,2023,2023,2023,2023,2023,2023,2023,2023,2023,2023,2023,2023,2023,2023,2023,2023,2023,2023,2023,2023,2023,2023,2023,2023,2023,2023,2023,2023,2023,2023,2023,2021,2021,2021,2021,2021,2021,2021,2021,2021,2021,2021,2021,2021,2021,2021,2021,2021,2021,2021,2021,2021,2021,2021,2021,2021,2021,2021,2021,2021,2021,2021,2021,2021,2021,2021,2021,2021,2021,2021,2021,2021,2021,2021,2021,2021,2021,2021,2021,2021,2021,2021,2021,2021,2021,2021,2021,2021,2021,2021,2021,2021,2021,2021,2021,2021,2021,2021,2021,2021,2021,2021,2021,2021,2021,2021,2021,2021,2021,2021,2021,2021,2021,2021,2021,2021,2021,2021,2021,2021,2021,2021,2021,2021,2021,2021,2021,2021,2021,2021,2021,2021,2021,2021,2021,2021,2021,2021,2021,2021,2021,2021,2021,2021,2021,2021,2021,2021,2021,2021,2021,2021,2021,2021,2021,2021,2021,2021,2021,2021,2021,2021,2021,2021,2021,2021,2021,2021,2021,2021,2021,2021,2021,2021,2021,2021,2021,2021,2021,2021,2021,2021,2021,2021,2021,2021,2021,2021,2021,2021,2021,2021,2021,2021,2021,2021,2021,2021,2021,2021,2021,2021,2021,2021,2021,2021,2021,2021,2021,2021,2021,2021,2021,2021,2021,2021,2021,2021,2021,2021,2021,2021,2021,2021,2021,2021],\"coloraxis\":\"coloraxis\",\"pattern\":{\"shape\":\"\"}},\"name\":\"\",\"offsetgroup\":\"\",\"orientation\":\"v\",\"showlegend\":false,\"textposition\":\"auto\",\"x\":[\"Afghanistan\",\"Albania\",\"Algeria\",\"Andorra\",\"Angola\",\"Antigua and Barbuda\",\"Argentina\",\"Armenia\",\"Australia\",\"Austria\",\"Azerbaijan\",\"The Bahamas\",\"Bahrain\",\"Bangladesh\",\"Barbados\",\"Belarus\",\"Belgium\",\"Belize\",\"Benin\",\"Bhutan\",\"Bolivia\",\"Bosnia and Herzegovina\",\"Botswana\",\"Brazil\",\"Brunei\",\"Bulgaria\",\"Burkina Faso\",\"Burundi\",\"Ivory Coast\",\"Cape Verde\",\"Cambodia\",\"Cameroon\",\"Canada\",\"Central African Republic\",\"Chad\",\"Chile\",\"China\",\"Colombia\",\"Comoros\",\"Republic of the Congo\",\"Costa Rica\",\"Croatia\",\"Cuba\",\"Cyprus\",\"Czech Republic\",\"Democratic Republic of the Congo\",\"Denmark\",\"Djibouti\",\"Dominica\",\"Dominican Republic\",\"Ecuador\",\"Egypt\",\"El Salvador\",\"Equatorial Guinea\",\"Eritrea\",\"Estonia\",\"Eswatini\",\"Ethiopia\",\"Fiji\",\"Finland\",\"France\",\"Gabon\",\"The Gambia\",\"Georgia\",\"Germany\",\"Ghana\",\"Greece\",\"Grenada\",\"Guatemala\",\"Guinea\",\"Guinea-Bissau\",\"Guyana\",\"Haiti\",\"Vatican City\",\"Honduras\",\"Hungary\",\"Iceland\",\"India\",\"Indonesia\",\"Iran\",\"Iraq\",\"Republic of Ireland\",\"Israel\",\"Italy\",\"Jamaica\",\"Japan\",\"Jordan\",\"Kazakhstan\",\"Kenya\",\"Kiribati\",\"Kuwait\",\"Kyrgyzstan\",\"Laos\",\"Latvia\",\"Lebanon\",\"Lesotho\",\"Liberia\",\"Libya\",\"Liechtenstein\",\"Lithuania\",\"Luxembourg\",\"Madagascar\",\"Malawi\",\"Malaysia\",\"Maldives\",\"Mali\",\"Malta\",\"Marshall Islands\",\"Mauritania\",\"Mauritius\",\"Mexico\",\"Federated States of Micronesia\",\"Moldova\",\"Monaco\",\"Mongolia\",\"Montenegro\",\"Morocco\",\"Mozambique\",\"Myanmar\",\"Namibia\",\"Nauru\",\"Nepal\",\"Netherlands\",\"New Zealand\",\"Nicaragua\",\"Niger\",\"Nigeria\",\"North Korea\",\"North Macedonia\",\"Norway\",\"Oman\",\"Pakistan\",\"Palau\",\"Palestinian National Authority\",\"Panama\",\"Papua New Guinea\",\"Paraguay\",\"Peru\",\"Philippines\",\"Poland\",\"Portugal\",\"Qatar\",\"Romania\",\"Russia\",\"Rwanda\",\"Saint Kitts and Nevis\",\"Saint Lucia\",\"Saint Vincent and the Grenadines\",\"Samoa\",\"San Marino\",\"S\\u00ef\\u00bf\\u00bd\\u00ef\\u00bf\\u00bd\\u00ef\\u00bf\\u00bd\\u00ef\\u00bf\\u00bd\\u00ef\\u00bf\\u00bd\\u00ef\\u00bf\\u00bd\\u00ef\\u00bf\\u00bd\\u00ef\\u00bf\\u00bd\\u00ef\\u00bf\\u00bd\\u00ef\\u00bf\\u00bd\\u00ef\\u00bf\\u00bd\",\"Saudi Arabia\",\"Senegal\",\"Serbia\",\"Seychelles\",\"Sierra Leone\",\"Singapore\",\"Slovakia\",\"Slovenia\",\"Solomon Islands\",\"Somalia\",\"South Africa\",\"South Korea\",\"South Sudan\",\"Spain\",\"Sri Lanka\",\"Sudan\",\"Suriname\",\"Sweden\",\"Switzerland\",\"Syria\",\"Tajikistan\",\"Tanzania\",\"Thailand\",\"East Timor\",\"Togo\",\"Tonga\",\"Trinidad and Tobago\",\"Tunisia\",\"Turkey\",\"Turkmenistan\",\"Tuvalu\",\"Uganda\",\"Ukraine\",\"United Arab Emirates\",\"United Kingdom\",\"United States\",\"Uruguay\",\"Uzbekistan\",\"Vanuatu\",\"Venezuela\",\"Vietnam\",\"Yemen\",\"Zambia\",\"Zimbabwe\",\"Afghanistan\",\"Albania\",\"Algeria\",\"Andorra\",\"Angola\",\"Antigua and Barbuda\",\"Argentina\",\"Armenia\",\"Australia\",\"Austria\",\"Azerbaijan\",\"The Bahamas\",\"Bahrain\",\"Bangladesh\",\"Barbados\",\"Belarus\",\"Belgium\",\"Belize\",\"Benin\",\"Bhutan\",\"Bolivia\",\"Bosnia and Herzegovina\",\"Botswana\",\"Brazil\",\"Brunei\",\"Bulgaria\",\"Burkina Faso\",\"Burundi\",\"Ivory Coast\",\"Cape Verde\",\"Cambodia\",\"Cameroon\",\"Canada\",\"Central African Republic\",\"Chad\",\"Chile\",\"China\",\"Colombia\",\"Comoros\",\"Republic of the Congo\",\"Costa Rica\",\"Croatia\",\"Cuba\",\"Cyprus\",\"Czech Republic\",\"Democratic Republic of the Congo\",\"Denmark\",\"Djibouti\",\"Dominica\",\"Dominican Republic\",\"Ecuador\",\"Egypt\",\"El Salvador\",\"Equatorial Guinea\",\"Eritrea\",\"Estonia\",\"Eswatini\",\"Ethiopia\",\"Fiji\",\"Finland\",\"France\",\"Gabon\",\"The Gambia\",\"Georgia\",\"Germany\",\"Ghana\",\"Greece\",\"Grenada\",\"Guatemala\",\"Guinea\",\"Guinea-Bissau\",\"Guyana\",\"Haiti\",\"Vatican City\",\"Honduras\",\"Hungary\",\"Iceland\",\"India\",\"Indonesia\",\"Iran\",\"Iraq\",\"Republic of Ireland\",\"Israel\",\"Italy\",\"Jamaica\",\"Japan\",\"Jordan\",\"Kazakhstan\",\"Kenya\",\"Kiribati\",\"Kuwait\",\"Kyrgyzstan\",\"Laos\",\"Latvia\",\"Lebanon\",\"Lesotho\",\"Liberia\",\"Libya\",\"Liechtenstein\",\"Lithuania\",\"Luxembourg\",\"Madagascar\",\"Malawi\",\"Malaysia\",\"Maldives\",\"Mali\",\"Malta\",\"Marshall Islands\",\"Mauritania\",\"Mauritius\",\"Mexico\",\"Federated States of Micronesia\",\"Moldova\",\"Monaco\",\"Mongolia\",\"Montenegro\",\"Morocco\",\"Mozambique\",\"Myanmar\",\"Namibia\",\"Nauru\",\"Nepal\",\"Netherlands\",\"New Zealand\",\"Nicaragua\",\"Niger\",\"Nigeria\",\"North Korea\",\"North Macedonia\",\"Norway\",\"Oman\",\"Pakistan\",\"Palau\",\"Palestinian National Authority\",\"Panama\",\"Papua New Guinea\",\"Paraguay\",\"Peru\",\"Philippines\",\"Poland\",\"Portugal\",\"Qatar\",\"Romania\",\"Russia\",\"Rwanda\",\"Saint Kitts and Nevis\",\"Saint Lucia\",\"Saint Vincent and the Grenadines\",\"Samoa\",\"San Marino\",\"S\\u00ef\\u00bf\\u00bd\\u00ef\\u00bf\\u00bd\\u00ef\\u00bf\\u00bd\\u00ef\\u00bf\\u00bd\\u00ef\\u00bf\\u00bd\\u00ef\\u00bf\\u00bd\\u00ef\\u00bf\\u00bd\\u00ef\\u00bf\\u00bd\\u00ef\\u00bf\\u00bd\\u00ef\\u00bf\\u00bd\\u00ef\\u00bf\\u00bd\",\"Saudi Arabia\",\"Senegal\",\"Serbia\",\"Seychelles\",\"Sierra Leone\",\"Singapore\",\"Slovakia\",\"Slovenia\",\"Solomon Islands\",\"Somalia\",\"South Africa\",\"South Korea\",\"South Sudan\",\"Spain\",\"Sri Lanka\",\"Sudan\",\"Suriname\",\"Sweden\",\"Switzerland\",\"Syria\",\"Tajikistan\",\"Tanzania\",\"Thailand\",\"East Timor\",\"Togo\",\"Tonga\",\"Trinidad and Tobago\",\"Tunisia\",\"Turkey\",\"Turkmenistan\",\"Tuvalu\",\"Uganda\",\"Ukraine\",\"United Arab Emirates\",\"United Kingdom\",\"United States\",\"Uruguay\",\"Uzbekistan\",\"Vanuatu\",\"Venezuela\",\"Vietnam\",\"Yemen\",\"Zambia\",\"Zimbabwe\",\"Afghanistan\",\"Albania\",\"Algeria\",\"Andorra\",\"Angola\",\"Antigua and Barbuda\",\"Argentina\",\"Armenia\",\"Australia\",\"Austria\",\"Azerbaijan\",\"The Bahamas\",\"Bahrain\",\"Bangladesh\",\"Barbados\",\"Belarus\",\"Belgium\",\"Belize\",\"Benin\",\"Bhutan\",\"Bolivia\",\"Bosnia and Herzegovina\",\"Botswana\",\"Brazil\",\"Brunei\",\"Bulgaria\",\"Burkina Faso\",\"Burundi\",\"Ivory Coast\",\"Cape Verde\",\"Cambodia\",\"Cameroon\",\"Canada\",\"Central African Republic\",\"Chad\",\"Chile\",\"China\",\"Colombia\",\"Comoros\",\"Republic of the Congo\",\"Costa Rica\",\"Croatia\",\"Cuba\",\"Cyprus\",\"Czech Republic\",\"Democratic Republic of the Congo\",\"Denmark\",\"Djibouti\",\"Dominica\",\"Dominican Republic\",\"Ecuador\",\"Egypt\",\"El Salvador\",\"Equatorial Guinea\",\"Eritrea\",\"Estonia\",\"Eswatini\",\"Ethiopia\",\"Fiji\",\"Finland\",\"France\",\"Gabon\",\"The Gambia\",\"Georgia\",\"Germany\",\"Ghana\",\"Greece\",\"Grenada\",\"Guatemala\",\"Guinea\",\"Guinea-Bissau\",\"Guyana\",\"Haiti\",\"Vatican City\",\"Honduras\",\"Hungary\",\"Iceland\",\"India\",\"Indonesia\",\"Iran\",\"Iraq\",\"Republic of Ireland\",\"Israel\",\"Italy\",\"Jamaica\",\"Japan\",\"Jordan\",\"Kazakhstan\",\"Kenya\",\"Kiribati\",\"Kuwait\",\"Kyrgyzstan\",\"Laos\",\"Latvia\",\"Lebanon\",\"Lesotho\",\"Liberia\",\"Libya\",\"Liechtenstein\",\"Lithuania\",\"Luxembourg\",\"Madagascar\",\"Malawi\",\"Malaysia\",\"Maldives\",\"Mali\",\"Malta\",\"Marshall Islands\",\"Mauritania\",\"Mauritius\",\"Mexico\",\"Federated States of Micronesia\",\"Moldova\",\"Monaco\",\"Mongolia\",\"Montenegro\",\"Morocco\",\"Mozambique\",\"Myanmar\",\"Namibia\",\"Nauru\",\"Nepal\",\"Netherlands\",\"New Zealand\",\"Nicaragua\",\"Niger\",\"Nigeria\",\"North Korea\",\"North Macedonia\",\"Norway\",\"Oman\",\"Pakistan\",\"Palau\",\"Palestinian National Authority\",\"Panama\",\"Papua New Guinea\",\"Paraguay\",\"Peru\",\"Philippines\",\"Poland\",\"Portugal\",\"Qatar\",\"Romania\",\"Russia\",\"Rwanda\",\"Saint Kitts and Nevis\",\"Saint Lucia\",\"Saint Vincent and the Grenadines\",\"Samoa\",\"San Marino\",\"S\\u00ef\\u00bf\\u00bd\\u00ef\\u00bf\\u00bd\\u00ef\\u00bf\\u00bd\\u00ef\\u00bf\\u00bd\\u00ef\\u00bf\\u00bd\\u00ef\\u00bf\\u00bd\\u00ef\\u00bf\\u00bd\\u00ef\\u00bf\\u00bd\\u00ef\\u00bf\\u00bd\\u00ef\\u00bf\\u00bd\\u00ef\\u00bf\\u00bd\",\"Saudi Arabia\",\"Senegal\",\"Serbia\",\"Seychelles\",\"Sierra Leone\",\"Singapore\",\"Slovakia\",\"Slovenia\",\"Solomon Islands\",\"Somalia\",\"South Africa\",\"South Korea\",\"South Sudan\",\"Spain\",\"Sri Lanka\",\"Sudan\",\"Suriname\",\"Sweden\",\"Switzerland\",\"Syria\",\"Tajikistan\",\"Tanzania\",\"Thailand\",\"East Timor\",\"Togo\",\"Tonga\",\"Trinidad and Tobago\",\"Tunisia\",\"Turkey\",\"Turkmenistan\",\"Tuvalu\",\"Uganda\",\"Ukraine\",\"United Arab Emirates\",\"United Kingdom\",\"United States\",\"Uruguay\",\"Uzbekistan\",\"Vanuatu\",\"Venezuela\",\"Vietnam\",\"Yemen\",\"Zambia\",\"Zimbabwe\"],\"xaxis\":\"x\",\"y\":[0.097,0.55,0.514,0.3806678445229682,0.093,0.248,0.9,0.546,1.131,0.851,0.277,0.151,0.505,0.206,0.654,0.874,0.797,0.247,0.123,0.156,0.3806678445229682,0.233,0.249,0.513,0.314,0.71,0.065,0.061,0.093,0.236,0.137,0.128,0.689,0.03,0.033,0.885,0.506,0.553,0.09,0.127,0.552,0.679,0.414,0.759,0.641,0.066,0.806,0.053,0.072,0.599,0.449,0.352,0.294,0.019,0.034,0.696,0.3806678445229682,0.081,0.161,0.882,0.656,0.083,0.027,0.639,0.702,0.157,1.366,1.046,0.218,0.116,0.026,0.116,0.011,0.3806678445229682,0.262,0.485,0.718,0.281,0.363,0.681,0.162,0.778,0.634,0.619,0.271,0.632,0.344,0.617,0.115,0.3806678445229682,0.544,0.413,0.15,0.881,0.263,0.102,0.119,0.605,0.356,0.724,0.192,0.054,0.008,0.451,0.312,0.045,0.543,0.237,0.05,0.406,0.402,0.141,0.398,0.3806678445229682,0.656,0.561,0.359,0.073,0.188,0.229,0.3806678445229682,0.124,0.85,0.82,0.174,0.044,0.102,0.27,0.3806678445229682,0.82,0.38,0.09,0.547,0.3806678445229682,0.478,0.018,0.346,0.707,0.355,0.678,0.639,0.179,0.494,0.819,0.067,0.867,0.141,0.237,0.076,0.425,0.134,0.68,0.128,0.672,0.171,0.02,0.848,0.466,0.786,0.3806678445229682,0.025,0.224,0.943,0.3806678445229682,0.889,0.196,0.169,0.126,0.67,0.596,0.401,0.313,0.04,0.493,0.178,0.145,0.064,0.12,0.317,0.239,0.08,0.3806678445229682,0.048,0.827,0.368,0.6,0.882,0.631,0.101,0.047,0.793,0.285,0.102,0.041,0.1,0.093,0.248,0.9,0.546,1.131,0.851,0.277,0.151,0.505,0.206,0.654,0.874,0.797,0.247,0.123,0.156,0.048,0.827,0.368,0.6,0.882,0.631,0.101,0.047,0.793,0.285,0.102,0.041,0.1,0.478,0.018,0.346,0.707,0.355,0.678,0.639,0.179,0.494,0.819,0.067,0.867,0.141,0.237,0.076,0.425,0.134,0.68,0.128,0.672,0.171,0.02,0.848,0.466,0.786,0.081,0.161,0.882,0.656,0.083,0.027,0.639,0.702,0.157,1.366,1.046,0.218,0.116,0.026,0.116,0.011,0.3806678445229682,0.262,0.485,0.718,0.281,0.363,0.681,0.162,0.778,0.634,0.619,0.271,0.632,0.344,0.617,0.115,0.093,0.248,0.9,0.546,1.131,0.851,0.277,0.151,0.505,0.206,0.654,0.874,0.797,0.247,0.123,0.156,0.3806678445229682,0.233,0.249,0.513,0.314,0.71,0.065,0.061,0.093,0.236,0.137,0.128,0.689,0.03,0.033,0.885,0.506,0.553,0.09,0.127,0.552,0.679,0.414,0.759,0.641,0.066,0.806,0.053,0.072,0.599,0.449,0.352,0.294,0.019,0.034,0.696,0.851,0.277,0.151,0.505,0.206,0.654,0.874,0.797,0.247,0.123,0.156,0.3806678445229682,0.233,0.249,0.513,0.314,0.71,0.065,0.061,0.093,0.233,0.249,0.513,0.314,0.71,0.065,0.061,0.093,0.236,0.137,0.128,0.689,0.03,0.033,0.885,0.506,0.553,0.09,0.127,0.552,0.679,0.414,0.759,0.641,0.066,0.233,0.249,0.513,0.314,0.71,0.065,0.061,0.093,0.236,0.137,0.128,0.689,0.71,0.065,0.061,0.093,0.236,0.137,0.128,0.689,0.137,0.137,0.9,0.546,1.131,0.851,0.277,0.151,0.505,0.206,0.654,0.874,0.797,0.247,0.123,0.156,0.236,0.233,0.249,0.513,0.314,0.71,0.065,0.061,0.093,0.236,0.137,0.128,0.689,0.03,0.033,0.885,0.506,0.553,0.09,0.127,0.552,0.679,0.414,0.759,0.641,0.066,0.806,0.053,0.072,0.599,0.449,0.352,0.294,0.019,0.034,0.696,0.851,0.277,0.151,0.505,0.206,0.654,0.874,0.797,0.247,0.123,0.156,0.3806678445229682,0.233,0.249,0.513,0.314,0.71,0.065,0.061,0.093,0.233,0.249,0.513,0.314,0.71,0.065,0.061,0.093,0.236,0.137,0.128,0.689,0.03,0.033,0.885,0.506,0.553,0.09,0.127,0.552,0.679,0.414,0.759,0.641,0.066,0.233,0.249,0.513,0.314,0.71,0.065,0.061,0.093,0.236,0.137,0.128,0.689,0.053,0.072,0.599,0.449,0.352,0.294,0.019,0.034,0.696,0.3806678445229682,0.081,0.161,0.882,0.656,0.083,0.027,0.639,0.702,0.157,1.366,1.046,0.218,0.116,0.026,0.116,0.053,0.072,0.599,0.449,0.352,0.294,0.019,0.034,0.696,0.3806678445229682,0.081,0.161,0.882,0.656,0.083,0.027,0.639,0.702,0.157,1.366,1.046,0.218,0.116,0.026,0.116,0.053,0.072,0.599,0.449,0.352,0.294,0.019,0.034,0.696,0.3806678445229682,0.081,0.161,0.882,0.656,0.083,0.027,0.639,0.702,0.157,1.366,1.046,0.218,0.116,0.026,0.116,0.157,1.366,1.046],\"yaxis\":\"y\",\"type\":\"bar\"}],                        {\"template\":{\"data\":{\"histogram2dcontour\":[{\"type\":\"histogram2dcontour\",\"colorbar\":{\"outlinewidth\":0,\"ticks\":\"\"},\"colorscale\":[[0.0,\"#0d0887\"],[0.1111111111111111,\"#46039f\"],[0.2222222222222222,\"#7201a8\"],[0.3333333333333333,\"#9c179e\"],[0.4444444444444444,\"#bd3786\"],[0.5555555555555556,\"#d8576b\"],[0.6666666666666666,\"#ed7953\"],[0.7777777777777778,\"#fb9f3a\"],[0.8888888888888888,\"#fdca26\"],[1.0,\"#f0f921\"]]}],\"choropleth\":[{\"type\":\"choropleth\",\"colorbar\":{\"outlinewidth\":0,\"ticks\":\"\"}}],\"histogram2d\":[{\"type\":\"histogram2d\",\"colorbar\":{\"outlinewidth\":0,\"ticks\":\"\"},\"colorscale\":[[0.0,\"#0d0887\"],[0.1111111111111111,\"#46039f\"],[0.2222222222222222,\"#7201a8\"],[0.3333333333333333,\"#9c179e\"],[0.4444444444444444,\"#bd3786\"],[0.5555555555555556,\"#d8576b\"],[0.6666666666666666,\"#ed7953\"],[0.7777777777777778,\"#fb9f3a\"],[0.8888888888888888,\"#fdca26\"],[1.0,\"#f0f921\"]]}],\"heatmap\":[{\"type\":\"heatmap\",\"colorbar\":{\"outlinewidth\":0,\"ticks\":\"\"},\"colorscale\":[[0.0,\"#0d0887\"],[0.1111111111111111,\"#46039f\"],[0.2222222222222222,\"#7201a8\"],[0.3333333333333333,\"#9c179e\"],[0.4444444444444444,\"#bd3786\"],[0.5555555555555556,\"#d8576b\"],[0.6666666666666666,\"#ed7953\"],[0.7777777777777778,\"#fb9f3a\"],[0.8888888888888888,\"#fdca26\"],[1.0,\"#f0f921\"]]}],\"heatmapgl\":[{\"type\":\"heatmapgl\",\"colorbar\":{\"outlinewidth\":0,\"ticks\":\"\"},\"colorscale\":[[0.0,\"#0d0887\"],[0.1111111111111111,\"#46039f\"],[0.2222222222222222,\"#7201a8\"],[0.3333333333333333,\"#9c179e\"],[0.4444444444444444,\"#bd3786\"],[0.5555555555555556,\"#d8576b\"],[0.6666666666666666,\"#ed7953\"],[0.7777777777777778,\"#fb9f3a\"],[0.8888888888888888,\"#fdca26\"],[1.0,\"#f0f921\"]]}],\"contourcarpet\":[{\"type\":\"contourcarpet\",\"colorbar\":{\"outlinewidth\":0,\"ticks\":\"\"}}],\"contour\":[{\"type\":\"contour\",\"colorbar\":{\"outlinewidth\":0,\"ticks\":\"\"},\"colorscale\":[[0.0,\"#0d0887\"],[0.1111111111111111,\"#46039f\"],[0.2222222222222222,\"#7201a8\"],[0.3333333333333333,\"#9c179e\"],[0.4444444444444444,\"#bd3786\"],[0.5555555555555556,\"#d8576b\"],[0.6666666666666666,\"#ed7953\"],[0.7777777777777778,\"#fb9f3a\"],[0.8888888888888888,\"#fdca26\"],[1.0,\"#f0f921\"]]}],\"surface\":[{\"type\":\"surface\",\"colorbar\":{\"outlinewidth\":0,\"ticks\":\"\"},\"colorscale\":[[0.0,\"#0d0887\"],[0.1111111111111111,\"#46039f\"],[0.2222222222222222,\"#7201a8\"],[0.3333333333333333,\"#9c179e\"],[0.4444444444444444,\"#bd3786\"],[0.5555555555555556,\"#d8576b\"],[0.6666666666666666,\"#ed7953\"],[0.7777777777777778,\"#fb9f3a\"],[0.8888888888888888,\"#fdca26\"],[1.0,\"#f0f921\"]]}],\"mesh3d\":[{\"type\":\"mesh3d\",\"colorbar\":{\"outlinewidth\":0,\"ticks\":\"\"}}],\"scatter\":[{\"fillpattern\":{\"fillmode\":\"overlay\",\"size\":10,\"solidity\":0.2},\"type\":\"scatter\"}],\"parcoords\":[{\"type\":\"parcoords\",\"line\":{\"colorbar\":{\"outlinewidth\":0,\"ticks\":\"\"}}}],\"scatterpolargl\":[{\"type\":\"scatterpolargl\",\"marker\":{\"colorbar\":{\"outlinewidth\":0,\"ticks\":\"\"}}}],\"bar\":[{\"error_x\":{\"color\":\"#2a3f5f\"},\"error_y\":{\"color\":\"#2a3f5f\"},\"marker\":{\"line\":{\"color\":\"#E5ECF6\",\"width\":0.5},\"pattern\":{\"fillmode\":\"overlay\",\"size\":10,\"solidity\":0.2}},\"type\":\"bar\"}],\"scattergeo\":[{\"type\":\"scattergeo\",\"marker\":{\"colorbar\":{\"outlinewidth\":0,\"ticks\":\"\"}}}],\"scatterpolar\":[{\"type\":\"scatterpolar\",\"marker\":{\"colorbar\":{\"outlinewidth\":0,\"ticks\":\"\"}}}],\"histogram\":[{\"marker\":{\"pattern\":{\"fillmode\":\"overlay\",\"size\":10,\"solidity\":0.2}},\"type\":\"histogram\"}],\"scattergl\":[{\"type\":\"scattergl\",\"marker\":{\"colorbar\":{\"outlinewidth\":0,\"ticks\":\"\"}}}],\"scatter3d\":[{\"type\":\"scatter3d\",\"line\":{\"colorbar\":{\"outlinewidth\":0,\"ticks\":\"\"}},\"marker\":{\"colorbar\":{\"outlinewidth\":0,\"ticks\":\"\"}}}],\"scattermapbox\":[{\"type\":\"scattermapbox\",\"marker\":{\"colorbar\":{\"outlinewidth\":0,\"ticks\":\"\"}}}],\"scatterternary\":[{\"type\":\"scatterternary\",\"marker\":{\"colorbar\":{\"outlinewidth\":0,\"ticks\":\"\"}}}],\"scattercarpet\":[{\"type\":\"scattercarpet\",\"marker\":{\"colorbar\":{\"outlinewidth\":0,\"ticks\":\"\"}}}],\"carpet\":[{\"aaxis\":{\"endlinecolor\":\"#2a3f5f\",\"gridcolor\":\"white\",\"linecolor\":\"white\",\"minorgridcolor\":\"white\",\"startlinecolor\":\"#2a3f5f\"},\"baxis\":{\"endlinecolor\":\"#2a3f5f\",\"gridcolor\":\"white\",\"linecolor\":\"white\",\"minorgridcolor\":\"white\",\"startlinecolor\":\"#2a3f5f\"},\"type\":\"carpet\"}],\"table\":[{\"cells\":{\"fill\":{\"color\":\"#EBF0F8\"},\"line\":{\"color\":\"white\"}},\"header\":{\"fill\":{\"color\":\"#C8D4E3\"},\"line\":{\"color\":\"white\"}},\"type\":\"table\"}],\"barpolar\":[{\"marker\":{\"line\":{\"color\":\"#E5ECF6\",\"width\":0.5},\"pattern\":{\"fillmode\":\"overlay\",\"size\":10,\"solidity\":0.2}},\"type\":\"barpolar\"}],\"pie\":[{\"automargin\":true,\"type\":\"pie\"}]},\"layout\":{\"autotypenumbers\":\"strict\",\"colorway\":[\"#636efa\",\"#EF553B\",\"#00cc96\",\"#ab63fa\",\"#FFA15A\",\"#19d3f3\",\"#FF6692\",\"#B6E880\",\"#FF97FF\",\"#FECB52\"],\"font\":{\"color\":\"#2a3f5f\"},\"hovermode\":\"closest\",\"hoverlabel\":{\"align\":\"left\"},\"paper_bgcolor\":\"white\",\"plot_bgcolor\":\"#E5ECF6\",\"polar\":{\"bgcolor\":\"#E5ECF6\",\"angularaxis\":{\"gridcolor\":\"white\",\"linecolor\":\"white\",\"ticks\":\"\"},\"radialaxis\":{\"gridcolor\":\"white\",\"linecolor\":\"white\",\"ticks\":\"\"}},\"ternary\":{\"bgcolor\":\"#E5ECF6\",\"aaxis\":{\"gridcolor\":\"white\",\"linecolor\":\"white\",\"ticks\":\"\"},\"baxis\":{\"gridcolor\":\"white\",\"linecolor\":\"white\",\"ticks\":\"\"},\"caxis\":{\"gridcolor\":\"white\",\"linecolor\":\"white\",\"ticks\":\"\"}},\"coloraxis\":{\"colorbar\":{\"outlinewidth\":0,\"ticks\":\"\"}},\"colorscale\":{\"sequential\":[[0.0,\"#0d0887\"],[0.1111111111111111,\"#46039f\"],[0.2222222222222222,\"#7201a8\"],[0.3333333333333333,\"#9c179e\"],[0.4444444444444444,\"#bd3786\"],[0.5555555555555556,\"#d8576b\"],[0.6666666666666666,\"#ed7953\"],[0.7777777777777778,\"#fb9f3a\"],[0.8888888888888888,\"#fdca26\"],[1.0,\"#f0f921\"]],\"sequentialminus\":[[0.0,\"#0d0887\"],[0.1111111111111111,\"#46039f\"],[0.2222222222222222,\"#7201a8\"],[0.3333333333333333,\"#9c179e\"],[0.4444444444444444,\"#bd3786\"],[0.5555555555555556,\"#d8576b\"],[0.6666666666666666,\"#ed7953\"],[0.7777777777777778,\"#fb9f3a\"],[0.8888888888888888,\"#fdca26\"],[1.0,\"#f0f921\"]],\"diverging\":[[0,\"#8e0152\"],[0.1,\"#c51b7d\"],[0.2,\"#de77ae\"],[0.3,\"#f1b6da\"],[0.4,\"#fde0ef\"],[0.5,\"#f7f7f7\"],[0.6,\"#e6f5d0\"],[0.7,\"#b8e186\"],[0.8,\"#7fbc41\"],[0.9,\"#4d9221\"],[1,\"#276419\"]]},\"xaxis\":{\"gridcolor\":\"white\",\"linecolor\":\"white\",\"ticks\":\"\",\"title\":{\"standoff\":15},\"zerolinecolor\":\"white\",\"automargin\":true,\"zerolinewidth\":2},\"yaxis\":{\"gridcolor\":\"white\",\"linecolor\":\"white\",\"ticks\":\"\",\"title\":{\"standoff\":15},\"zerolinecolor\":\"white\",\"automargin\":true,\"zerolinewidth\":2},\"scene\":{\"xaxis\":{\"backgroundcolor\":\"#E5ECF6\",\"gridcolor\":\"white\",\"linecolor\":\"white\",\"showbackground\":true,\"ticks\":\"\",\"zerolinecolor\":\"white\",\"gridwidth\":2},\"yaxis\":{\"backgroundcolor\":\"#E5ECF6\",\"gridcolor\":\"white\",\"linecolor\":\"white\",\"showbackground\":true,\"ticks\":\"\",\"zerolinecolor\":\"white\",\"gridwidth\":2},\"zaxis\":{\"backgroundcolor\":\"#E5ECF6\",\"gridcolor\":\"white\",\"linecolor\":\"white\",\"showbackground\":true,\"ticks\":\"\",\"zerolinecolor\":\"white\",\"gridwidth\":2}},\"shapedefaults\":{\"line\":{\"color\":\"#2a3f5f\"}},\"annotationdefaults\":{\"arrowcolor\":\"#2a3f5f\",\"arrowhead\":0,\"arrowwidth\":1},\"geo\":{\"bgcolor\":\"white\",\"landcolor\":\"#E5ECF6\",\"subunitcolor\":\"white\",\"showland\":true,\"showlakes\":true,\"lakecolor\":\"white\"},\"title\":{\"x\":0.05},\"mapbox\":{\"style\":\"light\"}}},\"xaxis\":{\"anchor\":\"y\",\"domain\":[0.0,1.0],\"title\":{\"text\":\"x\"}},\"yaxis\":{\"anchor\":\"x\",\"domain\":[0.0,1.0],\"title\":{\"text\":\"y\"}},\"coloraxis\":{\"colorbar\":{\"title\":{\"text\":\"color\"}},\"colorscale\":[[0.0,\"#0d0887\"],[0.1111111111111111,\"#46039f\"],[0.2222222222222222,\"#7201a8\"],[0.3333333333333333,\"#9c179e\"],[0.4444444444444444,\"#bd3786\"],[0.5555555555555556,\"#d8576b\"],[0.6666666666666666,\"#ed7953\"],[0.7777777777777778,\"#fb9f3a\"],[0.8888888888888888,\"#fdca26\"],[1.0,\"#f0f921\"]]},\"legend\":{\"tracegroupgap\":0},\"title\":{\"text\":\"World Literacy Rates of year 2021-23\"},\"barmode\":\"relative\"},                        {\"responsive\": true}                    ).then(function(){\n",
       "                            \n",
       "var gd = document.getElementById('9c633472-9db5-4b40-beeb-a464f0a08fda');\n",
       "var x = new MutationObserver(function (mutations, observer) {{\n",
       "        var display = window.getComputedStyle(gd).display;\n",
       "        if (!display || display === 'none') {{\n",
       "            console.log([gd, 'removed!']);\n",
       "            Plotly.purge(gd);\n",
       "            observer.disconnect();\n",
       "        }}\n",
       "}});\n",
       "\n",
       "// Listen for the removal of the full notebook cells\n",
       "var notebookContainer = gd.closest('#notebook-container');\n",
       "if (notebookContainer) {{\n",
       "    x.observe(notebookContainer, {childList: true});\n",
       "}}\n",
       "\n",
       "// Listen for the clearing of the current output cell\n",
       "var outputEl = gd.closest('.output');\n",
       "if (outputEl) {{\n",
       "    x.observe(outputEl, {childList: true});\n",
       "}}\n",
       "\n",
       "                        })                };                });            </script>        </div>"
      ]
     },
     "metadata": {},
     "output_type": "display_data"
    }
   ],
   "source": [
    "import pandas as pd\n",
    "import xlrd\n",
    "import matplotlib.pyplot as plt\n",
    "import plotly.express as px\n",
    "df=pd.read_excel(\"world_literacy_data_2021_2023.xlsx\")\n",
    "df.fillna(mean_value,inplace=True)\n",
    "# long_df = px.data.medals_long()\n",
    "fig = px.bar(x=df.Country, y=df['Literacy Rate'], color=df.Year, title=\"World Literacy Rates of year 2021-23\")\n",
    "fig.show()"
   ]
  },
  {
   "cell_type": "markdown",
   "id": "5c61c8a3-8339-4f9f-b25c-5b3074de3917",
   "metadata": {},
   "source": [
    "# Plot the year wise GDP of each country"
   ]
  },
  {
   "cell_type": "code",
   "execution_count": 26,
   "id": "f919ad74-9d2c-453c-97af-4e1f13c9ad46",
   "metadata": {},
   "outputs": [
    {
     "data": {
      "application/vnd.plotly.v1+json": {
       "config": {
        "plotlyServerURL": "https://plot.ly"
       },
       "data": [
        {
         "alignmentgroup": "True",
         "hovertemplate": "x=%{x}<br>y=%{y}<br>color=%{marker.color}<extra></extra>",
         "legendgroup": "",
         "marker": {
          "color": [
           2022,
           2022,
           2022,
           2022,
           2022,
           2022,
           2022,
           2022,
           2022,
           2022,
           2022,
           2022,
           2022,
           2022,
           2022,
           2022,
           2022,
           2022,
           2022,
           2022,
           2022,
           2022,
           2022,
           2022,
           2022,
           2022,
           2022,
           2022,
           2022,
           2022,
           2022,
           2022,
           2022,
           2022,
           2022,
           2022,
           2022,
           2022,
           2022,
           2022,
           2022,
           2022,
           2022,
           2022,
           2022,
           2022,
           2022,
           2022,
           2022,
           2022,
           2022,
           2022,
           2022,
           2022,
           2022,
           2022,
           2022,
           2022,
           2022,
           2022,
           2022,
           2022,
           2022,
           2022,
           2022,
           2022,
           2022,
           2022,
           2022,
           2022,
           2022,
           2022,
           2022,
           2022,
           2022,
           2022,
           2022,
           2022,
           2022,
           2022,
           2022,
           2022,
           2022,
           2022,
           2022,
           2022,
           2022,
           2022,
           2022,
           2022,
           2022,
           2022,
           2022,
           2022,
           2022,
           2022,
           2022,
           2022,
           2022,
           2022,
           2022,
           2022,
           2022,
           2022,
           2022,
           2022,
           2022,
           2022,
           2022,
           2022,
           2022,
           2022,
           2022,
           2022,
           2022,
           2022,
           2022,
           2022,
           2022,
           2022,
           2022,
           2022,
           2022,
           2022,
           2022,
           2022,
           2022,
           2022,
           2022,
           2022,
           2022,
           2022,
           2022,
           2022,
           2022,
           2022,
           2022,
           2022,
           2022,
           2022,
           2022,
           2022,
           2022,
           2022,
           2022,
           2022,
           2022,
           2022,
           2022,
           2022,
           2022,
           2022,
           2022,
           2022,
           2022,
           2022,
           2022,
           2022,
           2022,
           2022,
           2022,
           2022,
           2022,
           2022,
           2022,
           2022,
           2022,
           2022,
           2022,
           2022,
           2022,
           2022,
           2022,
           2022,
           2022,
           2022,
           2022,
           2022,
           2022,
           2022,
           2022,
           2022,
           2022,
           2022,
           2022,
           2022,
           2022,
           2022,
           2022,
           2022,
           2022,
           2022,
           2022,
           2022,
           2022,
           2023,
           2023,
           2023,
           2023,
           2023,
           2023,
           2023,
           2023,
           2023,
           2023,
           2023,
           2023,
           2023,
           2023,
           2023,
           2023,
           2023,
           2023,
           2023,
           2023,
           2023,
           2023,
           2023,
           2023,
           2023,
           2023,
           2023,
           2023,
           2023,
           2023,
           2023,
           2023,
           2023,
           2023,
           2023,
           2023,
           2023,
           2023,
           2023,
           2023,
           2023,
           2023,
           2023,
           2023,
           2023,
           2023,
           2023,
           2023,
           2023,
           2023,
           2023,
           2023,
           2023,
           2023,
           2023,
           2023,
           2023,
           2023,
           2023,
           2023,
           2023,
           2023,
           2023,
           2023,
           2023,
           2023,
           2023,
           2023,
           2023,
           2023,
           2023,
           2023,
           2023,
           2023,
           2023,
           2023,
           2023,
           2023,
           2023,
           2023,
           2023,
           2023,
           2023,
           2023,
           2023,
           2023,
           2023,
           2023,
           2023,
           2023,
           2023,
           2023,
           2023,
           2023,
           2023,
           2023,
           2023,
           2023,
           2023,
           2023,
           2023,
           2023,
           2023,
           2023,
           2023,
           2023,
           2023,
           2023,
           2023,
           2023,
           2023,
           2023,
           2023,
           2023,
           2023,
           2023,
           2023,
           2023,
           2023,
           2023,
           2023,
           2023,
           2023,
           2023,
           2023,
           2023,
           2023,
           2023,
           2023,
           2023,
           2023,
           2023,
           2023,
           2023,
           2023,
           2023,
           2023,
           2023,
           2023,
           2023,
           2023,
           2023,
           2023,
           2023,
           2023,
           2023,
           2023,
           2023,
           2023,
           2023,
           2023,
           2023,
           2023,
           2023,
           2023,
           2023,
           2023,
           2023,
           2023,
           2023,
           2023,
           2023,
           2023,
           2023,
           2023,
           2023,
           2023,
           2023,
           2023,
           2023,
           2023,
           2023,
           2023,
           2023,
           2023,
           2023,
           2023,
           2023,
           2023,
           2023,
           2023,
           2023,
           2023,
           2023,
           2023,
           2023,
           2023,
           2023,
           2023,
           2023,
           2023,
           2023,
           2023,
           2023,
           2023,
           2021,
           2021,
           2021,
           2021,
           2021,
           2021,
           2021,
           2021,
           2021,
           2021,
           2021,
           2021,
           2021,
           2021,
           2021,
           2021,
           2021,
           2021,
           2021,
           2021,
           2021,
           2021,
           2021,
           2021,
           2021,
           2021,
           2021,
           2021,
           2021,
           2021,
           2021,
           2021,
           2021,
           2021,
           2021,
           2021,
           2021,
           2021,
           2021,
           2021,
           2021,
           2021,
           2021,
           2021,
           2021,
           2021,
           2021,
           2021,
           2021,
           2021,
           2021,
           2021,
           2021,
           2021,
           2021,
           2021,
           2021,
           2021,
           2021,
           2021,
           2021,
           2021,
           2021,
           2021,
           2021,
           2021,
           2021,
           2021,
           2021,
           2021,
           2021,
           2021,
           2021,
           2021,
           2021,
           2021,
           2021,
           2021,
           2021,
           2021,
           2021,
           2021,
           2021,
           2021,
           2021,
           2021,
           2021,
           2021,
           2021,
           2021,
           2021,
           2021,
           2021,
           2021,
           2021,
           2021,
           2021,
           2021,
           2021,
           2021,
           2021,
           2021,
           2021,
           2021,
           2021,
           2021,
           2021,
           2021,
           2021,
           2021,
           2021,
           2021,
           2021,
           2021,
           2021,
           2021,
           2021,
           2021,
           2021,
           2021,
           2021,
           2021,
           2021,
           2021,
           2021,
           2021,
           2021,
           2021,
           2021,
           2021,
           2021,
           2021,
           2021,
           2021,
           2021,
           2021,
           2021,
           2021,
           2021,
           2021,
           2021,
           2021,
           2021,
           2021,
           2021,
           2021,
           2021,
           2021,
           2021,
           2021,
           2021,
           2021,
           2021,
           2021,
           2021,
           2021,
           2021,
           2021,
           2021,
           2021,
           2021,
           2021,
           2021,
           2021,
           2021,
           2021,
           2021,
           2021,
           2021,
           2021,
           2021,
           2021,
           2021,
           2021,
           2021,
           2021,
           2021,
           2021,
           2021,
           2021,
           2021,
           2021,
           2021,
           2021,
           2021,
           2021,
           2021,
           2021,
           2021,
           2021,
           2021,
           2021,
           2021,
           2021,
           2021
          ],
          "coloraxis": "coloraxis",
          "pattern": {
           "shape": ""
          }
         },
         "name": "",
         "offsetgroup": "",
         "orientation": "v",
         "showlegend": false,
         "textposition": "auto",
         "type": "bar",
         "x": [
          "Afghanistan",
          "Albania",
          "Algeria",
          "Andorra",
          "Angola",
          "Antigua and Barbuda",
          "Argentina",
          "Armenia",
          "Australia",
          "Austria",
          "Azerbaijan",
          "The Bahamas",
          "Bahrain",
          "Bangladesh",
          "Barbados",
          "Belarus",
          "Belgium",
          "Belize",
          "Benin",
          "Bhutan",
          "Bolivia",
          "Bosnia and Herzegovina",
          "Botswana",
          "Brazil",
          "Brunei",
          "Bulgaria",
          "Burkina Faso",
          "Burundi",
          "Ivory Coast",
          "Cape Verde",
          "Cambodia",
          "Cameroon",
          "Canada",
          "Central African Republic",
          "Chad",
          "Chile",
          "China",
          "Colombia",
          "Comoros",
          "Republic of the Congo",
          "Costa Rica",
          "Croatia",
          "Cuba",
          "Cyprus",
          "Czech Republic",
          "Democratic Republic of the Congo",
          "Denmark",
          "Djibouti",
          "Dominica",
          "Dominican Republic",
          "Ecuador",
          "Egypt",
          "El Salvador",
          "Equatorial Guinea",
          "Eritrea",
          "Estonia",
          "Eswatini",
          "Ethiopia",
          "Fiji",
          "Finland",
          "France",
          "Gabon",
          "The Gambia",
          "Georgia",
          "Germany",
          "Ghana",
          "Greece",
          "Grenada",
          "Guatemala",
          "Guinea",
          "Guinea-Bissau",
          "Guyana",
          "Haiti",
          "Vatican City",
          "Honduras",
          "Hungary",
          "Iceland",
          "India",
          "Indonesia",
          "Iran",
          "Iraq",
          "Republic of Ireland",
          "Israel",
          "Italy",
          "Jamaica",
          "Japan",
          "Jordan",
          "Kazakhstan",
          "Kenya",
          "Kiribati",
          "Kuwait",
          "Kyrgyzstan",
          "Laos",
          "Latvia",
          "Lebanon",
          "Lesotho",
          "Liberia",
          "Libya",
          "Liechtenstein",
          "Lithuania",
          "Luxembourg",
          "Madagascar",
          "Malawi",
          "Malaysia",
          "Maldives",
          "Mali",
          "Malta",
          "Marshall Islands",
          "Mauritania",
          "Mauritius",
          "Mexico",
          "Federated States of Micronesia",
          "Moldova",
          "Monaco",
          "Mongolia",
          "Montenegro",
          "Morocco",
          "Mozambique",
          "Myanmar",
          "Namibia",
          "Nauru",
          "Nepal",
          "Netherlands",
          "New Zealand",
          "Nicaragua",
          "Niger",
          "Nigeria",
          "North Korea",
          "North Macedonia",
          "Norway",
          "Oman",
          "Pakistan",
          "Palau",
          "Palestinian National Authority",
          "Panama",
          "Papua New Guinea",
          "Paraguay",
          "Peru",
          "Philippines",
          "Poland",
          "Portugal",
          "Qatar",
          "Romania",
          "Russia",
          "Rwanda",
          "Saint Kitts and Nevis",
          "Saint Lucia",
          "Saint Vincent and the Grenadines",
          "Samoa",
          "San Marino",
          "Sï¿½ï¿½ï¿½ï¿½ï¿½ï¿½ï¿½ï¿½ï¿½ï¿½ï¿½",
          "Saudi Arabia",
          "Senegal",
          "Serbia",
          "Seychelles",
          "Sierra Leone",
          "Singapore",
          "Slovakia",
          "Slovenia",
          "Solomon Islands",
          "Somalia",
          "South Africa",
          "South Korea",
          "South Sudan",
          "Spain",
          "Sri Lanka",
          "Sudan",
          "Suriname",
          "Sweden",
          "Switzerland",
          "Syria",
          "Tajikistan",
          "Tanzania",
          "Thailand",
          "East Timor",
          "Togo",
          "Tonga",
          "Trinidad and Tobago",
          "Tunisia",
          "Turkey",
          "Turkmenistan",
          "Tuvalu",
          "Uganda",
          "Ukraine",
          "United Arab Emirates",
          "United Kingdom",
          "United States",
          "Uruguay",
          "Uzbekistan",
          "Vanuatu",
          "Venezuela",
          "Vietnam",
          "Yemen",
          "Zambia",
          "Zimbabwe",
          "Afghanistan",
          "Albania",
          "Algeria",
          "Andorra",
          "Angola",
          "Antigua and Barbuda",
          "Argentina",
          "Armenia",
          "Australia",
          "Austria",
          "Azerbaijan",
          "The Bahamas",
          "Bahrain",
          "Bangladesh",
          "Barbados",
          "Belarus",
          "Belgium",
          "Belize",
          "Benin",
          "Bhutan",
          "Bolivia",
          "Bosnia and Herzegovina",
          "Botswana",
          "Brazil",
          "Brunei",
          "Bulgaria",
          "Burkina Faso",
          "Burundi",
          "Ivory Coast",
          "Cape Verde",
          "Cambodia",
          "Cameroon",
          "Canada",
          "Central African Republic",
          "Chad",
          "Chile",
          "China",
          "Colombia",
          "Comoros",
          "Republic of the Congo",
          "Costa Rica",
          "Croatia",
          "Cuba",
          "Cyprus",
          "Czech Republic",
          "Democratic Republic of the Congo",
          "Denmark",
          "Djibouti",
          "Dominica",
          "Dominican Republic",
          "Ecuador",
          "Egypt",
          "El Salvador",
          "Equatorial Guinea",
          "Eritrea",
          "Estonia",
          "Eswatini",
          "Ethiopia",
          "Fiji",
          "Finland",
          "France",
          "Gabon",
          "The Gambia",
          "Georgia",
          "Germany",
          "Ghana",
          "Greece",
          "Grenada",
          "Guatemala",
          "Guinea",
          "Guinea-Bissau",
          "Guyana",
          "Haiti",
          "Vatican City",
          "Honduras",
          "Hungary",
          "Iceland",
          "India",
          "Indonesia",
          "Iran",
          "Iraq",
          "Republic of Ireland",
          "Israel",
          "Italy",
          "Jamaica",
          "Japan",
          "Jordan",
          "Kazakhstan",
          "Kenya",
          "Kiribati",
          "Kuwait",
          "Kyrgyzstan",
          "Laos",
          "Latvia",
          "Lebanon",
          "Lesotho",
          "Liberia",
          "Libya",
          "Liechtenstein",
          "Lithuania",
          "Luxembourg",
          "Madagascar",
          "Malawi",
          "Malaysia",
          "Maldives",
          "Mali",
          "Malta",
          "Marshall Islands",
          "Mauritania",
          "Mauritius",
          "Mexico",
          "Federated States of Micronesia",
          "Moldova",
          "Monaco",
          "Mongolia",
          "Montenegro",
          "Morocco",
          "Mozambique",
          "Myanmar",
          "Namibia",
          "Nauru",
          "Nepal",
          "Netherlands",
          "New Zealand",
          "Nicaragua",
          "Niger",
          "Nigeria",
          "North Korea",
          "North Macedonia",
          "Norway",
          "Oman",
          "Pakistan",
          "Palau",
          "Palestinian National Authority",
          "Panama",
          "Papua New Guinea",
          "Paraguay",
          "Peru",
          "Philippines",
          "Poland",
          "Portugal",
          "Qatar",
          "Romania",
          "Russia",
          "Rwanda",
          "Saint Kitts and Nevis",
          "Saint Lucia",
          "Saint Vincent and the Grenadines",
          "Samoa",
          "San Marino",
          "Sï¿½ï¿½ï¿½ï¿½ï¿½ï¿½ï¿½ï¿½ï¿½ï¿½ï¿½",
          "Saudi Arabia",
          "Senegal",
          "Serbia",
          "Seychelles",
          "Sierra Leone",
          "Singapore",
          "Slovakia",
          "Slovenia",
          "Solomon Islands",
          "Somalia",
          "South Africa",
          "South Korea",
          "South Sudan",
          "Spain",
          "Sri Lanka",
          "Sudan",
          "Suriname",
          "Sweden",
          "Switzerland",
          "Syria",
          "Tajikistan",
          "Tanzania",
          "Thailand",
          "East Timor",
          "Togo",
          "Tonga",
          "Trinidad and Tobago",
          "Tunisia",
          "Turkey",
          "Turkmenistan",
          "Tuvalu",
          "Uganda",
          "Ukraine",
          "United Arab Emirates",
          "United Kingdom",
          "United States",
          "Uruguay",
          "Uzbekistan",
          "Vanuatu",
          "Venezuela",
          "Vietnam",
          "Yemen",
          "Zambia",
          "Zimbabwe",
          "Afghanistan",
          "Albania",
          "Algeria",
          "Andorra",
          "Angola",
          "Antigua and Barbuda",
          "Argentina",
          "Armenia",
          "Australia",
          "Austria",
          "Azerbaijan",
          "The Bahamas",
          "Bahrain",
          "Bangladesh",
          "Barbados",
          "Belarus",
          "Belgium",
          "Belize",
          "Benin",
          "Bhutan",
          "Bolivia",
          "Bosnia and Herzegovina",
          "Botswana",
          "Brazil",
          "Brunei",
          "Bulgaria",
          "Burkina Faso",
          "Burundi",
          "Ivory Coast",
          "Cape Verde",
          "Cambodia",
          "Cameroon",
          "Canada",
          "Central African Republic",
          "Chad",
          "Chile",
          "China",
          "Colombia",
          "Comoros",
          "Republic of the Congo",
          "Costa Rica",
          "Croatia",
          "Cuba",
          "Cyprus",
          "Czech Republic",
          "Democratic Republic of the Congo",
          "Denmark",
          "Djibouti",
          "Dominica",
          "Dominican Republic",
          "Ecuador",
          "Egypt",
          "El Salvador",
          "Equatorial Guinea",
          "Eritrea",
          "Estonia",
          "Eswatini",
          "Ethiopia",
          "Fiji",
          "Finland",
          "France",
          "Gabon",
          "The Gambia",
          "Georgia",
          "Germany",
          "Ghana",
          "Greece",
          "Grenada",
          "Guatemala",
          "Guinea",
          "Guinea-Bissau",
          "Guyana",
          "Haiti",
          "Vatican City",
          "Honduras",
          "Hungary",
          "Iceland",
          "India",
          "Indonesia",
          "Iran",
          "Iraq",
          "Republic of Ireland",
          "Israel",
          "Italy",
          "Jamaica",
          "Japan",
          "Jordan",
          "Kazakhstan",
          "Kenya",
          "Kiribati",
          "Kuwait",
          "Kyrgyzstan",
          "Laos",
          "Latvia",
          "Lebanon",
          "Lesotho",
          "Liberia",
          "Libya",
          "Liechtenstein",
          "Lithuania",
          "Luxembourg",
          "Madagascar",
          "Malawi",
          "Malaysia",
          "Maldives",
          "Mali",
          "Malta",
          "Marshall Islands",
          "Mauritania",
          "Mauritius",
          "Mexico",
          "Federated States of Micronesia",
          "Moldova",
          "Monaco",
          "Mongolia",
          "Montenegro",
          "Morocco",
          "Mozambique",
          "Myanmar",
          "Namibia",
          "Nauru",
          "Nepal",
          "Netherlands",
          "New Zealand",
          "Nicaragua",
          "Niger",
          "Nigeria",
          "North Korea",
          "North Macedonia",
          "Norway",
          "Oman",
          "Pakistan",
          "Palau",
          "Palestinian National Authority",
          "Panama",
          "Papua New Guinea",
          "Paraguay",
          "Peru",
          "Philippines",
          "Poland",
          "Portugal",
          "Qatar",
          "Romania",
          "Russia",
          "Rwanda",
          "Saint Kitts and Nevis",
          "Saint Lucia",
          "Saint Vincent and the Grenadines",
          "Samoa",
          "San Marino",
          "Sï¿½ï¿½ï¿½ï¿½ï¿½ï¿½ï¿½ï¿½ï¿½ï¿½ï¿½",
          "Saudi Arabia",
          "Senegal",
          "Serbia",
          "Seychelles",
          "Sierra Leone",
          "Singapore",
          "Slovakia",
          "Slovenia",
          "Solomon Islands",
          "Somalia",
          "South Africa",
          "South Korea",
          "South Sudan",
          "Spain",
          "Sri Lanka",
          "Sudan",
          "Suriname",
          "Sweden",
          "Switzerland",
          "Syria",
          "Tajikistan",
          "Tanzania",
          "Thailand",
          "East Timor",
          "Togo",
          "Tonga",
          "Trinidad and Tobago",
          "Tunisia",
          "Turkey",
          "Turkmenistan",
          "Tuvalu",
          "Uganda",
          "Ukraine",
          "United Arab Emirates",
          "United Kingdom",
          "United States",
          "Uruguay",
          "Uzbekistan",
          "Vanuatu",
          "Venezuela",
          "Vietnam",
          "Yemen",
          "Zambia",
          "Zimbabwe"
         ],
         "xaxis": "x",
         "y": [
          19101353833,
          15278077447,
          169988236398,
          3154057987,
          94635415870,
          1727759259,
          449663446954,
          13672802158,
          1392680589329,
          446314739528,
          39207000000,
          12827000000,
          38574069149,
          302571254131,
          5209000000,
          63080457023,
          529606710418,
          1879613600,
          14390709095,
          2446674101,
          40895322865,
          20047848435,
          18340510789,
          1839758040766,
          13469422941,
          86000000000,
          15745810235,
          3012334882,
          58792205642,
          1981845741,
          27089389787,
          38760467033,
          1736425629520,
          2220307369,
          11314951343,
          282318159745,
          19910000000000,
          323802808108,
          1185728677,
          10820591131,
          61773944174,
          60415553039,
          100023000000,
          24564647935,
          246489245495,
          47319624204,
          348078018464,
          3318716359,
          596033333,
          88941298258,
          107435665000,
          303175127598,
          27022640000,
          11026774945,
          2065001626,
          31386949981,
          3791304348,
          96107662398,
          5535548972,
          268761201365,
          2715518274227,
          16657960228,
          1763819048,
          17743195770,
          3845630030824,
          66983634224,
          209852761469,
          1228170370,
          76710385880,
          13590281809,
          1340389411,
          4280443645,
          8498981821,
          478069989676.704,
          25095395475,
          160967157504,
          24188035739,
          2611000000000,
          1119190780753,
          445345282123,
          234094042939,
          388698711348,
          395098666122,
          2001244392042,
          16458071068,
          5081769542380,
          43743661972,
          180161741180,
          95503088538,
          194647202,
          134761198946,
          8454619608,
          18173839128,
          34117202555,
          53367042272,
          2460072444,
          3070518100,
          52076250948,
          6552858739,
          54219315600,
          71104919108,
          14083906357,
          7666704427,
          364701517788,
          5729248472,
          17510141171,
          14786156563,
          221278000,
          7593752450,
          14180444557,
          1258286717125,
          401932279,
          11955435457,
          7184844193,
          13852850259,
          5494736901,
          118725279596,
          14934159926,
          76085852617,
          12366527719,
          133000000,
          30641380604,
          909070395161,
          206928765544,
          12520915291,
          12928145120,
          448120428859,
          32100000000,
          10220781069,
          403336363636,
          76983094928,
          304400000000,
          283994900,
          478069989676.704,
          66800800000,
          24969611435,
          38145288940,
          226848050820,
          376795508680,
          592164400688,
          237686075635,
          183466208791,
          250077444017,
          1699876578871,
          10122472590,
          1050992593,
          2122450630,
          825385185,
          850655017,
          1637931034,
          429016605,
          792966838162,
          23578084052,
          51409167351,
          1698843063,
          3941474311,
          372062527489,
          105422304976,
          53742159517,
          1425074226,
          4720727278,
          351431649241,
          2029000000000,
          11997800751,
          1394116310769,
          84008783756,
          18902284476,
          3985250737,
          530832908738,
          703082435360,
          40405006007,
          8116626794,
          63177068175,
          543649976166,
          1673540300,
          5459979417,
          450353314,
          24100202834,
          38797709924,
          754411708203,
          40761142857,
          47271463,
          34387229486,
          153781069118,
          421142267938,
          2827113184696,
          21427700000000,
          56045912952,
          57921286440,
          917058851,
          482359318768,
          261921244843,
          26914402224,
          23064722446,
          21440758800,
          1050992593,
          1119190780753,
          1185728677,
          1228170370,
          1258286717125,
          1340389411,
          1392680589329,
          1394116310769,
          1425074226,
          1637931034,
          1673540300,
          1698843063,
          1699876578871,
          1727759259,
          1736425629520,
          1763819048,
          1839758040766,
          1879613600,
          1981845741,
          10122472590,
          10220781069,
          10820591131,
          100023000000,
          105422304976,
          107435665000,
          11026774945,
          11314951343,
          11955435457,
          11997800751,
          118725279596,
          12366527719,
          12520915291,
          12827000000,
          12928145120,
          13469422941,
          13590281809,
          13672802158,
          13852850259,
          133000000,
          134761198946,
          14083906357,
          14180444557,
          14390709095,
          14786156563,
          14934159926,
          15278077447,
          15745810235,
          153781069118,
          16458071068,
          16657960228,
          160967157504,
          169988236398,
          17510141171,
          17743195770,
          18173839128,
          18340510789,
          18902284476,
          180161741180,
          183466208791,
          19101353833,
          19910000000000,
          194647202,
          2001244392042,
          2029000000000,
          2065001626,
          2122450630,
          2220307369,
          2446674101,
          2460072444,
          2611000000000,
          2715518274227,
          2827113184696,
          20047848435,
          206928765544,
          209852761469,
          21427700000000,
          21440758800,
          221278000,
          226848050820,
          23064722446,
          23578084052,
          234094042939,
          237686075635,
          24100202834,
          24188035739,
          24564647935,
          24969611435,
          246489245495,
          25095395475,
          250077444017,
          26914402224,
          261921244843,
          268761201365,
          27022640000,
          27089389787,
          282318159745,
          283994900,
          3012334882,
          3070518100,
          3154057987,
          3318716359,
          3791304348,
          3845630030824,
          3941474311,
          3985250737,
          30641380604,
          302571254131,
          303175127598,
          304400000000,
          31386949981,
          32100000000,
          323802808108,
          34117202555,
          34387229486,
          348078018464,
          351431649241,
          364701517788,
          372062527489,
          376795508680,
          38145288940,
          38574069149,
          38760467033,
          38797709924,
          388698711348,
          39207000000,
          395098666122,
          4280443645,
          4720727278,
          40405006007,
          40761142857,
          40895322865,
          401932279,
          403336363636,
          421142267938,
          429016605,
          43743661972,
          445345282123,
          446314739528,
          448120428859,
          449663446954,
          450353314,
          47271463,
          47319624204,
          482359318768,
          5081769542380,
          5209000000,
          5459979417,
          5494736901,
          5535548972,
          5729248472,
          51409167351,
          52076250948,
          529606710418,
          53367042272,
          53742159517,
          530832908738,
          54219315600,
          543649976166,
          56045912952,
          57921286440,
          58792205642,
          592164400688,
          596033333,
          6552858739,
          60415553039,
          61773944174,
          63080457023,
          63177068175,
          66800800000,
          66983634224,
          7184844193,
          7593752450,
          7666704427,
          703082435360,
          71104919108,
          754411708203,
          76085852617,
          76710385880,
          76983094928,
          792966838162,
          478069989676.704,
          8454619608,
          8498981821,
          825385185,
          84008783756,
          850655017,
          86000000000,
          88941298258,
          909070395161,
          917058851,
          94635415870,
          478069989676.704,
          96107662398,
          8116626794,
          95503088538,
          96107662398,
          95503088538,
          94635415870,
          917058851,
          909070395161,
          88941298258,
          86000000000,
          850655017,
          84008783756,
          825385185,
          8498981821,
          8454619608,
          8116626794,
          792966838162,
          76983094928,
          76710385880,
          76085852617,
          754411708203,
          71104919108,
          703082435360,
          7666704427,
          7593752450,
          7184844193,
          66983634224,
          66800800000,
          63177068175,
          63080457023,
          61773944174,
          60415553039,
          6552858739,
          596033333,
          592164400688,
          58792205642,
          57921286440,
          56045912952,
          543649976166,
          54219315600,
          530832908738,
          53742159517,
          53367042272,
          529606710418,
          52076250948,
          51409167351,
          5729248472,
          5535548972,
          5494736901,
          5459979417,
          5209000000,
          5081769542380,
          482359318768,
          47319624204,
          47271463,
          450353314,
          449663446954,
          448120428859,
          446314739528,
          445345282123,
          43743661972,
          429016605,
          421142267938,
          403336363636,
          401932279,
          40895322865,
          40761142857,
          40405006007,
          4720727278,
          4280443645,
          395098666122,
          39207000000,
          388698711348,
          38797709924,
          38760467033,
          38574069149,
          38145288940,
          376795508680,
          372062527489,
          364701517788,
          351431649241,
          348078018464,
          34387229486,
          34117202555,
          323802808108,
          32100000000,
          31386949981,
          304400000000,
          303175127598,
          302571254131,
          30641380604,
          3985250737,
          3941474311,
          3845630030824,
          3791304348,
          3318716359,
          3154057987,
          3070518100,
          3012334882,
          283994900,
          282318159745,
          27089389787,
          27022640000,
          268761201365,
          261921244843,
          26914402224,
          250077444017,
          25095395475,
          246489245495,
          24969611435,
          24564647935,
          24188035739,
          24100202834,
          237686075635,
          234094042939,
          23578084052,
          23064722446,
          226848050820,
          221278000,
          21440758800,
          21427700000000,
          209852761469,
          206928765544,
          20047848435,
          2827113184696,
          2715518274227,
          2611000000000,
          2460072444,
          2446674101,
          2220307369,
          2122450630,
          2065001626,
          2029000000000,
          2001244392042,
          194647202,
          19910000000000,
          19101353833,
          183466208791,
          180161741180,
          18902284476,
          18340510789,
          18173839128,
          17743195770,
          17510141171,
          169988236398,
          160967157504,
          16657960228,
          16458071068,
          153781069118,
          15745810235,
          15278077447,
          14934159926,
          14786156563,
          14390709095,
          14180444557,
          14083906357,
          134761198946,
          133000000,
          13852850259,
          13672802158,
          13590281809,
          13469422941,
          12928145120,
          12827000000,
          12520915291,
          12366527719,
          118725279596,
          11997800751,
          11955435457,
          11314951343,
          11026774945,
          107435665000,
          105422304976,
          100023000000,
          10820591131,
          10220781069,
          10122472590,
          1981845741,
          1879613600,
          1839758040766,
          1763819048,
          1736425629520,
          1727759259,
          1699876578871,
          1698843063,
          1673540300,
          1637931034,
          1425074226,
          1394116310769,
          1392680589329,
          1340389411,
          1258286717125,
          1228170370,
          1185728677,
          1119190780753,
          1050992593,
          10220781063,
          1394116310769
         ],
         "yaxis": "y"
        }
       ],
       "layout": {
        "autosize": true,
        "barmode": "relative",
        "coloraxis": {
         "colorbar": {
          "title": {
           "text": "color"
          }
         },
         "colorscale": [
          [
           0,
           "#0d0887"
          ],
          [
           0.1111111111111111,
           "#46039f"
          ],
          [
           0.2222222222222222,
           "#7201a8"
          ],
          [
           0.3333333333333333,
           "#9c179e"
          ],
          [
           0.4444444444444444,
           "#bd3786"
          ],
          [
           0.5555555555555556,
           "#d8576b"
          ],
          [
           0.6666666666666666,
           "#ed7953"
          ],
          [
           0.7777777777777778,
           "#fb9f3a"
          ],
          [
           0.8888888888888888,
           "#fdca26"
          ],
          [
           1,
           "#f0f921"
          ]
         ]
        },
        "legend": {
         "tracegroupgap": 0
        },
        "template": {
         "data": {
          "bar": [
           {
            "error_x": {
             "color": "#2a3f5f"
            },
            "error_y": {
             "color": "#2a3f5f"
            },
            "marker": {
             "line": {
              "color": "#E5ECF6",
              "width": 0.5
             },
             "pattern": {
              "fillmode": "overlay",
              "size": 10,
              "solidity": 0.2
             }
            },
            "type": "bar"
           }
          ],
          "barpolar": [
           {
            "marker": {
             "line": {
              "color": "#E5ECF6",
              "width": 0.5
             },
             "pattern": {
              "fillmode": "overlay",
              "size": 10,
              "solidity": 0.2
             }
            },
            "type": "barpolar"
           }
          ],
          "carpet": [
           {
            "aaxis": {
             "endlinecolor": "#2a3f5f",
             "gridcolor": "white",
             "linecolor": "white",
             "minorgridcolor": "white",
             "startlinecolor": "#2a3f5f"
            },
            "baxis": {
             "endlinecolor": "#2a3f5f",
             "gridcolor": "white",
             "linecolor": "white",
             "minorgridcolor": "white",
             "startlinecolor": "#2a3f5f"
            },
            "type": "carpet"
           }
          ],
          "choropleth": [
           {
            "colorbar": {
             "outlinewidth": 0,
             "ticks": ""
            },
            "type": "choropleth"
           }
          ],
          "contour": [
           {
            "colorbar": {
             "outlinewidth": 0,
             "ticks": ""
            },
            "colorscale": [
             [
              0,
              "#0d0887"
             ],
             [
              0.1111111111111111,
              "#46039f"
             ],
             [
              0.2222222222222222,
              "#7201a8"
             ],
             [
              0.3333333333333333,
              "#9c179e"
             ],
             [
              0.4444444444444444,
              "#bd3786"
             ],
             [
              0.5555555555555556,
              "#d8576b"
             ],
             [
              0.6666666666666666,
              "#ed7953"
             ],
             [
              0.7777777777777778,
              "#fb9f3a"
             ],
             [
              0.8888888888888888,
              "#fdca26"
             ],
             [
              1,
              "#f0f921"
             ]
            ],
            "type": "contour"
           }
          ],
          "contourcarpet": [
           {
            "colorbar": {
             "outlinewidth": 0,
             "ticks": ""
            },
            "type": "contourcarpet"
           }
          ],
          "heatmap": [
           {
            "colorbar": {
             "outlinewidth": 0,
             "ticks": ""
            },
            "colorscale": [
             [
              0,
              "#0d0887"
             ],
             [
              0.1111111111111111,
              "#46039f"
             ],
             [
              0.2222222222222222,
              "#7201a8"
             ],
             [
              0.3333333333333333,
              "#9c179e"
             ],
             [
              0.4444444444444444,
              "#bd3786"
             ],
             [
              0.5555555555555556,
              "#d8576b"
             ],
             [
              0.6666666666666666,
              "#ed7953"
             ],
             [
              0.7777777777777778,
              "#fb9f3a"
             ],
             [
              0.8888888888888888,
              "#fdca26"
             ],
             [
              1,
              "#f0f921"
             ]
            ],
            "type": "heatmap"
           }
          ],
          "heatmapgl": [
           {
            "colorbar": {
             "outlinewidth": 0,
             "ticks": ""
            },
            "colorscale": [
             [
              0,
              "#0d0887"
             ],
             [
              0.1111111111111111,
              "#46039f"
             ],
             [
              0.2222222222222222,
              "#7201a8"
             ],
             [
              0.3333333333333333,
              "#9c179e"
             ],
             [
              0.4444444444444444,
              "#bd3786"
             ],
             [
              0.5555555555555556,
              "#d8576b"
             ],
             [
              0.6666666666666666,
              "#ed7953"
             ],
             [
              0.7777777777777778,
              "#fb9f3a"
             ],
             [
              0.8888888888888888,
              "#fdca26"
             ],
             [
              1,
              "#f0f921"
             ]
            ],
            "type": "heatmapgl"
           }
          ],
          "histogram": [
           {
            "marker": {
             "pattern": {
              "fillmode": "overlay",
              "size": 10,
              "solidity": 0.2
             }
            },
            "type": "histogram"
           }
          ],
          "histogram2d": [
           {
            "colorbar": {
             "outlinewidth": 0,
             "ticks": ""
            },
            "colorscale": [
             [
              0,
              "#0d0887"
             ],
             [
              0.1111111111111111,
              "#46039f"
             ],
             [
              0.2222222222222222,
              "#7201a8"
             ],
             [
              0.3333333333333333,
              "#9c179e"
             ],
             [
              0.4444444444444444,
              "#bd3786"
             ],
             [
              0.5555555555555556,
              "#d8576b"
             ],
             [
              0.6666666666666666,
              "#ed7953"
             ],
             [
              0.7777777777777778,
              "#fb9f3a"
             ],
             [
              0.8888888888888888,
              "#fdca26"
             ],
             [
              1,
              "#f0f921"
             ]
            ],
            "type": "histogram2d"
           }
          ],
          "histogram2dcontour": [
           {
            "colorbar": {
             "outlinewidth": 0,
             "ticks": ""
            },
            "colorscale": [
             [
              0,
              "#0d0887"
             ],
             [
              0.1111111111111111,
              "#46039f"
             ],
             [
              0.2222222222222222,
              "#7201a8"
             ],
             [
              0.3333333333333333,
              "#9c179e"
             ],
             [
              0.4444444444444444,
              "#bd3786"
             ],
             [
              0.5555555555555556,
              "#d8576b"
             ],
             [
              0.6666666666666666,
              "#ed7953"
             ],
             [
              0.7777777777777778,
              "#fb9f3a"
             ],
             [
              0.8888888888888888,
              "#fdca26"
             ],
             [
              1,
              "#f0f921"
             ]
            ],
            "type": "histogram2dcontour"
           }
          ],
          "mesh3d": [
           {
            "colorbar": {
             "outlinewidth": 0,
             "ticks": ""
            },
            "type": "mesh3d"
           }
          ],
          "parcoords": [
           {
            "line": {
             "colorbar": {
              "outlinewidth": 0,
              "ticks": ""
             }
            },
            "type": "parcoords"
           }
          ],
          "pie": [
           {
            "automargin": true,
            "type": "pie"
           }
          ],
          "scatter": [
           {
            "fillpattern": {
             "fillmode": "overlay",
             "size": 10,
             "solidity": 0.2
            },
            "type": "scatter"
           }
          ],
          "scatter3d": [
           {
            "line": {
             "colorbar": {
              "outlinewidth": 0,
              "ticks": ""
             }
            },
            "marker": {
             "colorbar": {
              "outlinewidth": 0,
              "ticks": ""
             }
            },
            "type": "scatter3d"
           }
          ],
          "scattercarpet": [
           {
            "marker": {
             "colorbar": {
              "outlinewidth": 0,
              "ticks": ""
             }
            },
            "type": "scattercarpet"
           }
          ],
          "scattergeo": [
           {
            "marker": {
             "colorbar": {
              "outlinewidth": 0,
              "ticks": ""
             }
            },
            "type": "scattergeo"
           }
          ],
          "scattergl": [
           {
            "marker": {
             "colorbar": {
              "outlinewidth": 0,
              "ticks": ""
             }
            },
            "type": "scattergl"
           }
          ],
          "scattermapbox": [
           {
            "marker": {
             "colorbar": {
              "outlinewidth": 0,
              "ticks": ""
             }
            },
            "type": "scattermapbox"
           }
          ],
          "scatterpolar": [
           {
            "marker": {
             "colorbar": {
              "outlinewidth": 0,
              "ticks": ""
             }
            },
            "type": "scatterpolar"
           }
          ],
          "scatterpolargl": [
           {
            "marker": {
             "colorbar": {
              "outlinewidth": 0,
              "ticks": ""
             }
            },
            "type": "scatterpolargl"
           }
          ],
          "scatterternary": [
           {
            "marker": {
             "colorbar": {
              "outlinewidth": 0,
              "ticks": ""
             }
            },
            "type": "scatterternary"
           }
          ],
          "surface": [
           {
            "colorbar": {
             "outlinewidth": 0,
             "ticks": ""
            },
            "colorscale": [
             [
              0,
              "#0d0887"
             ],
             [
              0.1111111111111111,
              "#46039f"
             ],
             [
              0.2222222222222222,
              "#7201a8"
             ],
             [
              0.3333333333333333,
              "#9c179e"
             ],
             [
              0.4444444444444444,
              "#bd3786"
             ],
             [
              0.5555555555555556,
              "#d8576b"
             ],
             [
              0.6666666666666666,
              "#ed7953"
             ],
             [
              0.7777777777777778,
              "#fb9f3a"
             ],
             [
              0.8888888888888888,
              "#fdca26"
             ],
             [
              1,
              "#f0f921"
             ]
            ],
            "type": "surface"
           }
          ],
          "table": [
           {
            "cells": {
             "fill": {
              "color": "#EBF0F8"
             },
             "line": {
              "color": "white"
             }
            },
            "header": {
             "fill": {
              "color": "#C8D4E3"
             },
             "line": {
              "color": "white"
             }
            },
            "type": "table"
           }
          ]
         },
         "layout": {
          "annotationdefaults": {
           "arrowcolor": "#2a3f5f",
           "arrowhead": 0,
           "arrowwidth": 1
          },
          "autotypenumbers": "strict",
          "coloraxis": {
           "colorbar": {
            "outlinewidth": 0,
            "ticks": ""
           }
          },
          "colorscale": {
           "diverging": [
            [
             0,
             "#8e0152"
            ],
            [
             0.1,
             "#c51b7d"
            ],
            [
             0.2,
             "#de77ae"
            ],
            [
             0.3,
             "#f1b6da"
            ],
            [
             0.4,
             "#fde0ef"
            ],
            [
             0.5,
             "#f7f7f7"
            ],
            [
             0.6,
             "#e6f5d0"
            ],
            [
             0.7,
             "#b8e186"
            ],
            [
             0.8,
             "#7fbc41"
            ],
            [
             0.9,
             "#4d9221"
            ],
            [
             1,
             "#276419"
            ]
           ],
           "sequential": [
            [
             0,
             "#0d0887"
            ],
            [
             0.1111111111111111,
             "#46039f"
            ],
            [
             0.2222222222222222,
             "#7201a8"
            ],
            [
             0.3333333333333333,
             "#9c179e"
            ],
            [
             0.4444444444444444,
             "#bd3786"
            ],
            [
             0.5555555555555556,
             "#d8576b"
            ],
            [
             0.6666666666666666,
             "#ed7953"
            ],
            [
             0.7777777777777778,
             "#fb9f3a"
            ],
            [
             0.8888888888888888,
             "#fdca26"
            ],
            [
             1,
             "#f0f921"
            ]
           ],
           "sequentialminus": [
            [
             0,
             "#0d0887"
            ],
            [
             0.1111111111111111,
             "#46039f"
            ],
            [
             0.2222222222222222,
             "#7201a8"
            ],
            [
             0.3333333333333333,
             "#9c179e"
            ],
            [
             0.4444444444444444,
             "#bd3786"
            ],
            [
             0.5555555555555556,
             "#d8576b"
            ],
            [
             0.6666666666666666,
             "#ed7953"
            ],
            [
             0.7777777777777778,
             "#fb9f3a"
            ],
            [
             0.8888888888888888,
             "#fdca26"
            ],
            [
             1,
             "#f0f921"
            ]
           ]
          },
          "colorway": [
           "#636efa",
           "#EF553B",
           "#00cc96",
           "#ab63fa",
           "#FFA15A",
           "#19d3f3",
           "#FF6692",
           "#B6E880",
           "#FF97FF",
           "#FECB52"
          ],
          "font": {
           "color": "#2a3f5f"
          },
          "geo": {
           "bgcolor": "white",
           "lakecolor": "white",
           "landcolor": "#E5ECF6",
           "showlakes": true,
           "showland": true,
           "subunitcolor": "white"
          },
          "hoverlabel": {
           "align": "left"
          },
          "hovermode": "closest",
          "mapbox": {
           "style": "light"
          },
          "paper_bgcolor": "white",
          "plot_bgcolor": "#E5ECF6",
          "polar": {
           "angularaxis": {
            "gridcolor": "white",
            "linecolor": "white",
            "ticks": ""
           },
           "bgcolor": "#E5ECF6",
           "radialaxis": {
            "gridcolor": "white",
            "linecolor": "white",
            "ticks": ""
           }
          },
          "scene": {
           "xaxis": {
            "backgroundcolor": "#E5ECF6",
            "gridcolor": "white",
            "gridwidth": 2,
            "linecolor": "white",
            "showbackground": true,
            "ticks": "",
            "zerolinecolor": "white"
           },
           "yaxis": {
            "backgroundcolor": "#E5ECF6",
            "gridcolor": "white",
            "gridwidth": 2,
            "linecolor": "white",
            "showbackground": true,
            "ticks": "",
            "zerolinecolor": "white"
           },
           "zaxis": {
            "backgroundcolor": "#E5ECF6",
            "gridcolor": "white",
            "gridwidth": 2,
            "linecolor": "white",
            "showbackground": true,
            "ticks": "",
            "zerolinecolor": "white"
           }
          },
          "shapedefaults": {
           "line": {
            "color": "#2a3f5f"
           }
          },
          "ternary": {
           "aaxis": {
            "gridcolor": "white",
            "linecolor": "white",
            "ticks": ""
           },
           "baxis": {
            "gridcolor": "white",
            "linecolor": "white",
            "ticks": ""
           },
           "bgcolor": "#E5ECF6",
           "caxis": {
            "gridcolor": "white",
            "linecolor": "white",
            "ticks": ""
           }
          },
          "title": {
           "x": 0.05
          },
          "xaxis": {
           "automargin": true,
           "gridcolor": "white",
           "linecolor": "white",
           "ticks": "",
           "title": {
            "standoff": 15
           },
           "zerolinecolor": "white",
           "zerolinewidth": 2
          },
          "yaxis": {
           "automargin": true,
           "gridcolor": "white",
           "linecolor": "white",
           "ticks": "",
           "title": {
            "standoff": 15
           },
           "zerolinecolor": "white",
           "zerolinewidth": 2
          }
         }
        },
        "title": {
         "text": "World GDP rates of year 2021-23"
        },
        "xaxis": {
         "anchor": "y",
         "autorange": true,
         "domain": [
          0,
          1
         ],
         "range": [
          -0.5,
          194.5
         ],
         "title": {
          "text": "x"
         },
         "type": "category"
        },
        "yaxis": {
         "anchor": "x",
         "autorange": true,
         "domain": [
          0,
          1
         ],
         "range": [
          0,
          24240899618803.156
         ],
         "title": {
          "text": "y"
         },
         "type": "linear"
        }
       }
      },
      "image/png": "[encoded data removed]",
      "text/html": [
       "<div>                            <div id=\"b76fadba-9fa9-4d7d-a19a-ea6f38c20adb\" class=\"plotly-graph-div\" style=\"height:525px; width:100%;\"></div>            <script type=\"text/javascript\">                require([\"plotly\"], function(Plotly) {                    window.PLOTLYENV=window.PLOTLYENV || {};                                    if (document.getElementById(\"b76fadba-9fa9-4d7d-a19a-ea6f38c20adb\")) {                    Plotly.newPlot(                        \"b76fadba-9fa9-4d7d-a19a-ea6f38c20adb\",                        [{\"alignmentgroup\":\"True\",\"hovertemplate\":\"x=%{x}\\u003cbr\\u003ey=%{y}\\u003cbr\\u003ecolor=%{marker.color}\\u003cextra\\u003e\\u003c\\u002fextra\\u003e\",\"legendgroup\":\"\",\"marker\":{\"color\":[2022,2022,2022,2022,2022,2022,2022,2022,2022,2022,2022,2022,2022,2022,2022,2022,2022,2022,2022,2022,2022,2022,2022,2022,2022,2022,2022,2022,2022,2022,2022,2022,2022,2022,2022,2022,2022,2022,2022,2022,2022,2022,2022,2022,2022,2022,2022,2022,2022,2022,2022,2022,2022,2022,2022,2022,2022,2022,2022,2022,2022,2022,2022,2022,2022,2022,2022,2022,2022,2022,2022,2022,2022,2022,2022,2022,2022,2022,2022,2022,2022,2022,2022,2022,2022,2022,2022,2022,2022,2022,2022,2022,2022,2022,2022,2022,2022,2022,2022,2022,2022,2022,2022,2022,2022,2022,2022,2022,2022,2022,2022,2022,2022,2022,2022,2022,2022,2022,2022,2022,2022,2022,2022,2022,2022,2022,2022,2022,2022,2022,2022,2022,2022,2022,2022,2022,2022,2022,2022,2022,2022,2022,2022,2022,2022,2022,2022,2022,2022,2022,2022,2022,2022,2022,2022,2022,2022,2022,2022,2022,2022,2022,2022,2022,2022,2022,2022,2022,2022,2022,2022,2022,2022,2022,2022,2022,2022,2022,2022,2022,2022,2022,2022,2022,2022,2022,2022,2022,2022,2022,2022,2022,2022,2022,2022,2023,2023,2023,2023,2023,2023,2023,2023,2023,2023,2023,2023,2023,2023,2023,2023,2023,2023,2023,2023,2023,2023,2023,2023,2023,2023,2023,2023,2023,2023,2023,2023,2023,2023,2023,2023,2023,2023,2023,2023,2023,2023,2023,2023,2023,2023,2023,2023,2023,2023,2023,2023,2023,2023,2023,2023,2023,2023,2023,2023,2023,2023,2023,2023,2023,2023,2023,2023,2023,2023,2023,2023,2023,2023,2023,2023,2023,2023,2023,2023,2023,2023,2023,2023,2023,2023,2023,2023,2023,2023,2023,2023,2023,2023,2023,2023,2023,2023,2023,2023,2023,2023,2023,2023,2023,2023,2023,2023,2023,2023,2023,2023,2023,2023,2023,2023,2023,2023,2023,2023,2023,2023,2023,2023,2023,2023,2023,2023,2023,2023,2023,2023,2023,2023,2023,2023,2023,2023,2023,2023,2023,2023,2023,2023,2023,2023,2023,2023,2023,2023,2023,2023,2023,2023,2023,2023,2023,2023,2023,2023,2023,2023,2023,2023,2023,2023,2023,2023,2023,2023,2023,2023,2023,2023,2023,2023,2023,2023,2023,2023,2023,2023,2023,2023,2023,2023,2023,2023,2023,2023,2023,2023,2023,2023,2023,2021,2021,2021,2021,2021,2021,2021,2021,2021,2021,2021,2021,2021,2021,2021,2021,2021,2021,2021,2021,2021,2021,2021,2021,2021,2021,2021,2021,2021,2021,2021,2021,2021,2021,2021,2021,2021,2021,2021,2021,2021,2021,2021,2021,2021,2021,2021,2021,2021,2021,2021,2021,2021,2021,2021,2021,2021,2021,2021,2021,2021,2021,2021,2021,2021,2021,2021,2021,2021,2021,2021,2021,2021,2021,2021,2021,2021,2021,2021,2021,2021,2021,2021,2021,2021,2021,2021,2021,2021,2021,2021,2021,2021,2021,2021,2021,2021,2021,2021,2021,2021,2021,2021,2021,2021,2021,2021,2021,2021,2021,2021,2021,2021,2021,2021,2021,2021,2021,2021,2021,2021,2021,2021,2021,2021,2021,2021,2021,2021,2021,2021,2021,2021,2021,2021,2021,2021,2021,2021,2021,2021,2021,2021,2021,2021,2021,2021,2021,2021,2021,2021,2021,2021,2021,2021,2021,2021,2021,2021,2021,2021,2021,2021,2021,2021,2021,2021,2021,2021,2021,2021,2021,2021,2021,2021,2021,2021,2021,2021,2021,2021,2021,2021,2021,2021,2021,2021,2021,2021,2021,2021,2021,2021,2021,2021],\"coloraxis\":\"coloraxis\",\"pattern\":{\"shape\":\"\"}},\"name\":\"\",\"offsetgroup\":\"\",\"orientation\":\"v\",\"showlegend\":false,\"textposition\":\"auto\",\"x\":[\"Afghanistan\",\"Albania\",\"Algeria\",\"Andorra\",\"Angola\",\"Antigua and Barbuda\",\"Argentina\",\"Armenia\",\"Australia\",\"Austria\",\"Azerbaijan\",\"The Bahamas\",\"Bahrain\",\"Bangladesh\",\"Barbados\",\"Belarus\",\"Belgium\",\"Belize\",\"Benin\",\"Bhutan\",\"Bolivia\",\"Bosnia and Herzegovina\",\"Botswana\",\"Brazil\",\"Brunei\",\"Bulgaria\",\"Burkina Faso\",\"Burundi\",\"Ivory Coast\",\"Cape Verde\",\"Cambodia\",\"Cameroon\",\"Canada\",\"Central African Republic\",\"Chad\",\"Chile\",\"China\",\"Colombia\",\"Comoros\",\"Republic of the Congo\",\"Costa Rica\",\"Croatia\",\"Cuba\",\"Cyprus\",\"Czech Republic\",\"Democratic Republic of the Congo\",\"Denmark\",\"Djibouti\",\"Dominica\",\"Dominican Republic\",\"Ecuador\",\"Egypt\",\"El Salvador\",\"Equatorial Guinea\",\"Eritrea\",\"Estonia\",\"Eswatini\",\"Ethiopia\",\"Fiji\",\"Finland\",\"France\",\"Gabon\",\"The Gambia\",\"Georgia\",\"Germany\",\"Ghana\",\"Greece\",\"Grenada\",\"Guatemala\",\"Guinea\",\"Guinea-Bissau\",\"Guyana\",\"Haiti\",\"Vatican City\",\"Honduras\",\"Hungary\",\"Iceland\",\"India\",\"Indonesia\",\"Iran\",\"Iraq\",\"Republic of Ireland\",\"Israel\",\"Italy\",\"Jamaica\",\"Japan\",\"Jordan\",\"Kazakhstan\",\"Kenya\",\"Kiribati\",\"Kuwait\",\"Kyrgyzstan\",\"Laos\",\"Latvia\",\"Lebanon\",\"Lesotho\",\"Liberia\",\"Libya\",\"Liechtenstein\",\"Lithuania\",\"Luxembourg\",\"Madagascar\",\"Malawi\",\"Malaysia\",\"Maldives\",\"Mali\",\"Malta\",\"Marshall Islands\",\"Mauritania\",\"Mauritius\",\"Mexico\",\"Federated States of Micronesia\",\"Moldova\",\"Monaco\",\"Mongolia\",\"Montenegro\",\"Morocco\",\"Mozambique\",\"Myanmar\",\"Namibia\",\"Nauru\",\"Nepal\",\"Netherlands\",\"New Zealand\",\"Nicaragua\",\"Niger\",\"Nigeria\",\"North Korea\",\"North Macedonia\",\"Norway\",\"Oman\",\"Pakistan\",\"Palau\",\"Palestinian National Authority\",\"Panama\",\"Papua New Guinea\",\"Paraguay\",\"Peru\",\"Philippines\",\"Poland\",\"Portugal\",\"Qatar\",\"Romania\",\"Russia\",\"Rwanda\",\"Saint Kitts and Nevis\",\"Saint Lucia\",\"Saint Vincent and the Grenadines\",\"Samoa\",\"San Marino\",\"S\\u00ef\\u00bf\\u00bd\\u00ef\\u00bf\\u00bd\\u00ef\\u00bf\\u00bd\\u00ef\\u00bf\\u00bd\\u00ef\\u00bf\\u00bd\\u00ef\\u00bf\\u00bd\\u00ef\\u00bf\\u00bd\\u00ef\\u00bf\\u00bd\\u00ef\\u00bf\\u00bd\\u00ef\\u00bf\\u00bd\\u00ef\\u00bf\\u00bd\",\"Saudi Arabia\",\"Senegal\",\"Serbia\",\"Seychelles\",\"Sierra Leone\",\"Singapore\",\"Slovakia\",\"Slovenia\",\"Solomon Islands\",\"Somalia\",\"South Africa\",\"South Korea\",\"South Sudan\",\"Spain\",\"Sri Lanka\",\"Sudan\",\"Suriname\",\"Sweden\",\"Switzerland\",\"Syria\",\"Tajikistan\",\"Tanzania\",\"Thailand\",\"East Timor\",\"Togo\",\"Tonga\",\"Trinidad and Tobago\",\"Tunisia\",\"Turkey\",\"Turkmenistan\",\"Tuvalu\",\"Uganda\",\"Ukraine\",\"United Arab Emirates\",\"United Kingdom\",\"United States\",\"Uruguay\",\"Uzbekistan\",\"Vanuatu\",\"Venezuela\",\"Vietnam\",\"Yemen\",\"Zambia\",\"Zimbabwe\",\"Afghanistan\",\"Albania\",\"Algeria\",\"Andorra\",\"Angola\",\"Antigua and Barbuda\",\"Argentina\",\"Armenia\",\"Australia\",\"Austria\",\"Azerbaijan\",\"The Bahamas\",\"Bahrain\",\"Bangladesh\",\"Barbados\",\"Belarus\",\"Belgium\",\"Belize\",\"Benin\",\"Bhutan\",\"Bolivia\",\"Bosnia and Herzegovina\",\"Botswana\",\"Brazil\",\"Brunei\",\"Bulgaria\",\"Burkina Faso\",\"Burundi\",\"Ivory Coast\",\"Cape Verde\",\"Cambodia\",\"Cameroon\",\"Canada\",\"Central African Republic\",\"Chad\",\"Chile\",\"China\",\"Colombia\",\"Comoros\",\"Republic of the Congo\",\"Costa Rica\",\"Croatia\",\"Cuba\",\"Cyprus\",\"Czech Republic\",\"Democratic Republic of the Congo\",\"Denmark\",\"Djibouti\",\"Dominica\",\"Dominican Republic\",\"Ecuador\",\"Egypt\",\"El Salvador\",\"Equatorial Guinea\",\"Eritrea\",\"Estonia\",\"Eswatini\",\"Ethiopia\",\"Fiji\",\"Finland\",\"France\",\"Gabon\",\"The Gambia\",\"Georgia\",\"Germany\",\"Ghana\",\"Greece\",\"Grenada\",\"Guatemala\",\"Guinea\",\"Guinea-Bissau\",\"Guyana\",\"Haiti\",\"Vatican City\",\"Honduras\",\"Hungary\",\"Iceland\",\"India\",\"Indonesia\",\"Iran\",\"Iraq\",\"Republic of Ireland\",\"Israel\",\"Italy\",\"Jamaica\",\"Japan\",\"Jordan\",\"Kazakhstan\",\"Kenya\",\"Kiribati\",\"Kuwait\",\"Kyrgyzstan\",\"Laos\",\"Latvia\",\"Lebanon\",\"Lesotho\",\"Liberia\",\"Libya\",\"Liechtenstein\",\"Lithuania\",\"Luxembourg\",\"Madagascar\",\"Malawi\",\"Malaysia\",\"Maldives\",\"Mali\",\"Malta\",\"Marshall Islands\",\"Mauritania\",\"Mauritius\",\"Mexico\",\"Federated States of Micronesia\",\"Moldova\",\"Monaco\",\"Mongolia\",\"Montenegro\",\"Morocco\",\"Mozambique\",\"Myanmar\",\"Namibia\",\"Nauru\",\"Nepal\",\"Netherlands\",\"New Zealand\",\"Nicaragua\",\"Niger\",\"Nigeria\",\"North Korea\",\"North Macedonia\",\"Norway\",\"Oman\",\"Pakistan\",\"Palau\",\"Palestinian National Authority\",\"Panama\",\"Papua New Guinea\",\"Paraguay\",\"Peru\",\"Philippines\",\"Poland\",\"Portugal\",\"Qatar\",\"Romania\",\"Russia\",\"Rwanda\",\"Saint Kitts and Nevis\",\"Saint Lucia\",\"Saint Vincent and the Grenadines\",\"Samoa\",\"San Marino\",\"S\\u00ef\\u00bf\\u00bd\\u00ef\\u00bf\\u00bd\\u00ef\\u00bf\\u00bd\\u00ef\\u00bf\\u00bd\\u00ef\\u00bf\\u00bd\\u00ef\\u00bf\\u00bd\\u00ef\\u00bf\\u00bd\\u00ef\\u00bf\\u00bd\\u00ef\\u00bf\\u00bd\\u00ef\\u00bf\\u00bd\\u00ef\\u00bf\\u00bd\",\"Saudi Arabia\",\"Senegal\",\"Serbia\",\"Seychelles\",\"Sierra Leone\",\"Singapore\",\"Slovakia\",\"Slovenia\",\"Solomon Islands\",\"Somalia\",\"South Africa\",\"South Korea\",\"South Sudan\",\"Spain\",\"Sri Lanka\",\"Sudan\",\"Suriname\",\"Sweden\",\"Switzerland\",\"Syria\",\"Tajikistan\",\"Tanzania\",\"Thailand\",\"East Timor\",\"Togo\",\"Tonga\",\"Trinidad and Tobago\",\"Tunisia\",\"Turkey\",\"Turkmenistan\",\"Tuvalu\",\"Uganda\",\"Ukraine\",\"United Arab Emirates\",\"United Kingdom\",\"United States\",\"Uruguay\",\"Uzbekistan\",\"Vanuatu\",\"Venezuela\",\"Vietnam\",\"Yemen\",\"Zambia\",\"Zimbabwe\",\"Afghanistan\",\"Albania\",\"Algeria\",\"Andorra\",\"Angola\",\"Antigua and Barbuda\",\"Argentina\",\"Armenia\",\"Australia\",\"Austria\",\"Azerbaijan\",\"The Bahamas\",\"Bahrain\",\"Bangladesh\",\"Barbados\",\"Belarus\",\"Belgium\",\"Belize\",\"Benin\",\"Bhutan\",\"Bolivia\",\"Bosnia and Herzegovina\",\"Botswana\",\"Brazil\",\"Brunei\",\"Bulgaria\",\"Burkina Faso\",\"Burundi\",\"Ivory Coast\",\"Cape Verde\",\"Cambodia\",\"Cameroon\",\"Canada\",\"Central African Republic\",\"Chad\",\"Chile\",\"China\",\"Colombia\",\"Comoros\",\"Republic of the Congo\",\"Costa Rica\",\"Croatia\",\"Cuba\",\"Cyprus\",\"Czech Republic\",\"Democratic Republic of the Congo\",\"Denmark\",\"Djibouti\",\"Dominica\",\"Dominican Republic\",\"Ecuador\",\"Egypt\",\"El Salvador\",\"Equatorial Guinea\",\"Eritrea\",\"Estonia\",\"Eswatini\",\"Ethiopia\",\"Fiji\",\"Finland\",\"France\",\"Gabon\",\"The Gambia\",\"Georgia\",\"Germany\",\"Ghana\",\"Greece\",\"Grenada\",\"Guatemala\",\"Guinea\",\"Guinea-Bissau\",\"Guyana\",\"Haiti\",\"Vatican City\",\"Honduras\",\"Hungary\",\"Iceland\",\"India\",\"Indonesia\",\"Iran\",\"Iraq\",\"Republic of Ireland\",\"Israel\",\"Italy\",\"Jamaica\",\"Japan\",\"Jordan\",\"Kazakhstan\",\"Kenya\",\"Kiribati\",\"Kuwait\",\"Kyrgyzstan\",\"Laos\",\"Latvia\",\"Lebanon\",\"Lesotho\",\"Liberia\",\"Libya\",\"Liechtenstein\",\"Lithuania\",\"Luxembourg\",\"Madagascar\",\"Malawi\",\"Malaysia\",\"Maldives\",\"Mali\",\"Malta\",\"Marshall Islands\",\"Mauritania\",\"Mauritius\",\"Mexico\",\"Federated States of Micronesia\",\"Moldova\",\"Monaco\",\"Mongolia\",\"Montenegro\",\"Morocco\",\"Mozambique\",\"Myanmar\",\"Namibia\",\"Nauru\",\"Nepal\",\"Netherlands\",\"New Zealand\",\"Nicaragua\",\"Niger\",\"Nigeria\",\"North Korea\",\"North Macedonia\",\"Norway\",\"Oman\",\"Pakistan\",\"Palau\",\"Palestinian National Authority\",\"Panama\",\"Papua New Guinea\",\"Paraguay\",\"Peru\",\"Philippines\",\"Poland\",\"Portugal\",\"Qatar\",\"Romania\",\"Russia\",\"Rwanda\",\"Saint Kitts and Nevis\",\"Saint Lucia\",\"Saint Vincent and the Grenadines\",\"Samoa\",\"San Marino\",\"S\\u00ef\\u00bf\\u00bd\\u00ef\\u00bf\\u00bd\\u00ef\\u00bf\\u00bd\\u00ef\\u00bf\\u00bd\\u00ef\\u00bf\\u00bd\\u00ef\\u00bf\\u00bd\\u00ef\\u00bf\\u00bd\\u00ef\\u00bf\\u00bd\\u00ef\\u00bf\\u00bd\\u00ef\\u00bf\\u00bd\\u00ef\\u00bf\\u00bd\",\"Saudi Arabia\",\"Senegal\",\"Serbia\",\"Seychelles\",\"Sierra Leone\",\"Singapore\",\"Slovakia\",\"Slovenia\",\"Solomon Islands\",\"Somalia\",\"South Africa\",\"South Korea\",\"South Sudan\",\"Spain\",\"Sri Lanka\",\"Sudan\",\"Suriname\",\"Sweden\",\"Switzerland\",\"Syria\",\"Tajikistan\",\"Tanzania\",\"Thailand\",\"East Timor\",\"Togo\",\"Tonga\",\"Trinidad and Tobago\",\"Tunisia\",\"Turkey\",\"Turkmenistan\",\"Tuvalu\",\"Uganda\",\"Ukraine\",\"United Arab Emirates\",\"United Kingdom\",\"United States\",\"Uruguay\",\"Uzbekistan\",\"Vanuatu\",\"Venezuela\",\"Vietnam\",\"Yemen\",\"Zambia\",\"Zimbabwe\"],\"xaxis\":\"x\",\"y\":[19101353833.0,15278077447.0,169988236398.0,3154057987.0,94635415870.0,1727759259.0,449663446954.0,13672802158.0,1392680589329.0,446314739528.0,39207000000.0,12827000000.0,38574069149.0,302571254131.0,5209000000.0,63080457023.0,529606710418.0,1879613600.0,14390709095.0,2446674101.0,40895322865.0,20047848435.0,18340510789.0,1839758040766.0,13469422941.0,86000000000.0,15745810235.0,3012334882.0,58792205642.0,1981845741.0,27089389787.0,38760467033.0,1736425629520.0,2220307369.0,11314951343.0,282318159745.0,19910000000000.0,323802808108.0,1185728677.0,10820591131.0,61773944174.0,60415553039.0,100023000000.0,24564647935.0,246489245495.0,47319624204.0,348078018464.0,3318716359.0,596033333.0,88941298258.0,107435665000.0,303175127598.0,27022640000.0,11026774945.0,2065001626.0,31386949981.0,3791304348.0,96107662398.0,5535548972.0,268761201365.0,2715518274227.0,16657960228.0,1763819048.0,17743195770.0,3845630030824.0,66983634224.0,209852761469.0,1228170370.0,76710385880.0,13590281809.0,1340389411.0,4280443645.0,8498981821.0,478069989676.704,25095395475.0,160967157504.0,24188035739.0,2611000000000.0,1119190780753.0,445345282123.0,234094042939.0,388698711348.0,395098666122.0,2001244392042.0,16458071068.0,5081769542380.0,43743661972.0,180161741180.0,95503088538.0,194647202.0,134761198946.0,8454619608.0,18173839128.0,34117202555.0,53367042272.0,2460072444.0,3070518100.0,52076250948.0,6552858739.0,54219315600.0,71104919108.0,14083906357.0,7666704427.0,364701517788.0,5729248472.0,17510141171.0,14786156563.0,221278000.0,7593752450.0,14180444557.0,1258286717125.0,401932279.0,11955435457.0,7184844193.0,13852850259.0,5494736901.0,118725279596.0,14934159926.0,76085852617.0,12366527719.0,133000000.0,30641380604.0,909070395161.0,206928765544.0,12520915291.0,12928145120.0,448120428859.0,32100000000.0,10220781069.0,403336363636.0,76983094928.0,304400000000.0,283994900.0,478069989676.704,66800800000.0,24969611435.0,38145288940.0,226848050820.0,376795508680.0,592164400688.0,237686075635.0,183466208791.0,250077444017.0,1699876578871.0,10122472590.0,1050992593.0,2122450630.0,825385185.0,850655017.0,1637931034.0,429016605.0,792966838162.0,23578084052.0,51409167351.0,1698843063.0,3941474311.0,372062527489.0,105422304976.0,53742159517.0,1425074226.0,4720727278.0,351431649241.0,2029000000000.0,11997800751.0,1394116310769.0,84008783756.0,18902284476.0,3985250737.0,530832908738.0,703082435360.0,40405006007.0,8116626794.0,63177068175.0,543649976166.0,1673540300.0,5459979417.0,450353314.0,24100202834.0,38797709924.0,754411708203.0,40761142857.0,47271463.0,34387229486.0,153781069118.0,421142267938.0,2827113184696.0,21427700000000.0,56045912952.0,57921286440.0,917058851.0,482359318768.0,261921244843.0,26914402224.0,23064722446.0,21440758800.0,1050992593.0,1119190780753.0,1185728677.0,1228170370.0,1258286717125.0,1340389411.0,1392680589329.0,1394116310769.0,1425074226.0,1637931034.0,1673540300.0,1698843063.0,1699876578871.0,1727759259.0,1736425629520.0,1763819048.0,1839758040766.0,1879613600.0,1981845741.0,10122472590.0,10220781069.0,10820591131.0,100023000000.0,105422304976.0,107435665000.0,11026774945.0,11314951343.0,11955435457.0,11997800751.0,118725279596.0,12366527719.0,12520915291.0,12827000000.0,12928145120.0,13469422941.0,13590281809.0,13672802158.0,13852850259.0,133000000.0,134761198946.0,14083906357.0,14180444557.0,14390709095.0,14786156563.0,14934159926.0,15278077447.0,15745810235.0,153781069118.0,16458071068.0,16657960228.0,160967157504.0,169988236398.0,17510141171.0,17743195770.0,18173839128.0,18340510789.0,18902284476.0,180161741180.0,183466208791.0,19101353833.0,19910000000000.0,194647202.0,2001244392042.0,2029000000000.0,2065001626.0,2122450630.0,2220307369.0,2446674101.0,2460072444.0,2611000000000.0,2715518274227.0,2827113184696.0,20047848435.0,206928765544.0,209852761469.0,21427700000000.0,21440758800.0,221278000.0,226848050820.0,23064722446.0,23578084052.0,234094042939.0,237686075635.0,24100202834.0,24188035739.0,24564647935.0,24969611435.0,246489245495.0,25095395475.0,250077444017.0,26914402224.0,261921244843.0,268761201365.0,27022640000.0,27089389787.0,282318159745.0,283994900.0,3012334882.0,3070518100.0,3154057987.0,3318716359.0,3791304348.0,3845630030824.0,3941474311.0,3985250737.0,30641380604.0,302571254131.0,303175127598.0,304400000000.0,31386949981.0,32100000000.0,323802808108.0,34117202555.0,34387229486.0,348078018464.0,351431649241.0,364701517788.0,372062527489.0,376795508680.0,38145288940.0,38574069149.0,38760467033.0,38797709924.0,388698711348.0,39207000000.0,395098666122.0,4280443645.0,4720727278.0,40405006007.0,40761142857.0,40895322865.0,401932279.0,403336363636.0,421142267938.0,429016605.0,43743661972.0,445345282123.0,446314739528.0,448120428859.0,449663446954.0,450353314.0,47271463.0,47319624204.0,482359318768.0,5081769542380.0,5209000000.0,5459979417.0,5494736901.0,5535548972.0,5729248472.0,51409167351.0,52076250948.0,529606710418.0,53367042272.0,53742159517.0,530832908738.0,54219315600.0,543649976166.0,56045912952.0,57921286440.0,58792205642.0,592164400688.0,596033333.0,6552858739.0,60415553039.0,61773944174.0,63080457023.0,63177068175.0,66800800000.0,66983634224.0,7184844193.0,7593752450.0,7666704427.0,703082435360.0,71104919108.0,754411708203.0,76085852617.0,76710385880.0,76983094928.0,792966838162.0,478069989676.704,8454619608.0,8498981821.0,825385185.0,84008783756.0,850655017.0,86000000000.0,88941298258.0,909070395161.0,917058851.0,94635415870.0,478069989676.704,96107662398.0,8116626794.0,95503088538.0,96107662398.0,95503088538.0,94635415870.0,917058851.0,909070395161.0,88941298258.0,86000000000.0,850655017.0,84008783756.0,825385185.0,8498981821.0,8454619608.0,8116626794.0,792966838162.0,76983094928.0,76710385880.0,76085852617.0,754411708203.0,71104919108.0,703082435360.0,7666704427.0,7593752450.0,7184844193.0,66983634224.0,66800800000.0,63177068175.0,63080457023.0,61773944174.0,60415553039.0,6552858739.0,596033333.0,592164400688.0,58792205642.0,57921286440.0,56045912952.0,543649976166.0,54219315600.0,530832908738.0,53742159517.0,53367042272.0,529606710418.0,52076250948.0,51409167351.0,5729248472.0,5535548972.0,5494736901.0,5459979417.0,5209000000.0,5081769542380.0,482359318768.0,47319624204.0,47271463.0,450353314.0,449663446954.0,448120428859.0,446314739528.0,445345282123.0,43743661972.0,429016605.0,421142267938.0,403336363636.0,401932279.0,40895322865.0,40761142857.0,40405006007.0,4720727278.0,4280443645.0,395098666122.0,39207000000.0,388698711348.0,38797709924.0,38760467033.0,38574069149.0,38145288940.0,376795508680.0,372062527489.0,364701517788.0,351431649241.0,348078018464.0,34387229486.0,34117202555.0,323802808108.0,32100000000.0,31386949981.0,304400000000.0,303175127598.0,302571254131.0,30641380604.0,3985250737.0,3941474311.0,3845630030824.0,3791304348.0,3318716359.0,3154057987.0,3070518100.0,3012334882.0,283994900.0,282318159745.0,27089389787.0,27022640000.0,268761201365.0,261921244843.0,26914402224.0,250077444017.0,25095395475.0,246489245495.0,24969611435.0,24564647935.0,24188035739.0,24100202834.0,237686075635.0,234094042939.0,23578084052.0,23064722446.0,226848050820.0,221278000.0,21440758800.0,21427700000000.0,209852761469.0,206928765544.0,20047848435.0,2827113184696.0,2715518274227.0,2611000000000.0,2460072444.0,2446674101.0,2220307369.0,2122450630.0,2065001626.0,2029000000000.0,2001244392042.0,194647202.0,19910000000000.0,19101353833.0,183466208791.0,180161741180.0,18902284476.0,18340510789.0,18173839128.0,17743195770.0,17510141171.0,169988236398.0,160967157504.0,16657960228.0,16458071068.0,153781069118.0,15745810235.0,15278077447.0,14934159926.0,14786156563.0,14390709095.0,14180444557.0,14083906357.0,134761198946.0,133000000.0,13852850259.0,13672802158.0,13590281809.0,13469422941.0,12928145120.0,12827000000.0,12520915291.0,12366527719.0,118725279596.0,11997800751.0,11955435457.0,11314951343.0,11026774945.0,107435665000.0,105422304976.0,100023000000.0,10820591131.0,10220781069.0,10122472590.0,1981845741.0,1879613600.0,1839758040766.0,1763819048.0,1736425629520.0,1727759259.0,1699876578871.0,1698843063.0,1673540300.0,1637931034.0,1425074226.0,1394116310769.0,1392680589329.0,1340389411.0,1258286717125.0,1228170370.0,1185728677.0,1119190780753.0,1050992593.0,10220781063.0,1394116310769.0],\"yaxis\":\"y\",\"type\":\"bar\"}],                        {\"template\":{\"data\":{\"histogram2dcontour\":[{\"type\":\"histogram2dcontour\",\"colorbar\":{\"outlinewidth\":0,\"ticks\":\"\"},\"colorscale\":[[0.0,\"#0d0887\"],[0.1111111111111111,\"#46039f\"],[0.2222222222222222,\"#7201a8\"],[0.3333333333333333,\"#9c179e\"],[0.4444444444444444,\"#bd3786\"],[0.5555555555555556,\"#d8576b\"],[0.6666666666666666,\"#ed7953\"],[0.7777777777777778,\"#fb9f3a\"],[0.8888888888888888,\"#fdca26\"],[1.0,\"#f0f921\"]]}],\"choropleth\":[{\"type\":\"choropleth\",\"colorbar\":{\"outlinewidth\":0,\"ticks\":\"\"}}],\"histogram2d\":[{\"type\":\"histogram2d\",\"colorbar\":{\"outlinewidth\":0,\"ticks\":\"\"},\"colorscale\":[[0.0,\"#0d0887\"],[0.1111111111111111,\"#46039f\"],[0.2222222222222222,\"#7201a8\"],[0.3333333333333333,\"#9c179e\"],[0.4444444444444444,\"#bd3786\"],[0.5555555555555556,\"#d8576b\"],[0.6666666666666666,\"#ed7953\"],[0.7777777777777778,\"#fb9f3a\"],[0.8888888888888888,\"#fdca26\"],[1.0,\"#f0f921\"]]}],\"heatmap\":[{\"type\":\"heatmap\",\"colorbar\":{\"outlinewidth\":0,\"ticks\":\"\"},\"colorscale\":[[0.0,\"#0d0887\"],[0.1111111111111111,\"#46039f\"],[0.2222222222222222,\"#7201a8\"],[0.3333333333333333,\"#9c179e\"],[0.4444444444444444,\"#bd3786\"],[0.5555555555555556,\"#d8576b\"],[0.6666666666666666,\"#ed7953\"],[0.7777777777777778,\"#fb9f3a\"],[0.8888888888888888,\"#fdca26\"],[1.0,\"#f0f921\"]]}],\"heatmapgl\":[{\"type\":\"heatmapgl\",\"colorbar\":{\"outlinewidth\":0,\"ticks\":\"\"},\"colorscale\":[[0.0,\"#0d0887\"],[0.1111111111111111,\"#46039f\"],[0.2222222222222222,\"#7201a8\"],[0.3333333333333333,\"#9c179e\"],[0.4444444444444444,\"#bd3786\"],[0.5555555555555556,\"#d8576b\"],[0.6666666666666666,\"#ed7953\"],[0.7777777777777778,\"#fb9f3a\"],[0.8888888888888888,\"#fdca26\"],[1.0,\"#f0f921\"]]}],\"contourcarpet\":[{\"type\":\"contourcarpet\",\"colorbar\":{\"outlinewidth\":0,\"ticks\":\"\"}}],\"contour\":[{\"type\":\"contour\",\"colorbar\":{\"outlinewidth\":0,\"ticks\":\"\"},\"colorscale\":[[0.0,\"#0d0887\"],[0.1111111111111111,\"#46039f\"],[0.2222222222222222,\"#7201a8\"],[0.3333333333333333,\"#9c179e\"],[0.4444444444444444,\"#bd3786\"],[0.5555555555555556,\"#d8576b\"],[0.6666666666666666,\"#ed7953\"],[0.7777777777777778,\"#fb9f3a\"],[0.8888888888888888,\"#fdca26\"],[1.0,\"#f0f921\"]]}],\"surface\":[{\"type\":\"surface\",\"colorbar\":{\"outlinewidth\":0,\"ticks\":\"\"},\"colorscale\":[[0.0,\"#0d0887\"],[0.1111111111111111,\"#46039f\"],[0.2222222222222222,\"#7201a8\"],[0.3333333333333333,\"#9c179e\"],[0.4444444444444444,\"#bd3786\"],[0.5555555555555556,\"#d8576b\"],[0.6666666666666666,\"#ed7953\"],[0.7777777777777778,\"#fb9f3a\"],[0.8888888888888888,\"#fdca26\"],[1.0,\"#f0f921\"]]}],\"mesh3d\":[{\"type\":\"mesh3d\",\"colorbar\":{\"outlinewidth\":0,\"ticks\":\"\"}}],\"scatter\":[{\"fillpattern\":{\"fillmode\":\"overlay\",\"size\":10,\"solidity\":0.2},\"type\":\"scatter\"}],\"parcoords\":[{\"type\":\"parcoords\",\"line\":{\"colorbar\":{\"outlinewidth\":0,\"ticks\":\"\"}}}],\"scatterpolargl\":[{\"type\":\"scatterpolargl\",\"marker\":{\"colorbar\":{\"outlinewidth\":0,\"ticks\":\"\"}}}],\"bar\":[{\"error_x\":{\"color\":\"#2a3f5f\"},\"error_y\":{\"color\":\"#2a3f5f\"},\"marker\":{\"line\":{\"color\":\"#E5ECF6\",\"width\":0.5},\"pattern\":{\"fillmode\":\"overlay\",\"size\":10,\"solidity\":0.2}},\"type\":\"bar\"}],\"scattergeo\":[{\"type\":\"scattergeo\",\"marker\":{\"colorbar\":{\"outlinewidth\":0,\"ticks\":\"\"}}}],\"scatterpolar\":[{\"type\":\"scatterpolar\",\"marker\":{\"colorbar\":{\"outlinewidth\":0,\"ticks\":\"\"}}}],\"histogram\":[{\"marker\":{\"pattern\":{\"fillmode\":\"overlay\",\"size\":10,\"solidity\":0.2}},\"type\":\"histogram\"}],\"scattergl\":[{\"type\":\"scattergl\",\"marker\":{\"colorbar\":{\"outlinewidth\":0,\"ticks\":\"\"}}}],\"scatter3d\":[{\"type\":\"scatter3d\",\"line\":{\"colorbar\":{\"outlinewidth\":0,\"ticks\":\"\"}},\"marker\":{\"colorbar\":{\"outlinewidth\":0,\"ticks\":\"\"}}}],\"scattermapbox\":[{\"type\":\"scattermapbox\",\"marker\":{\"colorbar\":{\"outlinewidth\":0,\"ticks\":\"\"}}}],\"scatterternary\":[{\"type\":\"scatterternary\",\"marker\":{\"colorbar\":{\"outlinewidth\":0,\"ticks\":\"\"}}}],\"scattercarpet\":[{\"type\":\"scattercarpet\",\"marker\":{\"colorbar\":{\"outlinewidth\":0,\"ticks\":\"\"}}}],\"carpet\":[{\"aaxis\":{\"endlinecolor\":\"#2a3f5f\",\"gridcolor\":\"white\",\"linecolor\":\"white\",\"minorgridcolor\":\"white\",\"startlinecolor\":\"#2a3f5f\"},\"baxis\":{\"endlinecolor\":\"#2a3f5f\",\"gridcolor\":\"white\",\"linecolor\":\"white\",\"minorgridcolor\":\"white\",\"startlinecolor\":\"#2a3f5f\"},\"type\":\"carpet\"}],\"table\":[{\"cells\":{\"fill\":{\"color\":\"#EBF0F8\"},\"line\":{\"color\":\"white\"}},\"header\":{\"fill\":{\"color\":\"#C8D4E3\"},\"line\":{\"color\":\"white\"}},\"type\":\"table\"}],\"barpolar\":[{\"marker\":{\"line\":{\"color\":\"#E5ECF6\",\"width\":0.5},\"pattern\":{\"fillmode\":\"overlay\",\"size\":10,\"solidity\":0.2}},\"type\":\"barpolar\"}],\"pie\":[{\"automargin\":true,\"type\":\"pie\"}]},\"layout\":{\"autotypenumbers\":\"strict\",\"colorway\":[\"#636efa\",\"#EF553B\",\"#00cc96\",\"#ab63fa\",\"#FFA15A\",\"#19d3f3\",\"#FF6692\",\"#B6E880\",\"#FF97FF\",\"#FECB52\"],\"font\":{\"color\":\"#2a3f5f\"},\"hovermode\":\"closest\",\"hoverlabel\":{\"align\":\"left\"},\"paper_bgcolor\":\"white\",\"plot_bgcolor\":\"#E5ECF6\",\"polar\":{\"bgcolor\":\"#E5ECF6\",\"angularaxis\":{\"gridcolor\":\"white\",\"linecolor\":\"white\",\"ticks\":\"\"},\"radialaxis\":{\"gridcolor\":\"white\",\"linecolor\":\"white\",\"ticks\":\"\"}},\"ternary\":{\"bgcolor\":\"#E5ECF6\",\"aaxis\":{\"gridcolor\":\"white\",\"linecolor\":\"white\",\"ticks\":\"\"},\"baxis\":{\"gridcolor\":\"white\",\"linecolor\":\"white\",\"ticks\":\"\"},\"caxis\":{\"gridcolor\":\"white\",\"linecolor\":\"white\",\"ticks\":\"\"}},\"coloraxis\":{\"colorbar\":{\"outlinewidth\":0,\"ticks\":\"\"}},\"colorscale\":{\"sequential\":[[0.0,\"#0d0887\"],[0.1111111111111111,\"#46039f\"],[0.2222222222222222,\"#7201a8\"],[0.3333333333333333,\"#9c179e\"],[0.4444444444444444,\"#bd3786\"],[0.5555555555555556,\"#d8576b\"],[0.6666666666666666,\"#ed7953\"],[0.7777777777777778,\"#fb9f3a\"],[0.8888888888888888,\"#fdca26\"],[1.0,\"#f0f921\"]],\"sequentialminus\":[[0.0,\"#0d0887\"],[0.1111111111111111,\"#46039f\"],[0.2222222222222222,\"#7201a8\"],[0.3333333333333333,\"#9c179e\"],[0.4444444444444444,\"#bd3786\"],[0.5555555555555556,\"#d8576b\"],[0.6666666666666666,\"#ed7953\"],[0.7777777777777778,\"#fb9f3a\"],[0.8888888888888888,\"#fdca26\"],[1.0,\"#f0f921\"]],\"diverging\":[[0,\"#8e0152\"],[0.1,\"#c51b7d\"],[0.2,\"#de77ae\"],[0.3,\"#f1b6da\"],[0.4,\"#fde0ef\"],[0.5,\"#f7f7f7\"],[0.6,\"#e6f5d0\"],[0.7,\"#b8e186\"],[0.8,\"#7fbc41\"],[0.9,\"#4d9221\"],[1,\"#276419\"]]},\"xaxis\":{\"gridcolor\":\"white\",\"linecolor\":\"white\",\"ticks\":\"\",\"title\":{\"standoff\":15},\"zerolinecolor\":\"white\",\"automargin\":true,\"zerolinewidth\":2},\"yaxis\":{\"gridcolor\":\"white\",\"linecolor\":\"white\",\"ticks\":\"\",\"title\":{\"standoff\":15},\"zerolinecolor\":\"white\",\"automargin\":true,\"zerolinewidth\":2},\"scene\":{\"xaxis\":{\"backgroundcolor\":\"#E5ECF6\",\"gridcolor\":\"white\",\"linecolor\":\"white\",\"showbackground\":true,\"ticks\":\"\",\"zerolinecolor\":\"white\",\"gridwidth\":2},\"yaxis\":{\"backgroundcolor\":\"#E5ECF6\",\"gridcolor\":\"white\",\"linecolor\":\"white\",\"showbackground\":true,\"ticks\":\"\",\"zerolinecolor\":\"white\",\"gridwidth\":2},\"zaxis\":{\"backgroundcolor\":\"#E5ECF6\",\"gridcolor\":\"white\",\"linecolor\":\"white\",\"showbackground\":true,\"ticks\":\"\",\"zerolinecolor\":\"white\",\"gridwidth\":2}},\"shapedefaults\":{\"line\":{\"color\":\"#2a3f5f\"}},\"annotationdefaults\":{\"arrowcolor\":\"#2a3f5f\",\"arrowhead\":0,\"arrowwidth\":1},\"geo\":{\"bgcolor\":\"white\",\"landcolor\":\"#E5ECF6\",\"subunitcolor\":\"white\",\"showland\":true,\"showlakes\":true,\"lakecolor\":\"white\"},\"title\":{\"x\":0.05},\"mapbox\":{\"style\":\"light\"}}},\"xaxis\":{\"anchor\":\"y\",\"domain\":[0.0,1.0],\"title\":{\"text\":\"x\"}},\"yaxis\":{\"anchor\":\"x\",\"domain\":[0.0,1.0],\"title\":{\"text\":\"y\"}},\"coloraxis\":{\"colorbar\":{\"title\":{\"text\":\"color\"}},\"colorscale\":[[0.0,\"#0d0887\"],[0.1111111111111111,\"#46039f\"],[0.2222222222222222,\"#7201a8\"],[0.3333333333333333,\"#9c179e\"],[0.4444444444444444,\"#bd3786\"],[0.5555555555555556,\"#d8576b\"],[0.6666666666666666,\"#ed7953\"],[0.7777777777777778,\"#fb9f3a\"],[0.8888888888888888,\"#fdca26\"],[1.0,\"#f0f921\"]]},\"legend\":{\"tracegroupgap\":0},\"title\":{\"text\":\"World GDP rates of year 2021-23\"},\"barmode\":\"relative\"},                        {\"responsive\": true}                    ).then(function(){\n",
       "                            \n",
       "var gd = document.getElementById('b76fadba-9fa9-4d7d-a19a-ea6f38c20adb');\n",
       "var x = new MutationObserver(function (mutations, observer) {{\n",
       "        var display = window.getComputedStyle(gd).display;\n",
       "        if (!display || display === 'none') {{\n",
       "            console.log([gd, 'removed!']);\n",
       "            Plotly.purge(gd);\n",
       "            observer.disconnect();\n",
       "        }}\n",
       "}});\n",
       "\n",
       "// Listen for the removal of the full notebook cells\n",
       "var notebookContainer = gd.closest('#notebook-container');\n",
       "if (notebookContainer) {{\n",
       "    x.observe(notebookContainer, {childList: true});\n",
       "}}\n",
       "\n",
       "// Listen for the clearing of the current output cell\n",
       "var outputEl = gd.closest('.output');\n",
       "if (outputEl) {{\n",
       "    x.observe(outputEl, {childList: true});\n",
       "}}\n",
       "\n",
       "                        })                };                });            </script>        </div>"
      ]
     },
     "metadata": {},
     "output_type": "display_data"
    }
   ],
   "source": [
    "import pandas as pd\n",
    "import xlrd\n",
    "import matplotlib.pyplot as plt\n",
    "import plotly.express as px\n",
    "df=pd.read_excel(\"world_literacy_data_2021_2023.xlsx\")\n",
    "df.fillna(mean_value,inplace=True)\n",
    "# long_df = px.data.medals_long()\n",
    "fig = px.bar(x=df.Country, y=df['GDP'], color=df.Year, title=\"World GDP rates of year 2021-23\")\n",
    "fig.show()"
   ]
  },
  {
   "cell_type": "markdown",
   "id": "d9fff912-4e12-4c2a-8684-b2c248dbc4a2",
   "metadata": {},
   "source": [
    "# Plot the GDP and Literacy rate of the each country (Year : 2023)"
   ]
  },
  {
   "cell_type": "code",
   "execution_count": 29,
   "id": "db1145c2-aea0-40b8-a4cf-fb8f50c9ee1c",
   "metadata": {},
   "outputs": [
    {
     "name": "stdout",
     "output_type": "stream",
     "text": [
      "         Country           GDP  Literacy Rate  Life expectancy  Year\n",
      "195  Afghanistan  1.050993e+09          0.093             82.7  2023\n",
      "196      Albania  1.119191e+12          0.248             81.6  2023\n",
      "197      Algeria  1.185729e+09          0.900             72.9  2023\n",
      "198      Andorra  1.228170e+09          0.546             73.8  2023\n",
      "199       Angola  1.258287e+12          1.131             77.2  2023\n",
      "..           ...           ...            ...              ...   ...\n",
      "385    Venezuela  9.463542e+10          0.093             72.7  2023\n",
      "386      Vietnam  4.780700e+11          0.236             83.0  2023\n",
      "387        Yemen  9.610766e+10          0.137             75.7  2023\n",
      "388       Zambia  8.116627e+09          0.128             72.1  2023\n",
      "389     Zimbabwe  9.550309e+10          0.689             75.3  2023\n",
      "\n",
      "[195 rows x 5 columns]\n"
     ]
    },
    {
     "data": {
      "application/vnd.plotly.v1+json": {
       "config": {
        "plotlyServerURL": "https://plot.ly"
       },
       "data": [
        {
         "mode": "lines",
         "name": "lines",
         "type": "scatter",
         "x": [
          "Afghanistan",
          "Albania",
          "Algeria",
          "Andorra",
          "Angola",
          "Antigua and Barbuda",
          "Argentina",
          "Armenia",
          "Australia",
          "Austria",
          "Azerbaijan",
          "The Bahamas",
          "Bahrain",
          "Bangladesh",
          "Barbados",
          "Belarus",
          "Belgium",
          "Belize",
          "Benin",
          "Bhutan",
          "Bolivia",
          "Bosnia and Herzegovina",
          "Botswana",
          "Brazil",
          "Brunei",
          "Bulgaria",
          "Burkina Faso",
          "Burundi",
          "Ivory Coast",
          "Cape Verde",
          "Cambodia",
          "Cameroon",
          "Canada",
          "Central African Republic",
          "Chad",
          "Chile",
          "China",
          "Colombia",
          "Comoros",
          "Republic of the Congo",
          "Costa Rica",
          "Croatia",
          "Cuba",
          "Cyprus",
          "Czech Republic",
          "Democratic Republic of the Congo",
          "Denmark",
          "Djibouti",
          "Dominica",
          "Dominican Republic",
          "Ecuador",
          "Egypt",
          "El Salvador",
          "Equatorial Guinea",
          "Eritrea",
          "Estonia",
          "Eswatini",
          "Ethiopia",
          "Fiji",
          "Finland",
          "France",
          "Gabon",
          "The Gambia",
          "Georgia",
          "Germany",
          "Ghana",
          "Greece",
          "Grenada",
          "Guatemala",
          "Guinea",
          "Guinea-Bissau",
          "Guyana",
          "Haiti",
          "Vatican City",
          "Honduras",
          "Hungary",
          "Iceland",
          "India",
          "Indonesia",
          "Iran",
          "Iraq",
          "Republic of Ireland",
          "Israel",
          "Italy",
          "Jamaica",
          "Japan",
          "Jordan",
          "Kazakhstan",
          "Kenya",
          "Kiribati",
          "Kuwait",
          "Kyrgyzstan",
          "Laos",
          "Latvia",
          "Lebanon",
          "Lesotho",
          "Liberia",
          "Libya",
          "Liechtenstein",
          "Lithuania",
          "Luxembourg",
          "Madagascar",
          "Malawi",
          "Malaysia",
          "Maldives",
          "Mali",
          "Malta",
          "Marshall Islands",
          "Mauritania",
          "Mauritius",
          "Mexico",
          "Federated States of Micronesia",
          "Moldova",
          "Monaco",
          "Mongolia",
          "Montenegro",
          "Morocco",
          "Mozambique",
          "Myanmar",
          "Namibia",
          "Nauru",
          "Nepal",
          "Netherlands",
          "New Zealand",
          "Nicaragua",
          "Niger",
          "Nigeria",
          "North Korea",
          "North Macedonia",
          "Norway",
          "Oman",
          "Pakistan",
          "Palau",
          "Palestinian National Authority",
          "Panama",
          "Papua New Guinea",
          "Paraguay",
          "Peru",
          "Philippines",
          "Poland",
          "Portugal",
          "Qatar",
          "Romania",
          "Russia",
          "Rwanda",
          "Saint Kitts and Nevis",
          "Saint Lucia",
          "Saint Vincent and the Grenadines",
          "Samoa",
          "San Marino",
          "Sï¿½ï¿½ï¿½ï¿½ï¿½ï¿½ï¿½ï¿½ï¿½ï¿½ï¿½",
          "Saudi Arabia",
          "Senegal",
          "Serbia",
          "Seychelles",
          "Sierra Leone",
          "Singapore",
          "Slovakia",
          "Slovenia",
          "Solomon Islands",
          "Somalia",
          "South Africa",
          "South Korea",
          "South Sudan",
          "Spain",
          "Sri Lanka",
          "Sudan",
          "Suriname",
          "Sweden",
          "Switzerland",
          "Syria",
          "Tajikistan",
          "Tanzania",
          "Thailand",
          "East Timor",
          "Togo",
          "Tonga",
          "Trinidad and Tobago",
          "Tunisia",
          "Turkey",
          "Turkmenistan",
          "Tuvalu",
          "Uganda",
          "Ukraine",
          "United Arab Emirates",
          "United Kingdom",
          "United States",
          "Uruguay",
          "Uzbekistan",
          "Vanuatu",
          "Venezuela",
          "Vietnam",
          "Yemen",
          "Zambia",
          "Zimbabwe"
         ],
         "y": [
          19101353833,
          15278077447,
          169988236398,
          3154057987,
          94635415870,
          1727759259,
          449663446954,
          13672802158,
          1392680589329,
          446314739528,
          39207000000,
          12827000000,
          38574069149,
          302571254131,
          5209000000,
          63080457023,
          529606710418,
          1879613600,
          14390709095,
          2446674101,
          40895322865,
          20047848435,
          18340510789,
          1839758040766,
          13469422941,
          86000000000,
          15745810235,
          3012334882,
          58792205642,
          1981845741,
          27089389787,
          38760467033,
          1736425629520,
          2220307369,
          11314951343,
          282318159745,
          19910000000000,
          323802808108,
          1185728677,
          10820591131,
          61773944174,
          60415553039,
          100023000000,
          24564647935,
          246489245495,
          47319624204,
          348078018464,
          3318716359,
          596033333,
          88941298258,
          107435665000,
          303175127598,
          27022640000,
          11026774945,
          2065001626,
          31386949981,
          3791304348,
          96107662398,
          5535548972,
          268761201365,
          2715518274227,
          16657960228,
          1763819048,
          17743195770,
          3845630030824,
          66983634224,
          209852761469,
          1228170370,
          76710385880,
          13590281809,
          1340389411,
          4280443645,
          8498981821,
          478069989676.704,
          25095395475,
          160967157504,
          24188035739,
          2611000000000,
          1119190780753,
          445345282123,
          234094042939,
          388698711348,
          395098666122,
          2001244392042,
          16458071068,
          5081769542380,
          43743661972,
          180161741180,
          95503088538,
          194647202,
          134761198946,
          8454619608,
          18173839128,
          34117202555,
          53367042272,
          2460072444,
          3070518100,
          52076250948,
          6552858739,
          54219315600,
          71104919108,
          14083906357,
          7666704427,
          364701517788,
          5729248472,
          17510141171,
          14786156563,
          221278000,
          7593752450,
          14180444557,
          1258286717125,
          401932279,
          11955435457,
          7184844193,
          13852850259,
          5494736901,
          118725279596,
          14934159926,
          76085852617,
          12366527719,
          133000000,
          30641380604,
          909070395161,
          206928765544,
          12520915291,
          12928145120,
          448120428859,
          32100000000,
          10220781069,
          403336363636,
          76983094928,
          304400000000,
          283994900,
          478069989676.704,
          66800800000,
          24969611435,
          38145288940,
          226848050820,
          376795508680,
          592164400688,
          237686075635,
          183466208791,
          250077444017,
          1699876578871,
          10122472590,
          1050992593,
          2122450630,
          825385185,
          850655017,
          1637931034,
          429016605,
          792966838162,
          23578084052,
          51409167351,
          1698843063,
          3941474311,
          372062527489,
          105422304976,
          53742159517,
          1425074226,
          4720727278,
          351431649241,
          2029000000000,
          11997800751,
          1394116310769,
          84008783756,
          18902284476,
          3985250737,
          530832908738,
          703082435360,
          40405006007,
          8116626794,
          63177068175,
          543649976166,
          1673540300,
          5459979417,
          450353314,
          24100202834,
          38797709924,
          754411708203,
          40761142857,
          47271463,
          34387229486,
          153781069118,
          421142267938,
          2827113184696,
          21427700000000,
          56045912952,
          57921286440,
          917058851,
          482359318768,
          261921244843,
          26914402224,
          23064722446,
          21440758800,
          1050992593,
          1119190780753,
          1185728677,
          1228170370,
          1258286717125,
          1340389411,
          1392680589329,
          1394116310769,
          1425074226,
          1637931034,
          1673540300,
          1698843063,
          1699876578871,
          1727759259,
          1736425629520,
          1763819048,
          1839758040766,
          1879613600,
          1981845741,
          10122472590,
          10220781069,
          10820591131,
          100023000000,
          105422304976,
          107435665000,
          11026774945,
          11314951343,
          11955435457,
          11997800751,
          118725279596,
          12366527719,
          12520915291,
          12827000000,
          12928145120,
          13469422941,
          13590281809,
          13672802158,
          13852850259,
          133000000,
          134761198946,
          14083906357,
          14180444557,
          14390709095,
          14786156563,
          14934159926,
          15278077447,
          15745810235,
          153781069118,
          16458071068,
          16657960228,
          160967157504,
          169988236398,
          17510141171,
          17743195770,
          18173839128,
          18340510789,
          18902284476,
          180161741180,
          183466208791,
          19101353833,
          19910000000000,
          194647202,
          2001244392042,
          2029000000000,
          2065001626,
          2122450630,
          2220307369,
          2446674101,
          2460072444,
          2611000000000,
          2715518274227,
          2827113184696,
          20047848435,
          206928765544,
          209852761469,
          21427700000000,
          21440758800,
          221278000,
          226848050820,
          23064722446,
          23578084052,
          234094042939,
          237686075635,
          24100202834,
          24188035739,
          24564647935,
          24969611435,
          246489245495,
          25095395475,
          250077444017,
          26914402224,
          261921244843,
          268761201365,
          27022640000,
          27089389787,
          282318159745,
          283994900,
          3012334882,
          3070518100,
          3154057987,
          3318716359,
          3791304348,
          3845630030824,
          3941474311,
          3985250737,
          30641380604,
          302571254131,
          303175127598,
          304400000000,
          31386949981,
          32100000000,
          323802808108,
          34117202555,
          34387229486,
          348078018464,
          351431649241,
          364701517788,
          372062527489,
          376795508680,
          38145288940,
          38574069149,
          38760467033,
          38797709924,
          388698711348,
          39207000000,
          395098666122,
          4280443645,
          4720727278,
          40405006007,
          40761142857,
          40895322865,
          401932279,
          403336363636,
          421142267938,
          429016605,
          43743661972,
          445345282123,
          446314739528,
          448120428859,
          449663446954,
          450353314,
          47271463,
          47319624204,
          482359318768,
          5081769542380,
          5209000000,
          5459979417,
          5494736901,
          5535548972,
          5729248472,
          51409167351,
          52076250948,
          529606710418,
          53367042272,
          53742159517,
          530832908738,
          54219315600,
          543649976166,
          56045912952,
          57921286440,
          58792205642,
          592164400688,
          596033333,
          6552858739,
          60415553039,
          61773944174,
          63080457023,
          63177068175,
          66800800000,
          66983634224,
          7184844193,
          7593752450,
          7666704427,
          703082435360,
          71104919108,
          754411708203,
          76085852617,
          76710385880,
          76983094928,
          792966838162,
          478069989676.704,
          8454619608,
          8498981821,
          825385185,
          84008783756,
          850655017,
          86000000000,
          88941298258,
          909070395161,
          917058851,
          94635415870,
          478069989676.704,
          96107662398,
          8116626794,
          95503088538,
          96107662398,
          95503088538,
          94635415870,
          917058851,
          909070395161,
          88941298258,
          86000000000,
          850655017,
          84008783756,
          825385185,
          8498981821,
          8454619608,
          8116626794,
          792966838162,
          76983094928,
          76710385880,
          76085852617,
          754411708203,
          71104919108,
          703082435360,
          7666704427,
          7593752450,
          7184844193,
          66983634224,
          66800800000,
          63177068175,
          63080457023,
          61773944174,
          60415553039,
          6552858739,
          596033333,
          592164400688,
          58792205642,
          57921286440,
          56045912952,
          543649976166,
          54219315600,
          530832908738,
          53742159517,
          53367042272,
          529606710418,
          52076250948,
          51409167351,
          5729248472,
          5535548972,
          5494736901,
          5459979417,
          5209000000,
          5081769542380,
          482359318768,
          47319624204,
          47271463,
          450353314,
          449663446954,
          448120428859,
          446314739528,
          445345282123,
          43743661972,
          429016605,
          421142267938,
          403336363636,
          401932279,
          40895322865,
          40761142857,
          40405006007,
          4720727278,
          4280443645,
          395098666122,
          39207000000,
          388698711348,
          38797709924,
          38760467033,
          38574069149,
          38145288940,
          376795508680,
          372062527489,
          364701517788,
          351431649241,
          348078018464,
          34387229486,
          34117202555,
          323802808108,
          32100000000,
          31386949981,
          304400000000,
          303175127598,
          302571254131,
          30641380604,
          3985250737,
          3941474311,
          3845630030824,
          3791304348,
          3318716359,
          3154057987,
          3070518100,
          3012334882,
          283994900,
          282318159745,
          27089389787,
          27022640000,
          268761201365,
          261921244843,
          26914402224,
          250077444017,
          25095395475,
          246489245495,
          24969611435,
          24564647935,
          24188035739,
          24100202834,
          237686075635,
          234094042939,
          23578084052,
          23064722446,
          226848050820,
          221278000,
          21440758800,
          21427700000000,
          209852761469,
          206928765544,
          20047848435,
          2827113184696,
          2715518274227,
          2611000000000,
          2460072444,
          2446674101,
          2220307369,
          2122450630,
          2065001626,
          2029000000000,
          2001244392042,
          194647202,
          19910000000000,
          19101353833,
          183466208791,
          180161741180,
          18902284476,
          18340510789,
          18173839128,
          17743195770,
          17510141171,
          169988236398,
          160967157504,
          16657960228,
          16458071068,
          153781069118,
          15745810235,
          15278077447,
          14934159926,
          14786156563,
          14390709095,
          14180444557,
          14083906357,
          134761198946,
          133000000,
          13852850259,
          13672802158,
          13590281809,
          13469422941,
          12928145120,
          12827000000,
          12520915291,
          12366527719,
          118725279596,
          11997800751,
          11955435457,
          11314951343,
          11026774945,
          107435665000,
          105422304976,
          100023000000,
          10820591131,
          10220781069,
          10122472590,
          1981845741,
          1879613600,
          1839758040766,
          1763819048,
          1736425629520,
          1727759259,
          1699876578871,
          1698843063,
          1673540300,
          1637931034,
          1425074226,
          1394116310769,
          1392680589329,
          1340389411,
          1258286717125,
          1228170370,
          1185728677,
          1119190780753,
          1050992593,
          10220781063,
          1394116310769
         ]
        },
        {
         "mode": "lines+markers",
         "name": "lines+markers",
         "type": "scatter",
         "x": [
          "Afghanistan",
          "Albania",
          "Algeria",
          "Andorra",
          "Angola",
          "Antigua and Barbuda",
          "Argentina",
          "Armenia",
          "Australia",
          "Austria",
          "Azerbaijan",
          "The Bahamas",
          "Bahrain",
          "Bangladesh",
          "Barbados",
          "Belarus",
          "Belgium",
          "Belize",
          "Benin",
          "Bhutan",
          "Bolivia",
          "Bosnia and Herzegovina",
          "Botswana",
          "Brazil",
          "Brunei",
          "Bulgaria",
          "Burkina Faso",
          "Burundi",
          "Ivory Coast",
          "Cape Verde",
          "Cambodia",
          "Cameroon",
          "Canada",
          "Central African Republic",
          "Chad",
          "Chile",
          "China",
          "Colombia",
          "Comoros",
          "Republic of the Congo",
          "Costa Rica",
          "Croatia",
          "Cuba",
          "Cyprus",
          "Czech Republic",
          "Democratic Republic of the Congo",
          "Denmark",
          "Djibouti",
          "Dominica",
          "Dominican Republic",
          "Ecuador",
          "Egypt",
          "El Salvador",
          "Equatorial Guinea",
          "Eritrea",
          "Estonia",
          "Eswatini",
          "Ethiopia",
          "Fiji",
          "Finland",
          "France",
          "Gabon",
          "The Gambia",
          "Georgia",
          "Germany",
          "Ghana",
          "Greece",
          "Grenada",
          "Guatemala",
          "Guinea",
          "Guinea-Bissau",
          "Guyana",
          "Haiti",
          "Vatican City",
          "Honduras",
          "Hungary",
          "Iceland",
          "India",
          "Indonesia",
          "Iran",
          "Iraq",
          "Republic of Ireland",
          "Israel",
          "Italy",
          "Jamaica",
          "Japan",
          "Jordan",
          "Kazakhstan",
          "Kenya",
          "Kiribati",
          "Kuwait",
          "Kyrgyzstan",
          "Laos",
          "Latvia",
          "Lebanon",
          "Lesotho",
          "Liberia",
          "Libya",
          "Liechtenstein",
          "Lithuania",
          "Luxembourg",
          "Madagascar",
          "Malawi",
          "Malaysia",
          "Maldives",
          "Mali",
          "Malta",
          "Marshall Islands",
          "Mauritania",
          "Mauritius",
          "Mexico",
          "Federated States of Micronesia",
          "Moldova",
          "Monaco",
          "Mongolia",
          "Montenegro",
          "Morocco",
          "Mozambique",
          "Myanmar",
          "Namibia",
          "Nauru",
          "Nepal",
          "Netherlands",
          "New Zealand",
          "Nicaragua",
          "Niger",
          "Nigeria",
          "North Korea",
          "North Macedonia",
          "Norway",
          "Oman",
          "Pakistan",
          "Palau",
          "Palestinian National Authority",
          "Panama",
          "Papua New Guinea",
          "Paraguay",
          "Peru",
          "Philippines",
          "Poland",
          "Portugal",
          "Qatar",
          "Romania",
          "Russia",
          "Rwanda",
          "Saint Kitts and Nevis",
          "Saint Lucia",
          "Saint Vincent and the Grenadines",
          "Samoa",
          "San Marino",
          "Sï¿½ï¿½ï¿½ï¿½ï¿½ï¿½ï¿½ï¿½ï¿½ï¿½ï¿½",
          "Saudi Arabia",
          "Senegal",
          "Serbia",
          "Seychelles",
          "Sierra Leone",
          "Singapore",
          "Slovakia",
          "Slovenia",
          "Solomon Islands",
          "Somalia",
          "South Africa",
          "South Korea",
          "South Sudan",
          "Spain",
          "Sri Lanka",
          "Sudan",
          "Suriname",
          "Sweden",
          "Switzerland",
          "Syria",
          "Tajikistan",
          "Tanzania",
          "Thailand",
          "East Timor",
          "Togo",
          "Tonga",
          "Trinidad and Tobago",
          "Tunisia",
          "Turkey",
          "Turkmenistan",
          "Tuvalu",
          "Uganda",
          "Ukraine",
          "United Arab Emirates",
          "United Kingdom",
          "United States",
          "Uruguay",
          "Uzbekistan",
          "Vanuatu",
          "Venezuela",
          "Vietnam",
          "Yemen",
          "Zambia",
          "Zimbabwe"
         ],
         "y": [
          0.097,
          0.55,
          0.514,
          0.3806678445229682,
          0.093,
          0.248,
          0.9,
          0.546,
          1.131,
          0.851,
          0.277,
          0.151,
          0.505,
          0.206,
          0.654,
          0.874,
          0.797,
          0.247,
          0.123,
          0.156,
          0.3806678445229682,
          0.233,
          0.249,
          0.513,
          0.314,
          0.71,
          0.065,
          0.061,
          0.093,
          0.236,
          0.137,
          0.128,
          0.689,
          0.03,
          0.033,
          0.885,
          0.506,
          0.553,
          0.09,
          0.127,
          0.552,
          0.679,
          0.414,
          0.759,
          0.641,
          0.066,
          0.806,
          0.053,
          0.072,
          0.599,
          0.449,
          0.352,
          0.294,
          0.019,
          0.034,
          0.696,
          0.3806678445229682,
          0.081,
          0.161,
          0.882,
          0.656,
          0.083,
          0.027,
          0.639,
          0.702,
          0.157,
          1.366,
          1.046,
          0.218,
          0.116,
          0.026,
          0.116,
          0.011,
          0.3806678445229682,
          0.262,
          0.485,
          0.718,
          0.281,
          0.363,
          0.681,
          0.162,
          0.778,
          0.634,
          0.619,
          0.271,
          0.632,
          0.344,
          0.617,
          0.115,
          0.3806678445229682,
          0.544,
          0.413,
          0.15,
          0.881,
          0.263,
          0.102,
          0.119,
          0.605,
          0.356,
          0.724,
          0.192,
          0.054,
          0.008,
          0.451,
          0.312,
          0.045,
          0.543,
          0.237,
          0.05,
          0.406,
          0.402,
          0.141,
          0.398,
          0.3806678445229682,
          0.656,
          0.561,
          0.359,
          0.073,
          0.188,
          0.229,
          0.3806678445229682,
          0.124,
          0.85,
          0.82,
          0.174,
          0.044,
          0.102,
          0.27,
          0.3806678445229682,
          0.82,
          0.38,
          0.09,
          0.547,
          0.3806678445229682,
          0.478,
          0.018,
          0.346,
          0.707,
          0.355,
          0.678,
          0.639,
          0.179,
          0.494,
          0.819,
          0.067,
          0.867,
          0.141,
          0.237,
          0.076,
          0.425,
          0.134,
          0.68,
          0.128,
          0.672,
          0.171,
          0.02,
          0.848,
          0.466,
          0.786,
          0.3806678445229682,
          0.025,
          0.224,
          0.943,
          0.3806678445229682,
          0.889,
          0.196,
          0.169,
          0.126,
          0.67,
          0.596,
          0.401,
          0.313,
          0.04,
          0.493,
          0.178,
          0.145,
          0.064,
          0.12,
          0.317,
          0.239,
          0.08,
          0.3806678445229682,
          0.048,
          0.827,
          0.368,
          0.6,
          0.882,
          0.631,
          0.101,
          0.047,
          0.793,
          0.285,
          0.102,
          0.041,
          0.1,
          0.093,
          0.248,
          0.9,
          0.546,
          1.131,
          0.851,
          0.277,
          0.151,
          0.505,
          0.206,
          0.654,
          0.874,
          0.797,
          0.247,
          0.123,
          0.156,
          0.048,
          0.827,
          0.368,
          0.6,
          0.882,
          0.631,
          0.101,
          0.047,
          0.793,
          0.285,
          0.102,
          0.041,
          0.1,
          0.478,
          0.018,
          0.346,
          0.707,
          0.355,
          0.678,
          0.639,
          0.179,
          0.494,
          0.819,
          0.067,
          0.867,
          0.141,
          0.237,
          0.076,
          0.425,
          0.134,
          0.68,
          0.128,
          0.672,
          0.171,
          0.02,
          0.848,
          0.466,
          0.786,
          0.081,
          0.161,
          0.882,
          0.656,
          0.083,
          0.027,
          0.639,
          0.702,
          0.157,
          1.366,
          1.046,
          0.218,
          0.116,
          0.026,
          0.116,
          0.011,
          0.3806678445229682,
          0.262,
          0.485,
          0.718,
          0.281,
          0.363,
          0.681,
          0.162,
          0.778,
          0.634,
          0.619,
          0.271,
          0.632,
          0.344,
          0.617,
          0.115,
          0.093,
          0.248,
          0.9,
          0.546,
          1.131,
          0.851,
          0.277,
          0.151,
          0.505,
          0.206,
          0.654,
          0.874,
          0.797,
          0.247,
          0.123,
          0.156,
          0.3806678445229682,
          0.233,
          0.249,
          0.513,
          0.314,
          0.71,
          0.065,
          0.061,
          0.093,
          0.236,
          0.137,
          0.128,
          0.689,
          0.03,
          0.033,
          0.885,
          0.506,
          0.553,
          0.09,
          0.127,
          0.552,
          0.679,
          0.414,
          0.759,
          0.641,
          0.066,
          0.806,
          0.053,
          0.072,
          0.599,
          0.449,
          0.352,
          0.294,
          0.019,
          0.034,
          0.696,
          0.851,
          0.277,
          0.151,
          0.505,
          0.206,
          0.654,
          0.874,
          0.797,
          0.247,
          0.123,
          0.156,
          0.3806678445229682,
          0.233,
          0.249,
          0.513,
          0.314,
          0.71,
          0.065,
          0.061,
          0.093,
          0.233,
          0.249,
          0.513,
          0.314,
          0.71,
          0.065,
          0.061,
          0.093,
          0.236,
          0.137,
          0.128,
          0.689,
          0.03,
          0.033,
          0.885,
          0.506,
          0.553,
          0.09,
          0.127,
          0.552,
          0.679,
          0.414,
          0.759,
          0.641,
          0.066,
          0.233,
          0.249,
          0.513,
          0.314,
          0.71,
          0.065,
          0.061,
          0.093,
          0.236,
          0.137,
          0.128,
          0.689,
          0.71,
          0.065,
          0.061,
          0.093,
          0.236,
          0.137,
          0.128,
          0.689,
          0.137,
          0.137,
          0.9,
          0.546,
          1.131,
          0.851,
          0.277,
          0.151,
          0.505,
          0.206,
          0.654,
          0.874,
          0.797,
          0.247,
          0.123,
          0.156,
          0.236,
          0.233,
          0.249,
          0.513,
          0.314,
          0.71,
          0.065,
          0.061,
          0.093,
          0.236,
          0.137,
          0.128,
          0.689,
          0.03,
          0.033,
          0.885,
          0.506,
          0.553,
          0.09,
          0.127,
          0.552,
          0.679,
          0.414,
          0.759,
          0.641,
          0.066,
          0.806,
          0.053,
          0.072,
          0.599,
          0.449,
          0.352,
          0.294,
          0.019,
          0.034,
          0.696,
          0.851,
          0.277,
          0.151,
          0.505,
          0.206,
          0.654,
          0.874,
          0.797,
          0.247,
          0.123,
          0.156,
          0.3806678445229682,
          0.233,
          0.249,
          0.513,
          0.314,
          0.71,
          0.065,
          0.061,
          0.093,
          0.233,
          0.249,
          0.513,
          0.314,
          0.71,
          0.065,
          0.061,
          0.093,
          0.236,
          0.137,
          0.128,
          0.689,
          0.03,
          0.033,
          0.885,
          0.506,
          0.553,
          0.09,
          0.127,
          0.552,
          0.679,
          0.414,
          0.759,
          0.641,
          0.066,
          0.233,
          0.249,
          0.513,
          0.314,
          0.71,
          0.065,
          0.061,
          0.093,
          0.236,
          0.137,
          0.128,
          0.689,
          0.053,
          0.072,
          0.599,
          0.449,
          0.352,
          0.294,
          0.019,
          0.034,
          0.696,
          0.3806678445229682,
          0.081,
          0.161,
          0.882,
          0.656,
          0.083,
          0.027,
          0.639,
          0.702,
          0.157,
          1.366,
          1.046,
          0.218,
          0.116,
          0.026,
          0.116,
          0.053,
          0.072,
          0.599,
          0.449,
          0.352,
          0.294,
          0.019,
          0.034,
          0.696,
          0.3806678445229682,
          0.081,
          0.161,
          0.882,
          0.656,
          0.083,
          0.027,
          0.639,
          0.702,
          0.157,
          1.366,
          1.046,
          0.218,
          0.116,
          0.026,
          0.116,
          0.053,
          0.072,
          0.599,
          0.449,
          0.352,
          0.294,
          0.019,
          0.034,
          0.696,
          0.3806678445229682,
          0.081,
          0.161,
          0.882,
          0.656,
          0.083,
          0.027,
          0.639,
          0.702,
          0.157,
          1.366,
          1.046,
          0.218,
          0.116,
          0.026,
          0.116,
          0.157,
          1.366,
          1.046
         ]
        }
       ],
       "layout": {
        "autosize": true,
        "template": {
         "data": {
          "bar": [
           {
            "error_x": {
             "color": "#2a3f5f"
            },
            "error_y": {
             "color": "#2a3f5f"
            },
            "marker": {
             "line": {
              "color": "#E5ECF6",
              "width": 0.5
             },
             "pattern": {
              "fillmode": "overlay",
              "size": 10,
              "solidity": 0.2
             }
            },
            "type": "bar"
           }
          ],
          "barpolar": [
           {
            "marker": {
             "line": {
              "color": "#E5ECF6",
              "width": 0.5
             },
             "pattern": {
              "fillmode": "overlay",
              "size": 10,
              "solidity": 0.2
             }
            },
            "type": "barpolar"
           }
          ],
          "carpet": [
           {
            "aaxis": {
             "endlinecolor": "#2a3f5f",
             "gridcolor": "white",
             "linecolor": "white",
             "minorgridcolor": "white",
             "startlinecolor": "#2a3f5f"
            },
            "baxis": {
             "endlinecolor": "#2a3f5f",
             "gridcolor": "white",
             "linecolor": "white",
             "minorgridcolor": "white",
             "startlinecolor": "#2a3f5f"
            },
            "type": "carpet"
           }
          ],
          "choropleth": [
           {
            "colorbar": {
             "outlinewidth": 0,
             "ticks": ""
            },
            "type": "choropleth"
           }
          ],
          "contour": [
           {
            "colorbar": {
             "outlinewidth": 0,
             "ticks": ""
            },
            "colorscale": [
             [
              0,
              "#0d0887"
             ],
             [
              0.1111111111111111,
              "#46039f"
             ],
             [
              0.2222222222222222,
              "#7201a8"
             ],
             [
              0.3333333333333333,
              "#9c179e"
             ],
             [
              0.4444444444444444,
              "#bd3786"
             ],
             [
              0.5555555555555556,
              "#d8576b"
             ],
             [
              0.6666666666666666,
              "#ed7953"
             ],
             [
              0.7777777777777778,
              "#fb9f3a"
             ],
             [
              0.8888888888888888,
              "#fdca26"
             ],
             [
              1,
              "#f0f921"
             ]
            ],
            "type": "contour"
           }
          ],
          "contourcarpet": [
           {
            "colorbar": {
             "outlinewidth": 0,
             "ticks": ""
            },
            "type": "contourcarpet"
           }
          ],
          "heatmap": [
           {
            "colorbar": {
             "outlinewidth": 0,
             "ticks": ""
            },
            "colorscale": [
             [
              0,
              "#0d0887"
             ],
             [
              0.1111111111111111,
              "#46039f"
             ],
             [
              0.2222222222222222,
              "#7201a8"
             ],
             [
              0.3333333333333333,
              "#9c179e"
             ],
             [
              0.4444444444444444,
              "#bd3786"
             ],
             [
              0.5555555555555556,
              "#d8576b"
             ],
             [
              0.6666666666666666,
              "#ed7953"
             ],
             [
              0.7777777777777778,
              "#fb9f3a"
             ],
             [
              0.8888888888888888,
              "#fdca26"
             ],
             [
              1,
              "#f0f921"
             ]
            ],
            "type": "heatmap"
           }
          ],
          "heatmapgl": [
           {
            "colorbar": {
             "outlinewidth": 0,
             "ticks": ""
            },
            "colorscale": [
             [
              0,
              "#0d0887"
             ],
             [
              0.1111111111111111,
              "#46039f"
             ],
             [
              0.2222222222222222,
              "#7201a8"
             ],
             [
              0.3333333333333333,
              "#9c179e"
             ],
             [
              0.4444444444444444,
              "#bd3786"
             ],
             [
              0.5555555555555556,
              "#d8576b"
             ],
             [
              0.6666666666666666,
              "#ed7953"
             ],
             [
              0.7777777777777778,
              "#fb9f3a"
             ],
             [
              0.8888888888888888,
              "#fdca26"
             ],
             [
              1,
              "#f0f921"
             ]
            ],
            "type": "heatmapgl"
           }
          ],
          "histogram": [
           {
            "marker": {
             "pattern": {
              "fillmode": "overlay",
              "size": 10,
              "solidity": 0.2
             }
            },
            "type": "histogram"
           }
          ],
          "histogram2d": [
           {
            "colorbar": {
             "outlinewidth": 0,
             "ticks": ""
            },
            "colorscale": [
             [
              0,
              "#0d0887"
             ],
             [
              0.1111111111111111,
              "#46039f"
             ],
             [
              0.2222222222222222,
              "#7201a8"
             ],
             [
              0.3333333333333333,
              "#9c179e"
             ],
             [
              0.4444444444444444,
              "#bd3786"
             ],
             [
              0.5555555555555556,
              "#d8576b"
             ],
             [
              0.6666666666666666,
              "#ed7953"
             ],
             [
              0.7777777777777778,
              "#fb9f3a"
             ],
             [
              0.8888888888888888,
              "#fdca26"
             ],
             [
              1,
              "#f0f921"
             ]
            ],
            "type": "histogram2d"
           }
          ],
          "histogram2dcontour": [
           {
            "colorbar": {
             "outlinewidth": 0,
             "ticks": ""
            },
            "colorscale": [
             [
              0,
              "#0d0887"
             ],
             [
              0.1111111111111111,
              "#46039f"
             ],
             [
              0.2222222222222222,
              "#7201a8"
             ],
             [
              0.3333333333333333,
              "#9c179e"
             ],
             [
              0.4444444444444444,
              "#bd3786"
             ],
             [
              0.5555555555555556,
              "#d8576b"
             ],
             [
              0.6666666666666666,
              "#ed7953"
             ],
             [
              0.7777777777777778,
              "#fb9f3a"
             ],
             [
              0.8888888888888888,
              "#fdca26"
             ],
             [
              1,
              "#f0f921"
             ]
            ],
            "type": "histogram2dcontour"
           }
          ],
          "mesh3d": [
           {
            "colorbar": {
             "outlinewidth": 0,
             "ticks": ""
            },
            "type": "mesh3d"
           }
          ],
          "parcoords": [
           {
            "line": {
             "colorbar": {
              "outlinewidth": 0,
              "ticks": ""
             }
            },
            "type": "parcoords"
           }
          ],
          "pie": [
           {
            "automargin": true,
            "type": "pie"
           }
          ],
          "scatter": [
           {
            "fillpattern": {
             "fillmode": "overlay",
             "size": 10,
             "solidity": 0.2
            },
            "type": "scatter"
           }
          ],
          "scatter3d": [
           {
            "line": {
             "colorbar": {
              "outlinewidth": 0,
              "ticks": ""
             }
            },
            "marker": {
             "colorbar": {
              "outlinewidth": 0,
              "ticks": ""
             }
            },
            "type": "scatter3d"
           }
          ],
          "scattercarpet": [
           {
            "marker": {
             "colorbar": {
              "outlinewidth": 0,
              "ticks": ""
             }
            },
            "type": "scattercarpet"
           }
          ],
          "scattergeo": [
           {
            "marker": {
             "colorbar": {
              "outlinewidth": 0,
              "ticks": ""
             }
            },
            "type": "scattergeo"
           }
          ],
          "scattergl": [
           {
            "marker": {
             "colorbar": {
              "outlinewidth": 0,
              "ticks": ""
             }
            },
            "type": "scattergl"
           }
          ],
          "scattermapbox": [
           {
            "marker": {
             "colorbar": {
              "outlinewidth": 0,
              "ticks": ""
             }
            },
            "type": "scattermapbox"
           }
          ],
          "scatterpolar": [
           {
            "marker": {
             "colorbar": {
              "outlinewidth": 0,
              "ticks": ""
             }
            },
            "type": "scatterpolar"
           }
          ],
          "scatterpolargl": [
           {
            "marker": {
             "colorbar": {
              "outlinewidth": 0,
              "ticks": ""
             }
            },
            "type": "scatterpolargl"
           }
          ],
          "scatterternary": [
           {
            "marker": {
             "colorbar": {
              "outlinewidth": 0,
              "ticks": ""
             }
            },
            "type": "scatterternary"
           }
          ],
          "surface": [
           {
            "colorbar": {
             "outlinewidth": 0,
             "ticks": ""
            },
            "colorscale": [
             [
              0,
              "#0d0887"
             ],
             [
              0.1111111111111111,
              "#46039f"
             ],
             [
              0.2222222222222222,
              "#7201a8"
             ],
             [
              0.3333333333333333,
              "#9c179e"
             ],
             [
              0.4444444444444444,
              "#bd3786"
             ],
             [
              0.5555555555555556,
              "#d8576b"
             ],
             [
              0.6666666666666666,
              "#ed7953"
             ],
             [
              0.7777777777777778,
              "#fb9f3a"
             ],
             [
              0.8888888888888888,
              "#fdca26"
             ],
             [
              1,
              "#f0f921"
             ]
            ],
            "type": "surface"
           }
          ],
          "table": [
           {
            "cells": {
             "fill": {
              "color": "#EBF0F8"
             },
             "line": {
              "color": "white"
             }
            },
            "header": {
             "fill": {
              "color": "#C8D4E3"
             },
             "line": {
              "color": "white"
             }
            },
            "type": "table"
           }
          ]
         },
         "layout": {
          "annotationdefaults": {
           "arrowcolor": "#2a3f5f",
           "arrowhead": 0,
           "arrowwidth": 1
          },
          "autotypenumbers": "strict",
          "coloraxis": {
           "colorbar": {
            "outlinewidth": 0,
            "ticks": ""
           }
          },
          "colorscale": {
           "diverging": [
            [
             0,
             "#8e0152"
            ],
            [
             0.1,
             "#c51b7d"
            ],
            [
             0.2,
             "#de77ae"
            ],
            [
             0.3,
             "#f1b6da"
            ],
            [
             0.4,
             "#fde0ef"
            ],
            [
             0.5,
             "#f7f7f7"
            ],
            [
             0.6,
             "#e6f5d0"
            ],
            [
             0.7,
             "#b8e186"
            ],
            [
             0.8,
             "#7fbc41"
            ],
            [
             0.9,
             "#4d9221"
            ],
            [
             1,
             "#276419"
            ]
           ],
           "sequential": [
            [
             0,
             "#0d0887"
            ],
            [
             0.1111111111111111,
             "#46039f"
            ],
            [
             0.2222222222222222,
             "#7201a8"
            ],
            [
             0.3333333333333333,
             "#9c179e"
            ],
            [
             0.4444444444444444,
             "#bd3786"
            ],
            [
             0.5555555555555556,
             "#d8576b"
            ],
            [
             0.6666666666666666,
             "#ed7953"
            ],
            [
             0.7777777777777778,
             "#fb9f3a"
            ],
            [
             0.8888888888888888,
             "#fdca26"
            ],
            [
             1,
             "#f0f921"
            ]
           ],
           "sequentialminus": [
            [
             0,
             "#0d0887"
            ],
            [
             0.1111111111111111,
             "#46039f"
            ],
            [
             0.2222222222222222,
             "#7201a8"
            ],
            [
             0.3333333333333333,
             "#9c179e"
            ],
            [
             0.4444444444444444,
             "#bd3786"
            ],
            [
             0.5555555555555556,
             "#d8576b"
            ],
            [
             0.6666666666666666,
             "#ed7953"
            ],
            [
             0.7777777777777778,
             "#fb9f3a"
            ],
            [
             0.8888888888888888,
             "#fdca26"
            ],
            [
             1,
             "#f0f921"
            ]
           ]
          },
          "colorway": [
           "#636efa",
           "#EF553B",
           "#00cc96",
           "#ab63fa",
           "#FFA15A",
           "#19d3f3",
           "#FF6692",
           "#B6E880",
           "#FF97FF",
           "#FECB52"
          ],
          "font": {
           "color": "#2a3f5f"
          },
          "geo": {
           "bgcolor": "white",
           "lakecolor": "white",
           "landcolor": "#E5ECF6",
           "showlakes": true,
           "showland": true,
           "subunitcolor": "white"
          },
          "hoverlabel": {
           "align": "left"
          },
          "hovermode": "closest",
          "mapbox": {
           "style": "light"
          },
          "paper_bgcolor": "white",
          "plot_bgcolor": "#E5ECF6",
          "polar": {
           "angularaxis": {
            "gridcolor": "white",
            "linecolor": "white",
            "ticks": ""
           },
           "bgcolor": "#E5ECF6",
           "radialaxis": {
            "gridcolor": "white",
            "linecolor": "white",
            "ticks": ""
           }
          },
          "scene": {
           "xaxis": {
            "backgroundcolor": "#E5ECF6",
            "gridcolor": "white",
            "gridwidth": 2,
            "linecolor": "white",
            "showbackground": true,
            "ticks": "",
            "zerolinecolor": "white"
           },
           "yaxis": {
            "backgroundcolor": "#E5ECF6",
            "gridcolor": "white",
            "gridwidth": 2,
            "linecolor": "white",
            "showbackground": true,
            "ticks": "",
            "zerolinecolor": "white"
           },
           "zaxis": {
            "backgroundcolor": "#E5ECF6",
            "gridcolor": "white",
            "gridwidth": 2,
            "linecolor": "white",
            "showbackground": true,
            "ticks": "",
            "zerolinecolor": "white"
           }
          },
          "shapedefaults": {
           "line": {
            "color": "#2a3f5f"
           }
          },
          "ternary": {
           "aaxis": {
            "gridcolor": "white",
            "linecolor": "white",
            "ticks": ""
           },
           "baxis": {
            "gridcolor": "white",
            "linecolor": "white",
            "ticks": ""
           },
           "bgcolor": "#E5ECF6",
           "caxis": {
            "gridcolor": "white",
            "linecolor": "white",
            "ticks": ""
           }
          },
          "title": {
           "x": 0.05
          },
          "xaxis": {
           "automargin": true,
           "gridcolor": "white",
           "linecolor": "white",
           "ticks": "",
           "title": {
            "standoff": 15
           },
           "zerolinecolor": "white",
           "zerolinewidth": 2
          },
          "yaxis": {
           "automargin": true,
           "gridcolor": "white",
           "linecolor": "white",
           "ticks": "",
           "title": {
            "standoff": 15
           },
           "zerolinecolor": "white",
           "zerolinewidth": 2
          }
         }
        },
        "xaxis": {
         "autorange": true,
         "range": [
          -11.833594566353188,
          205.83359456635318
         ],
         "type": "category"
        },
        "yaxis": {
         "autorange": true,
         "range": [
          -2064389438433.7883,
          22664125759917.566
         ],
         "type": "linear"
        }
       }
      },
      "image/png": "[encoded data removed]",
      "text/html": [
       "<div>                            <div id=\"2a334b4c-5081-49ab-ab8b-55dff6fcb1c0\" class=\"plotly-graph-div\" style=\"height:525px; width:100%;\"></div>            <script type=\"text/javascript\">                require([\"plotly\"], function(Plotly) {                    window.PLOTLYENV=window.PLOTLYENV || {};                                    if (document.getElementById(\"2a334b4c-5081-49ab-ab8b-55dff6fcb1c0\")) {                    Plotly.newPlot(                        \"2a334b4c-5081-49ab-ab8b-55dff6fcb1c0\",                        [{\"mode\":\"lines\",\"name\":\"lines\",\"x\":[\"Afghanistan\",\"Albania\",\"Algeria\",\"Andorra\",\"Angola\",\"Antigua and Barbuda\",\"Argentina\",\"Armenia\",\"Australia\",\"Austria\",\"Azerbaijan\",\"The Bahamas\",\"Bahrain\",\"Bangladesh\",\"Barbados\",\"Belarus\",\"Belgium\",\"Belize\",\"Benin\",\"Bhutan\",\"Bolivia\",\"Bosnia and Herzegovina\",\"Botswana\",\"Brazil\",\"Brunei\",\"Bulgaria\",\"Burkina Faso\",\"Burundi\",\"Ivory Coast\",\"Cape Verde\",\"Cambodia\",\"Cameroon\",\"Canada\",\"Central African Republic\",\"Chad\",\"Chile\",\"China\",\"Colombia\",\"Comoros\",\"Republic of the Congo\",\"Costa Rica\",\"Croatia\",\"Cuba\",\"Cyprus\",\"Czech Republic\",\"Democratic Republic of the Congo\",\"Denmark\",\"Djibouti\",\"Dominica\",\"Dominican Republic\",\"Ecuador\",\"Egypt\",\"El Salvador\",\"Equatorial Guinea\",\"Eritrea\",\"Estonia\",\"Eswatini\",\"Ethiopia\",\"Fiji\",\"Finland\",\"France\",\"Gabon\",\"The Gambia\",\"Georgia\",\"Germany\",\"Ghana\",\"Greece\",\"Grenada\",\"Guatemala\",\"Guinea\",\"Guinea-Bissau\",\"Guyana\",\"Haiti\",\"Vatican City\",\"Honduras\",\"Hungary\",\"Iceland\",\"India\",\"Indonesia\",\"Iran\",\"Iraq\",\"Republic of Ireland\",\"Israel\",\"Italy\",\"Jamaica\",\"Japan\",\"Jordan\",\"Kazakhstan\",\"Kenya\",\"Kiribati\",\"Kuwait\",\"Kyrgyzstan\",\"Laos\",\"Latvia\",\"Lebanon\",\"Lesotho\",\"Liberia\",\"Libya\",\"Liechtenstein\",\"Lithuania\",\"Luxembourg\",\"Madagascar\",\"Malawi\",\"Malaysia\",\"Maldives\",\"Mali\",\"Malta\",\"Marshall Islands\",\"Mauritania\",\"Mauritius\",\"Mexico\",\"Federated States of Micronesia\",\"Moldova\",\"Monaco\",\"Mongolia\",\"Montenegro\",\"Morocco\",\"Mozambique\",\"Myanmar\",\"Namibia\",\"Nauru\",\"Nepal\",\"Netherlands\",\"New Zealand\",\"Nicaragua\",\"Niger\",\"Nigeria\",\"North Korea\",\"North Macedonia\",\"Norway\",\"Oman\",\"Pakistan\",\"Palau\",\"Palestinian National Authority\",\"Panama\",\"Papua New Guinea\",\"Paraguay\",\"Peru\",\"Philippines\",\"Poland\",\"Portugal\",\"Qatar\",\"Romania\",\"Russia\",\"Rwanda\",\"Saint Kitts and Nevis\",\"Saint Lucia\",\"Saint Vincent and the Grenadines\",\"Samoa\",\"San Marino\",\"S\\u00ef\\u00bf\\u00bd\\u00ef\\u00bf\\u00bd\\u00ef\\u00bf\\u00bd\\u00ef\\u00bf\\u00bd\\u00ef\\u00bf\\u00bd\\u00ef\\u00bf\\u00bd\\u00ef\\u00bf\\u00bd\\u00ef\\u00bf\\u00bd\\u00ef\\u00bf\\u00bd\\u00ef\\u00bf\\u00bd\\u00ef\\u00bf\\u00bd\",\"Saudi Arabia\",\"Senegal\",\"Serbia\",\"Seychelles\",\"Sierra Leone\",\"Singapore\",\"Slovakia\",\"Slovenia\",\"Solomon Islands\",\"Somalia\",\"South Africa\",\"South Korea\",\"South Sudan\",\"Spain\",\"Sri Lanka\",\"Sudan\",\"Suriname\",\"Sweden\",\"Switzerland\",\"Syria\",\"Tajikistan\",\"Tanzania\",\"Thailand\",\"East Timor\",\"Togo\",\"Tonga\",\"Trinidad and Tobago\",\"Tunisia\",\"Turkey\",\"Turkmenistan\",\"Tuvalu\",\"Uganda\",\"Ukraine\",\"United Arab Emirates\",\"United Kingdom\",\"United States\",\"Uruguay\",\"Uzbekistan\",\"Vanuatu\",\"Venezuela\",\"Vietnam\",\"Yemen\",\"Zambia\",\"Zimbabwe\"],\"y\":[19101353833.0,15278077447.0,169988236398.0,3154057987.0,94635415870.0,1727759259.0,449663446954.0,13672802158.0,1392680589329.0,446314739528.0,39207000000.0,12827000000.0,38574069149.0,302571254131.0,5209000000.0,63080457023.0,529606710418.0,1879613600.0,14390709095.0,2446674101.0,40895322865.0,20047848435.0,18340510789.0,1839758040766.0,13469422941.0,86000000000.0,15745810235.0,3012334882.0,58792205642.0,1981845741.0,27089389787.0,38760467033.0,1736425629520.0,2220307369.0,11314951343.0,282318159745.0,19910000000000.0,323802808108.0,1185728677.0,10820591131.0,61773944174.0,60415553039.0,100023000000.0,24564647935.0,246489245495.0,47319624204.0,348078018464.0,3318716359.0,596033333.0,88941298258.0,107435665000.0,303175127598.0,27022640000.0,11026774945.0,2065001626.0,31386949981.0,3791304348.0,96107662398.0,5535548972.0,268761201365.0,2715518274227.0,16657960228.0,1763819048.0,17743195770.0,3845630030824.0,66983634224.0,209852761469.0,1228170370.0,76710385880.0,13590281809.0,1340389411.0,4280443645.0,8498981821.0,478069989676.704,25095395475.0,160967157504.0,24188035739.0,2611000000000.0,1119190780753.0,445345282123.0,234094042939.0,388698711348.0,395098666122.0,2001244392042.0,16458071068.0,5081769542380.0,43743661972.0,180161741180.0,95503088538.0,194647202.0,134761198946.0,8454619608.0,18173839128.0,34117202555.0,53367042272.0,2460072444.0,3070518100.0,52076250948.0,6552858739.0,54219315600.0,71104919108.0,14083906357.0,7666704427.0,364701517788.0,5729248472.0,17510141171.0,14786156563.0,221278000.0,7593752450.0,14180444557.0,1258286717125.0,401932279.0,11955435457.0,7184844193.0,13852850259.0,5494736901.0,118725279596.0,14934159926.0,76085852617.0,12366527719.0,133000000.0,30641380604.0,909070395161.0,206928765544.0,12520915291.0,12928145120.0,448120428859.0,32100000000.0,10220781069.0,403336363636.0,76983094928.0,304400000000.0,283994900.0,478069989676.704,66800800000.0,24969611435.0,38145288940.0,226848050820.0,376795508680.0,592164400688.0,237686075635.0,183466208791.0,250077444017.0,1699876578871.0,10122472590.0,1050992593.0,2122450630.0,825385185.0,850655017.0,1637931034.0,429016605.0,792966838162.0,23578084052.0,51409167351.0,1698843063.0,3941474311.0,372062527489.0,105422304976.0,53742159517.0,1425074226.0,4720727278.0,351431649241.0,2029000000000.0,11997800751.0,1394116310769.0,84008783756.0,18902284476.0,3985250737.0,530832908738.0,703082435360.0,40405006007.0,8116626794.0,63177068175.0,543649976166.0,1673540300.0,5459979417.0,450353314.0,24100202834.0,38797709924.0,754411708203.0,40761142857.0,47271463.0,34387229486.0,153781069118.0,421142267938.0,2827113184696.0,21427700000000.0,56045912952.0,57921286440.0,917058851.0,482359318768.0,261921244843.0,26914402224.0,23064722446.0,21440758800.0,1050992593.0,1119190780753.0,1185728677.0,1228170370.0,1258286717125.0,1340389411.0,1392680589329.0,1394116310769.0,1425074226.0,1637931034.0,1673540300.0,1698843063.0,1699876578871.0,1727759259.0,1736425629520.0,1763819048.0,1839758040766.0,1879613600.0,1981845741.0,10122472590.0,10220781069.0,10820591131.0,100023000000.0,105422304976.0,107435665000.0,11026774945.0,11314951343.0,11955435457.0,11997800751.0,118725279596.0,12366527719.0,12520915291.0,12827000000.0,12928145120.0,13469422941.0,13590281809.0,13672802158.0,13852850259.0,133000000.0,134761198946.0,14083906357.0,14180444557.0,14390709095.0,14786156563.0,14934159926.0,15278077447.0,15745810235.0,153781069118.0,16458071068.0,16657960228.0,160967157504.0,169988236398.0,17510141171.0,17743195770.0,18173839128.0,18340510789.0,18902284476.0,180161741180.0,183466208791.0,19101353833.0,19910000000000.0,194647202.0,2001244392042.0,2029000000000.0,2065001626.0,2122450630.0,2220307369.0,2446674101.0,2460072444.0,2611000000000.0,2715518274227.0,2827113184696.0,20047848435.0,206928765544.0,209852761469.0,21427700000000.0,21440758800.0,221278000.0,226848050820.0,23064722446.0,23578084052.0,234094042939.0,237686075635.0,24100202834.0,24188035739.0,24564647935.0,24969611435.0,246489245495.0,25095395475.0,250077444017.0,26914402224.0,261921244843.0,268761201365.0,27022640000.0,27089389787.0,282318159745.0,283994900.0,3012334882.0,3070518100.0,3154057987.0,3318716359.0,3791304348.0,3845630030824.0,3941474311.0,3985250737.0,30641380604.0,302571254131.0,303175127598.0,304400000000.0,31386949981.0,32100000000.0,323802808108.0,34117202555.0,34387229486.0,348078018464.0,351431649241.0,364701517788.0,372062527489.0,376795508680.0,38145288940.0,38574069149.0,38760467033.0,38797709924.0,388698711348.0,39207000000.0,395098666122.0,4280443645.0,4720727278.0,40405006007.0,40761142857.0,40895322865.0,401932279.0,403336363636.0,421142267938.0,429016605.0,43743661972.0,445345282123.0,446314739528.0,448120428859.0,449663446954.0,450353314.0,47271463.0,47319624204.0,482359318768.0,5081769542380.0,5209000000.0,5459979417.0,5494736901.0,5535548972.0,5729248472.0,51409167351.0,52076250948.0,529606710418.0,53367042272.0,53742159517.0,530832908738.0,54219315600.0,543649976166.0,56045912952.0,57921286440.0,58792205642.0,592164400688.0,596033333.0,6552858739.0,60415553039.0,61773944174.0,63080457023.0,63177068175.0,66800800000.0,66983634224.0,7184844193.0,7593752450.0,7666704427.0,703082435360.0,71104919108.0,754411708203.0,76085852617.0,76710385880.0,76983094928.0,792966838162.0,478069989676.704,8454619608.0,8498981821.0,825385185.0,84008783756.0,850655017.0,86000000000.0,88941298258.0,909070395161.0,917058851.0,94635415870.0,478069989676.704,96107662398.0,8116626794.0,95503088538.0,96107662398.0,95503088538.0,94635415870.0,917058851.0,909070395161.0,88941298258.0,86000000000.0,850655017.0,84008783756.0,825385185.0,8498981821.0,8454619608.0,8116626794.0,792966838162.0,76983094928.0,76710385880.0,76085852617.0,754411708203.0,71104919108.0,703082435360.0,7666704427.0,7593752450.0,7184844193.0,66983634224.0,66800800000.0,63177068175.0,63080457023.0,61773944174.0,60415553039.0,6552858739.0,596033333.0,592164400688.0,58792205642.0,57921286440.0,56045912952.0,543649976166.0,54219315600.0,530832908738.0,53742159517.0,53367042272.0,529606710418.0,52076250948.0,51409167351.0,5729248472.0,5535548972.0,5494736901.0,5459979417.0,5209000000.0,5081769542380.0,482359318768.0,47319624204.0,47271463.0,450353314.0,449663446954.0,448120428859.0,446314739528.0,445345282123.0,43743661972.0,429016605.0,421142267938.0,403336363636.0,401932279.0,40895322865.0,40761142857.0,40405006007.0,4720727278.0,4280443645.0,395098666122.0,39207000000.0,388698711348.0,38797709924.0,38760467033.0,38574069149.0,38145288940.0,376795508680.0,372062527489.0,364701517788.0,351431649241.0,348078018464.0,34387229486.0,34117202555.0,323802808108.0,32100000000.0,31386949981.0,304400000000.0,303175127598.0,302571254131.0,30641380604.0,3985250737.0,3941474311.0,3845630030824.0,3791304348.0,3318716359.0,3154057987.0,3070518100.0,3012334882.0,283994900.0,282318159745.0,27089389787.0,27022640000.0,268761201365.0,261921244843.0,26914402224.0,250077444017.0,25095395475.0,246489245495.0,24969611435.0,24564647935.0,24188035739.0,24100202834.0,237686075635.0,234094042939.0,23578084052.0,23064722446.0,226848050820.0,221278000.0,21440758800.0,21427700000000.0,209852761469.0,206928765544.0,20047848435.0,2827113184696.0,2715518274227.0,2611000000000.0,2460072444.0,2446674101.0,2220307369.0,2122450630.0,2065001626.0,2029000000000.0,2001244392042.0,194647202.0,19910000000000.0,19101353833.0,183466208791.0,180161741180.0,18902284476.0,18340510789.0,18173839128.0,17743195770.0,17510141171.0,169988236398.0,160967157504.0,16657960228.0,16458071068.0,153781069118.0,15745810235.0,15278077447.0,14934159926.0,14786156563.0,14390709095.0,14180444557.0,14083906357.0,134761198946.0,133000000.0,13852850259.0,13672802158.0,13590281809.0,13469422941.0,12928145120.0,12827000000.0,12520915291.0,12366527719.0,118725279596.0,11997800751.0,11955435457.0,11314951343.0,11026774945.0,107435665000.0,105422304976.0,100023000000.0,10820591131.0,10220781069.0,10122472590.0,1981845741.0,1879613600.0,1839758040766.0,1763819048.0,1736425629520.0,1727759259.0,1699876578871.0,1698843063.0,1673540300.0,1637931034.0,1425074226.0,1394116310769.0,1392680589329.0,1340389411.0,1258286717125.0,1228170370.0,1185728677.0,1119190780753.0,1050992593.0,10220781063.0,1394116310769.0],\"type\":\"scatter\"},{\"mode\":\"lines+markers\",\"name\":\"lines+markers\",\"x\":[\"Afghanistan\",\"Albania\",\"Algeria\",\"Andorra\",\"Angola\",\"Antigua and Barbuda\",\"Argentina\",\"Armenia\",\"Australia\",\"Austria\",\"Azerbaijan\",\"The Bahamas\",\"Bahrain\",\"Bangladesh\",\"Barbados\",\"Belarus\",\"Belgium\",\"Belize\",\"Benin\",\"Bhutan\",\"Bolivia\",\"Bosnia and Herzegovina\",\"Botswana\",\"Brazil\",\"Brunei\",\"Bulgaria\",\"Burkina Faso\",\"Burundi\",\"Ivory Coast\",\"Cape Verde\",\"Cambodia\",\"Cameroon\",\"Canada\",\"Central African Republic\",\"Chad\",\"Chile\",\"China\",\"Colombia\",\"Comoros\",\"Republic of the Congo\",\"Costa Rica\",\"Croatia\",\"Cuba\",\"Cyprus\",\"Czech Republic\",\"Democratic Republic of the Congo\",\"Denmark\",\"Djibouti\",\"Dominica\",\"Dominican Republic\",\"Ecuador\",\"Egypt\",\"El Salvador\",\"Equatorial Guinea\",\"Eritrea\",\"Estonia\",\"Eswatini\",\"Ethiopia\",\"Fiji\",\"Finland\",\"France\",\"Gabon\",\"The Gambia\",\"Georgia\",\"Germany\",\"Ghana\",\"Greece\",\"Grenada\",\"Guatemala\",\"Guinea\",\"Guinea-Bissau\",\"Guyana\",\"Haiti\",\"Vatican City\",\"Honduras\",\"Hungary\",\"Iceland\",\"India\",\"Indonesia\",\"Iran\",\"Iraq\",\"Republic of Ireland\",\"Israel\",\"Italy\",\"Jamaica\",\"Japan\",\"Jordan\",\"Kazakhstan\",\"Kenya\",\"Kiribati\",\"Kuwait\",\"Kyrgyzstan\",\"Laos\",\"Latvia\",\"Lebanon\",\"Lesotho\",\"Liberia\",\"Libya\",\"Liechtenstein\",\"Lithuania\",\"Luxembourg\",\"Madagascar\",\"Malawi\",\"Malaysia\",\"Maldives\",\"Mali\",\"Malta\",\"Marshall Islands\",\"Mauritania\",\"Mauritius\",\"Mexico\",\"Federated States of Micronesia\",\"Moldova\",\"Monaco\",\"Mongolia\",\"Montenegro\",\"Morocco\",\"Mozambique\",\"Myanmar\",\"Namibia\",\"Nauru\",\"Nepal\",\"Netherlands\",\"New Zealand\",\"Nicaragua\",\"Niger\",\"Nigeria\",\"North Korea\",\"North Macedonia\",\"Norway\",\"Oman\",\"Pakistan\",\"Palau\",\"Palestinian National Authority\",\"Panama\",\"Papua New Guinea\",\"Paraguay\",\"Peru\",\"Philippines\",\"Poland\",\"Portugal\",\"Qatar\",\"Romania\",\"Russia\",\"Rwanda\",\"Saint Kitts and Nevis\",\"Saint Lucia\",\"Saint Vincent and the Grenadines\",\"Samoa\",\"San Marino\",\"S\\u00ef\\u00bf\\u00bd\\u00ef\\u00bf\\u00bd\\u00ef\\u00bf\\u00bd\\u00ef\\u00bf\\u00bd\\u00ef\\u00bf\\u00bd\\u00ef\\u00bf\\u00bd\\u00ef\\u00bf\\u00bd\\u00ef\\u00bf\\u00bd\\u00ef\\u00bf\\u00bd\\u00ef\\u00bf\\u00bd\\u00ef\\u00bf\\u00bd\",\"Saudi Arabia\",\"Senegal\",\"Serbia\",\"Seychelles\",\"Sierra Leone\",\"Singapore\",\"Slovakia\",\"Slovenia\",\"Solomon Islands\",\"Somalia\",\"South Africa\",\"South Korea\",\"South Sudan\",\"Spain\",\"Sri Lanka\",\"Sudan\",\"Suriname\",\"Sweden\",\"Switzerland\",\"Syria\",\"Tajikistan\",\"Tanzania\",\"Thailand\",\"East Timor\",\"Togo\",\"Tonga\",\"Trinidad and Tobago\",\"Tunisia\",\"Turkey\",\"Turkmenistan\",\"Tuvalu\",\"Uganda\",\"Ukraine\",\"United Arab Emirates\",\"United Kingdom\",\"United States\",\"Uruguay\",\"Uzbekistan\",\"Vanuatu\",\"Venezuela\",\"Vietnam\",\"Yemen\",\"Zambia\",\"Zimbabwe\"],\"y\":[0.097,0.55,0.514,0.3806678445229682,0.093,0.248,0.9,0.546,1.131,0.851,0.277,0.151,0.505,0.206,0.654,0.874,0.797,0.247,0.123,0.156,0.3806678445229682,0.233,0.249,0.513,0.314,0.71,0.065,0.061,0.093,0.236,0.137,0.128,0.689,0.03,0.033,0.885,0.506,0.553,0.09,0.127,0.552,0.679,0.414,0.759,0.641,0.066,0.806,0.053,0.072,0.599,0.449,0.352,0.294,0.019,0.034,0.696,0.3806678445229682,0.081,0.161,0.882,0.656,0.083,0.027,0.639,0.702,0.157,1.366,1.046,0.218,0.116,0.026,0.116,0.011,0.3806678445229682,0.262,0.485,0.718,0.281,0.363,0.681,0.162,0.778,0.634,0.619,0.271,0.632,0.344,0.617,0.115,0.3806678445229682,0.544,0.413,0.15,0.881,0.263,0.102,0.119,0.605,0.356,0.724,0.192,0.054,0.008,0.451,0.312,0.045,0.543,0.237,0.05,0.406,0.402,0.141,0.398,0.3806678445229682,0.656,0.561,0.359,0.073,0.188,0.229,0.3806678445229682,0.124,0.85,0.82,0.174,0.044,0.102,0.27,0.3806678445229682,0.82,0.38,0.09,0.547,0.3806678445229682,0.478,0.018,0.346,0.707,0.355,0.678,0.639,0.179,0.494,0.819,0.067,0.867,0.141,0.237,0.076,0.425,0.134,0.68,0.128,0.672,0.171,0.02,0.848,0.466,0.786,0.3806678445229682,0.025,0.224,0.943,0.3806678445229682,0.889,0.196,0.169,0.126,0.67,0.596,0.401,0.313,0.04,0.493,0.178,0.145,0.064,0.12,0.317,0.239,0.08,0.3806678445229682,0.048,0.827,0.368,0.6,0.882,0.631,0.101,0.047,0.793,0.285,0.102,0.041,0.1,0.093,0.248,0.9,0.546,1.131,0.851,0.277,0.151,0.505,0.206,0.654,0.874,0.797,0.247,0.123,0.156,0.048,0.827,0.368,0.6,0.882,0.631,0.101,0.047,0.793,0.285,0.102,0.041,0.1,0.478,0.018,0.346,0.707,0.355,0.678,0.639,0.179,0.494,0.819,0.067,0.867,0.141,0.237,0.076,0.425,0.134,0.68,0.128,0.672,0.171,0.02,0.848,0.466,0.786,0.081,0.161,0.882,0.656,0.083,0.027,0.639,0.702,0.157,1.366,1.046,0.218,0.116,0.026,0.116,0.011,0.3806678445229682,0.262,0.485,0.718,0.281,0.363,0.681,0.162,0.778,0.634,0.619,0.271,0.632,0.344,0.617,0.115,0.093,0.248,0.9,0.546,1.131,0.851,0.277,0.151,0.505,0.206,0.654,0.874,0.797,0.247,0.123,0.156,0.3806678445229682,0.233,0.249,0.513,0.314,0.71,0.065,0.061,0.093,0.236,0.137,0.128,0.689,0.03,0.033,0.885,0.506,0.553,0.09,0.127,0.552,0.679,0.414,0.759,0.641,0.066,0.806,0.053,0.072,0.599,0.449,0.352,0.294,0.019,0.034,0.696,0.851,0.277,0.151,0.505,0.206,0.654,0.874,0.797,0.247,0.123,0.156,0.3806678445229682,0.233,0.249,0.513,0.314,0.71,0.065,0.061,0.093,0.233,0.249,0.513,0.314,0.71,0.065,0.061,0.093,0.236,0.137,0.128,0.689,0.03,0.033,0.885,0.506,0.553,0.09,0.127,0.552,0.679,0.414,0.759,0.641,0.066,0.233,0.249,0.513,0.314,0.71,0.065,0.061,0.093,0.236,0.137,0.128,0.689,0.71,0.065,0.061,0.093,0.236,0.137,0.128,0.689,0.137,0.137,0.9,0.546,1.131,0.851,0.277,0.151,0.505,0.206,0.654,0.874,0.797,0.247,0.123,0.156,0.236,0.233,0.249,0.513,0.314,0.71,0.065,0.061,0.093,0.236,0.137,0.128,0.689,0.03,0.033,0.885,0.506,0.553,0.09,0.127,0.552,0.679,0.414,0.759,0.641,0.066,0.806,0.053,0.072,0.599,0.449,0.352,0.294,0.019,0.034,0.696,0.851,0.277,0.151,0.505,0.206,0.654,0.874,0.797,0.247,0.123,0.156,0.3806678445229682,0.233,0.249,0.513,0.314,0.71,0.065,0.061,0.093,0.233,0.249,0.513,0.314,0.71,0.065,0.061,0.093,0.236,0.137,0.128,0.689,0.03,0.033,0.885,0.506,0.553,0.09,0.127,0.552,0.679,0.414,0.759,0.641,0.066,0.233,0.249,0.513,0.314,0.71,0.065,0.061,0.093,0.236,0.137,0.128,0.689,0.053,0.072,0.599,0.449,0.352,0.294,0.019,0.034,0.696,0.3806678445229682,0.081,0.161,0.882,0.656,0.083,0.027,0.639,0.702,0.157,1.366,1.046,0.218,0.116,0.026,0.116,0.053,0.072,0.599,0.449,0.352,0.294,0.019,0.034,0.696,0.3806678445229682,0.081,0.161,0.882,0.656,0.083,0.027,0.639,0.702,0.157,1.366,1.046,0.218,0.116,0.026,0.116,0.053,0.072,0.599,0.449,0.352,0.294,0.019,0.034,0.696,0.3806678445229682,0.081,0.161,0.882,0.656,0.083,0.027,0.639,0.702,0.157,1.366,1.046,0.218,0.116,0.026,0.116,0.157,1.366,1.046],\"type\":\"scatter\"}],                        {\"template\":{\"data\":{\"histogram2dcontour\":[{\"type\":\"histogram2dcontour\",\"colorbar\":{\"outlinewidth\":0,\"ticks\":\"\"},\"colorscale\":[[0.0,\"#0d0887\"],[0.1111111111111111,\"#46039f\"],[0.2222222222222222,\"#7201a8\"],[0.3333333333333333,\"#9c179e\"],[0.4444444444444444,\"#bd3786\"],[0.5555555555555556,\"#d8576b\"],[0.6666666666666666,\"#ed7953\"],[0.7777777777777778,\"#fb9f3a\"],[0.8888888888888888,\"#fdca26\"],[1.0,\"#f0f921\"]]}],\"choropleth\":[{\"type\":\"choropleth\",\"colorbar\":{\"outlinewidth\":0,\"ticks\":\"\"}}],\"histogram2d\":[{\"type\":\"histogram2d\",\"colorbar\":{\"outlinewidth\":0,\"ticks\":\"\"},\"colorscale\":[[0.0,\"#0d0887\"],[0.1111111111111111,\"#46039f\"],[0.2222222222222222,\"#7201a8\"],[0.3333333333333333,\"#9c179e\"],[0.4444444444444444,\"#bd3786\"],[0.5555555555555556,\"#d8576b\"],[0.6666666666666666,\"#ed7953\"],[0.7777777777777778,\"#fb9f3a\"],[0.8888888888888888,\"#fdca26\"],[1.0,\"#f0f921\"]]}],\"heatmap\":[{\"type\":\"heatmap\",\"colorbar\":{\"outlinewidth\":0,\"ticks\":\"\"},\"colorscale\":[[0.0,\"#0d0887\"],[0.1111111111111111,\"#46039f\"],[0.2222222222222222,\"#7201a8\"],[0.3333333333333333,\"#9c179e\"],[0.4444444444444444,\"#bd3786\"],[0.5555555555555556,\"#d8576b\"],[0.6666666666666666,\"#ed7953\"],[0.7777777777777778,\"#fb9f3a\"],[0.8888888888888888,\"#fdca26\"],[1.0,\"#f0f921\"]]}],\"heatmapgl\":[{\"type\":\"heatmapgl\",\"colorbar\":{\"outlinewidth\":0,\"ticks\":\"\"},\"colorscale\":[[0.0,\"#0d0887\"],[0.1111111111111111,\"#46039f\"],[0.2222222222222222,\"#7201a8\"],[0.3333333333333333,\"#9c179e\"],[0.4444444444444444,\"#bd3786\"],[0.5555555555555556,\"#d8576b\"],[0.6666666666666666,\"#ed7953\"],[0.7777777777777778,\"#fb9f3a\"],[0.8888888888888888,\"#fdca26\"],[1.0,\"#f0f921\"]]}],\"contourcarpet\":[{\"type\":\"contourcarpet\",\"colorbar\":{\"outlinewidth\":0,\"ticks\":\"\"}}],\"contour\":[{\"type\":\"contour\",\"colorbar\":{\"outlinewidth\":0,\"ticks\":\"\"},\"colorscale\":[[0.0,\"#0d0887\"],[0.1111111111111111,\"#46039f\"],[0.2222222222222222,\"#7201a8\"],[0.3333333333333333,\"#9c179e\"],[0.4444444444444444,\"#bd3786\"],[0.5555555555555556,\"#d8576b\"],[0.6666666666666666,\"#ed7953\"],[0.7777777777777778,\"#fb9f3a\"],[0.8888888888888888,\"#fdca26\"],[1.0,\"#f0f921\"]]}],\"surface\":[{\"type\":\"surface\",\"colorbar\":{\"outlinewidth\":0,\"ticks\":\"\"},\"colorscale\":[[0.0,\"#0d0887\"],[0.1111111111111111,\"#46039f\"],[0.2222222222222222,\"#7201a8\"],[0.3333333333333333,\"#9c179e\"],[0.4444444444444444,\"#bd3786\"],[0.5555555555555556,\"#d8576b\"],[0.6666666666666666,\"#ed7953\"],[0.7777777777777778,\"#fb9f3a\"],[0.8888888888888888,\"#fdca26\"],[1.0,\"#f0f921\"]]}],\"mesh3d\":[{\"type\":\"mesh3d\",\"colorbar\":{\"outlinewidth\":0,\"ticks\":\"\"}}],\"scatter\":[{\"fillpattern\":{\"fillmode\":\"overlay\",\"size\":10,\"solidity\":0.2},\"type\":\"scatter\"}],\"parcoords\":[{\"type\":\"parcoords\",\"line\":{\"colorbar\":{\"outlinewidth\":0,\"ticks\":\"\"}}}],\"scatterpolargl\":[{\"type\":\"scatterpolargl\",\"marker\":{\"colorbar\":{\"outlinewidth\":0,\"ticks\":\"\"}}}],\"bar\":[{\"error_x\":{\"color\":\"#2a3f5f\"},\"error_y\":{\"color\":\"#2a3f5f\"},\"marker\":{\"line\":{\"color\":\"#E5ECF6\",\"width\":0.5},\"pattern\":{\"fillmode\":\"overlay\",\"size\":10,\"solidity\":0.2}},\"type\":\"bar\"}],\"scattergeo\":[{\"type\":\"scattergeo\",\"marker\":{\"colorbar\":{\"outlinewidth\":0,\"ticks\":\"\"}}}],\"scatterpolar\":[{\"type\":\"scatterpolar\",\"marker\":{\"colorbar\":{\"outlinewidth\":0,\"ticks\":\"\"}}}],\"histogram\":[{\"marker\":{\"pattern\":{\"fillmode\":\"overlay\",\"size\":10,\"solidity\":0.2}},\"type\":\"histogram\"}],\"scattergl\":[{\"type\":\"scattergl\",\"marker\":{\"colorbar\":{\"outlinewidth\":0,\"ticks\":\"\"}}}],\"scatter3d\":[{\"type\":\"scatter3d\",\"line\":{\"colorbar\":{\"outlinewidth\":0,\"ticks\":\"\"}},\"marker\":{\"colorbar\":{\"outlinewidth\":0,\"ticks\":\"\"}}}],\"scattermapbox\":[{\"type\":\"scattermapbox\",\"marker\":{\"colorbar\":{\"outlinewidth\":0,\"ticks\":\"\"}}}],\"scatterternary\":[{\"type\":\"scatterternary\",\"marker\":{\"colorbar\":{\"outlinewidth\":0,\"ticks\":\"\"}}}],\"scattercarpet\":[{\"type\":\"scattercarpet\",\"marker\":{\"colorbar\":{\"outlinewidth\":0,\"ticks\":\"\"}}}],\"carpet\":[{\"aaxis\":{\"endlinecolor\":\"#2a3f5f\",\"gridcolor\":\"white\",\"linecolor\":\"white\",\"minorgridcolor\":\"white\",\"startlinecolor\":\"#2a3f5f\"},\"baxis\":{\"endlinecolor\":\"#2a3f5f\",\"gridcolor\":\"white\",\"linecolor\":\"white\",\"minorgridcolor\":\"white\",\"startlinecolor\":\"#2a3f5f\"},\"type\":\"carpet\"}],\"table\":[{\"cells\":{\"fill\":{\"color\":\"#EBF0F8\"},\"line\":{\"color\":\"white\"}},\"header\":{\"fill\":{\"color\":\"#C8D4E3\"},\"line\":{\"color\":\"white\"}},\"type\":\"table\"}],\"barpolar\":[{\"marker\":{\"line\":{\"color\":\"#E5ECF6\",\"width\":0.5},\"pattern\":{\"fillmode\":\"overlay\",\"size\":10,\"solidity\":0.2}},\"type\":\"barpolar\"}],\"pie\":[{\"automargin\":true,\"type\":\"pie\"}]},\"layout\":{\"autotypenumbers\":\"strict\",\"colorway\":[\"#636efa\",\"#EF553B\",\"#00cc96\",\"#ab63fa\",\"#FFA15A\",\"#19d3f3\",\"#FF6692\",\"#B6E880\",\"#FF97FF\",\"#FECB52\"],\"font\":{\"color\":\"#2a3f5f\"},\"hovermode\":\"closest\",\"hoverlabel\":{\"align\":\"left\"},\"paper_bgcolor\":\"white\",\"plot_bgcolor\":\"#E5ECF6\",\"polar\":{\"bgcolor\":\"#E5ECF6\",\"angularaxis\":{\"gridcolor\":\"white\",\"linecolor\":\"white\",\"ticks\":\"\"},\"radialaxis\":{\"gridcolor\":\"white\",\"linecolor\":\"white\",\"ticks\":\"\"}},\"ternary\":{\"bgcolor\":\"#E5ECF6\",\"aaxis\":{\"gridcolor\":\"white\",\"linecolor\":\"white\",\"ticks\":\"\"},\"baxis\":{\"gridcolor\":\"white\",\"linecolor\":\"white\",\"ticks\":\"\"},\"caxis\":{\"gridcolor\":\"white\",\"linecolor\":\"white\",\"ticks\":\"\"}},\"coloraxis\":{\"colorbar\":{\"outlinewidth\":0,\"ticks\":\"\"}},\"colorscale\":{\"sequential\":[[0.0,\"#0d0887\"],[0.1111111111111111,\"#46039f\"],[0.2222222222222222,\"#7201a8\"],[0.3333333333333333,\"#9c179e\"],[0.4444444444444444,\"#bd3786\"],[0.5555555555555556,\"#d8576b\"],[0.6666666666666666,\"#ed7953\"],[0.7777777777777778,\"#fb9f3a\"],[0.8888888888888888,\"#fdca26\"],[1.0,\"#f0f921\"]],\"sequentialminus\":[[0.0,\"#0d0887\"],[0.1111111111111111,\"#46039f\"],[0.2222222222222222,\"#7201a8\"],[0.3333333333333333,\"#9c179e\"],[0.4444444444444444,\"#bd3786\"],[0.5555555555555556,\"#d8576b\"],[0.6666666666666666,\"#ed7953\"],[0.7777777777777778,\"#fb9f3a\"],[0.8888888888888888,\"#fdca26\"],[1.0,\"#f0f921\"]],\"diverging\":[[0,\"#8e0152\"],[0.1,\"#c51b7d\"],[0.2,\"#de77ae\"],[0.3,\"#f1b6da\"],[0.4,\"#fde0ef\"],[0.5,\"#f7f7f7\"],[0.6,\"#e6f5d0\"],[0.7,\"#b8e186\"],[0.8,\"#7fbc41\"],[0.9,\"#4d9221\"],[1,\"#276419\"]]},\"xaxis\":{\"gridcolor\":\"white\",\"linecolor\":\"white\",\"ticks\":\"\",\"title\":{\"standoff\":15},\"zerolinecolor\":\"white\",\"automargin\":true,\"zerolinewidth\":2},\"yaxis\":{\"gridcolor\":\"white\",\"linecolor\":\"white\",\"ticks\":\"\",\"title\":{\"standoff\":15},\"zerolinecolor\":\"white\",\"automargin\":true,\"zerolinewidth\":2},\"scene\":{\"xaxis\":{\"backgroundcolor\":\"#E5ECF6\",\"gridcolor\":\"white\",\"linecolor\":\"white\",\"showbackground\":true,\"ticks\":\"\",\"zerolinecolor\":\"white\",\"gridwidth\":2},\"yaxis\":{\"backgroundcolor\":\"#E5ECF6\",\"gridcolor\":\"white\",\"linecolor\":\"white\",\"showbackground\":true,\"ticks\":\"\",\"zerolinecolor\":\"white\",\"gridwidth\":2},\"zaxis\":{\"backgroundcolor\":\"#E5ECF6\",\"gridcolor\":\"white\",\"linecolor\":\"white\",\"showbackground\":true,\"ticks\":\"\",\"zerolinecolor\":\"white\",\"gridwidth\":2}},\"shapedefaults\":{\"line\":{\"color\":\"#2a3f5f\"}},\"annotationdefaults\":{\"arrowcolor\":\"#2a3f5f\",\"arrowhead\":0,\"arrowwidth\":1},\"geo\":{\"bgcolor\":\"white\",\"landcolor\":\"#E5ECF6\",\"subunitcolor\":\"white\",\"showland\":true,\"showlakes\":true,\"lakecolor\":\"white\"},\"title\":{\"x\":0.05},\"mapbox\":{\"style\":\"light\"}}}},                        {\"responsive\": true}                    ).then(function(){\n",
       "                            \n",
       "var gd = document.getElementById('2a334b4c-5081-49ab-ab8b-55dff6fcb1c0');\n",
       "var x = new MutationObserver(function (mutations, observer) {{\n",
       "        var display = window.getComputedStyle(gd).display;\n",
       "        if (!display || display === 'none') {{\n",
       "            console.log([gd, 'removed!']);\n",
       "            Plotly.purge(gd);\n",
       "            observer.disconnect();\n",
       "        }}\n",
       "}});\n",
       "\n",
       "// Listen for the removal of the full notebook cells\n",
       "var notebookContainer = gd.closest('#notebook-container');\n",
       "if (notebookContainer) {{\n",
       "    x.observe(notebookContainer, {childList: true});\n",
       "}}\n",
       "\n",
       "// Listen for the clearing of the current output cell\n",
       "var outputEl = gd.closest('.output');\n",
       "if (outputEl) {{\n",
       "    x.observe(outputEl, {childList: true});\n",
       "}}\n",
       "\n",
       "                        })                };                });            </script>        </div>"
      ]
     },
     "metadata": {},
     "output_type": "display_data"
    }
   ],
   "source": [
    "import pandas as pd\n",
    "import matplotlib.pyplot as plt\n",
    "import plotly.graph_objects as go\n",
    "\n",
    "df=pd.read_excel(\"world_literacy_data_2021_2023.xlsx\")\n",
    "df.fillna(mean_value,inplace=True)\n",
    "df_2023=df[df['Year']==2023]\n",
    "print(df_2023)\n",
    "fig = go.Figure()\n",
    "fig.add_trace(go.Scatter(x=df_2023['Country'], y=df['GDP'],\n",
    "                    mode='lines',\n",
    "                    name='GDP'))\n",
    "fig.add_trace(go.Scatter(x=df_2023['Country'], y=df['Literacy Rate'],\n",
    "                    mode='markers',\n",
    "                    name='Literacy Rate'))\n",
    "fig.show()\n",
    "\n",
    "# fig = px.bar(x=df.Country, y=df['GDP'], color=df_2023, title=\"World GDP rates of year 2021-23\")\n",
    "# plt.xlabel(\"Country\")\n",
    "# plt.ylabel(\"GDP\")\n",
    "# fig.show()"
   ]
  },
  {
   "cell_type": "markdown",
   "id": "c6cdf5bf-b9d7-4f2d-b534-28490aa1a683",
   "metadata": {},
   "source": [
    "# Plot the GDP and Literacy rate of the each country (Year : 2022)"
   ]
  },
  {
   "cell_type": "code",
   "execution_count": null,
   "id": "47c818ad-3924-41f5-a4b7-b6a521e55c27",
   "metadata": {},
   "outputs": [],
   "source": []
  },
  {
   "cell_type": "markdown",
   "id": "998be08f-3816-4f24-ab37-6597b1b57bd8",
   "metadata": {},
   "source": [
    "# Plot the GDP and Literacy rate of the each country (Year : 2021)"
   ]
  },
  {
   "cell_type": "markdown",
   "id": "8dba8dab-4add-4502-a377-e560bde5a71d",
   "metadata": {},
   "source": [
    "# Plot the Top 10 countries having highest Literacy Rate of year 2023"
   ]
  },
  {
   "cell_type": "code",
   "execution_count": 22,
   "id": "5ce93c05-57d1-471d-8f4a-7bba3f9b2cdb",
   "metadata": {},
   "outputs": [
    {
     "ename": "ValueError",
     "evalue": "All arguments should have the same length. The length of argument `y` is 10, whereas the length of  previously-processed arguments ['x'] is 585",
     "output_type": "error",
     "traceback": [
      "\u001b[1;31m---------------------------------------------------------------------------\u001b[0m",
      "\u001b[1;31mValueError\u001b[0m                                Traceback (most recent call last)",
      "Cell \u001b[1;32mIn[22], line 10\u001b[0m\n\u001b[0;32m      8\u001b[0m top_10_countries\u001b[38;5;241m=\u001b[39mdf_sorted\u001b[38;5;241m.\u001b[39mhead(\u001b[38;5;241m10\u001b[39m)\n\u001b[0;32m      9\u001b[0m \u001b[38;5;66;03m# print(top_10_countries)\u001b[39;00m\n\u001b[1;32m---> 10\u001b[0m fig \u001b[38;5;241m=\u001b[39m \u001b[43mpx\u001b[49m\u001b[38;5;241;43m.\u001b[39;49m\u001b[43mbar\u001b[49m\u001b[43m(\u001b[49m\u001b[43mx\u001b[49m\u001b[38;5;241;43m=\u001b[39;49m\u001b[43mdf\u001b[49m\u001b[38;5;241;43m.\u001b[39;49m\u001b[43mCountry\u001b[49m\u001b[43m,\u001b[49m\u001b[43m \u001b[49m\u001b[43my\u001b[49m\u001b[38;5;241;43m=\u001b[39;49m\u001b[43mtop_10_countries\u001b[49m\u001b[43m,\u001b[49m\u001b[43m \u001b[49m\u001b[43mcolor\u001b[49m\u001b[38;5;241;43m=\u001b[39;49m\u001b[43mdf_2023\u001b[49m\u001b[43m,\u001b[49m\u001b[43m \u001b[49m\u001b[43mtitle\u001b[49m\u001b[38;5;241;43m=\u001b[39;49m\u001b[38;5;124;43m\"\u001b[39;49m\u001b[38;5;124;43mWorld GDP rates of year 2021-23\u001b[39;49m\u001b[38;5;124;43m\"\u001b[39;49m\u001b[43m)\u001b[49m\n\u001b[0;32m     11\u001b[0m plt\u001b[38;5;241m.\u001b[39mxlabel(\u001b[38;5;124m\"\u001b[39m\u001b[38;5;124mCountry\u001b[39m\u001b[38;5;124m\"\u001b[39m)\n\u001b[0;32m     12\u001b[0m plt\u001b[38;5;241m.\u001b[39mylabel(\u001b[38;5;124m\"\u001b[39m\u001b[38;5;124mLiteracy Rate\u001b[39m\u001b[38;5;124m\"\u001b[39m)\n",
      "File \u001b[1;32m~\\AppData\\Local\\Programs\\Python\\Python312\\Lib\\site-packages\\plotly\\express\\_chart_types.py:373\u001b[0m, in \u001b[0;36mbar\u001b[1;34m(data_frame, x, y, color, pattern_shape, facet_row, facet_col, facet_col_wrap, facet_row_spacing, facet_col_spacing, hover_name, hover_data, custom_data, text, base, error_x, error_x_minus, error_y, error_y_minus, animation_frame, animation_group, category_orders, labels, color_discrete_sequence, color_discrete_map, color_continuous_scale, pattern_shape_sequence, pattern_shape_map, range_color, color_continuous_midpoint, opacity, orientation, barmode, log_x, log_y, range_x, range_y, text_auto, title, template, width, height)\u001b[0m\n\u001b[0;32m    325\u001b[0m \u001b[38;5;28;01mdef\u001b[39;00m \u001b[38;5;21mbar\u001b[39m(\n\u001b[0;32m    326\u001b[0m     data_frame\u001b[38;5;241m=\u001b[39m\u001b[38;5;28;01mNone\u001b[39;00m,\n\u001b[0;32m    327\u001b[0m     x\u001b[38;5;241m=\u001b[39m\u001b[38;5;28;01mNone\u001b[39;00m,\n\u001b[1;32m   (...)\u001b[0m\n\u001b[0;32m    367\u001b[0m     height\u001b[38;5;241m=\u001b[39m\u001b[38;5;28;01mNone\u001b[39;00m,\n\u001b[0;32m    368\u001b[0m ) \u001b[38;5;241m-\u001b[39m\u001b[38;5;241m>\u001b[39m go\u001b[38;5;241m.\u001b[39mFigure:\n\u001b[0;32m    369\u001b[0m \u001b[38;5;250m    \u001b[39m\u001b[38;5;124;03m\"\"\"\u001b[39;00m\n\u001b[0;32m    370\u001b[0m \u001b[38;5;124;03m    In a bar plot, each row of `data_frame` is represented as a rectangular\u001b[39;00m\n\u001b[0;32m    371\u001b[0m \u001b[38;5;124;03m    mark.\u001b[39;00m\n\u001b[0;32m    372\u001b[0m \u001b[38;5;124;03m    \"\"\"\u001b[39;00m\n\u001b[1;32m--> 373\u001b[0m     \u001b[38;5;28;01mreturn\u001b[39;00m \u001b[43mmake_figure\u001b[49m\u001b[43m(\u001b[49m\n\u001b[0;32m    374\u001b[0m \u001b[43m        \u001b[49m\u001b[43margs\u001b[49m\u001b[38;5;241;43m=\u001b[39;49m\u001b[38;5;28;43mlocals\u001b[39;49m\u001b[43m(\u001b[49m\u001b[43m)\u001b[49m\u001b[43m,\u001b[49m\n\u001b[0;32m    375\u001b[0m \u001b[43m        \u001b[49m\u001b[43mconstructor\u001b[49m\u001b[38;5;241;43m=\u001b[39;49m\u001b[43mgo\u001b[49m\u001b[38;5;241;43m.\u001b[39;49m\u001b[43mBar\u001b[49m\u001b[43m,\u001b[49m\n\u001b[0;32m    376\u001b[0m \u001b[43m        \u001b[49m\u001b[43mtrace_patch\u001b[49m\u001b[38;5;241;43m=\u001b[39;49m\u001b[38;5;28;43mdict\u001b[39;49m\u001b[43m(\u001b[49m\u001b[43mtextposition\u001b[49m\u001b[38;5;241;43m=\u001b[39;49m\u001b[38;5;124;43m\"\u001b[39;49m\u001b[38;5;124;43mauto\u001b[39;49m\u001b[38;5;124;43m\"\u001b[39;49m\u001b[43m)\u001b[49m\u001b[43m,\u001b[49m\n\u001b[0;32m    377\u001b[0m \u001b[43m        \u001b[49m\u001b[43mlayout_patch\u001b[49m\u001b[38;5;241;43m=\u001b[39;49m\u001b[38;5;28;43mdict\u001b[39;49m\u001b[43m(\u001b[49m\u001b[43mbarmode\u001b[49m\u001b[38;5;241;43m=\u001b[39;49m\u001b[43mbarmode\u001b[49m\u001b[43m)\u001b[49m\u001b[43m,\u001b[49m\n\u001b[0;32m    378\u001b[0m \u001b[43m    \u001b[49m\u001b[43m)\u001b[49m\n",
      "File \u001b[1;32m~\\AppData\\Local\\Programs\\Python\\Python312\\Lib\\site-packages\\plotly\\express\\_core.py:2090\u001b[0m, in \u001b[0;36mmake_figure\u001b[1;34m(args, constructor, trace_patch, layout_patch)\u001b[0m\n\u001b[0;32m   2087\u001b[0m layout_patch \u001b[38;5;241m=\u001b[39m layout_patch \u001b[38;5;129;01mor\u001b[39;00m {}\n\u001b[0;32m   2088\u001b[0m apply_default_cascade(args)\n\u001b[1;32m-> 2090\u001b[0m args \u001b[38;5;241m=\u001b[39m \u001b[43mbuild_dataframe\u001b[49m\u001b[43m(\u001b[49m\u001b[43margs\u001b[49m\u001b[43m,\u001b[49m\u001b[43m \u001b[49m\u001b[43mconstructor\u001b[49m\u001b[43m)\u001b[49m\n\u001b[0;32m   2091\u001b[0m \u001b[38;5;28;01mif\u001b[39;00m constructor \u001b[38;5;129;01min\u001b[39;00m [go\u001b[38;5;241m.\u001b[39mTreemap, go\u001b[38;5;241m.\u001b[39mSunburst, go\u001b[38;5;241m.\u001b[39mIcicle] \u001b[38;5;129;01mand\u001b[39;00m args[\u001b[38;5;124m\"\u001b[39m\u001b[38;5;124mpath\u001b[39m\u001b[38;5;124m\"\u001b[39m] \u001b[38;5;129;01mis\u001b[39;00m \u001b[38;5;129;01mnot\u001b[39;00m \u001b[38;5;28;01mNone\u001b[39;00m:\n\u001b[0;32m   2092\u001b[0m     args \u001b[38;5;241m=\u001b[39m process_dataframe_hierarchy(args)\n",
      "File \u001b[1;32m~\\AppData\\Local\\Programs\\Python\\Python312\\Lib\\site-packages\\plotly\\express\\_core.py:1492\u001b[0m, in \u001b[0;36mbuild_dataframe\u001b[1;34m(args, constructor)\u001b[0m\n\u001b[0;32m   1489\u001b[0m     args[\u001b[38;5;124m\"\u001b[39m\u001b[38;5;124mcolor\u001b[39m\u001b[38;5;124m\"\u001b[39m] \u001b[38;5;241m=\u001b[39m \u001b[38;5;28;01mNone\u001b[39;00m\n\u001b[0;32m   1490\u001b[0m \u001b[38;5;66;03m# now that things have been prepped, we do the systematic rewriting of `args`\u001b[39;00m\n\u001b[1;32m-> 1492\u001b[0m df_output, wide_id_vars \u001b[38;5;241m=\u001b[39m \u001b[43mprocess_args_into_dataframe\u001b[49m\u001b[43m(\u001b[49m\n\u001b[0;32m   1493\u001b[0m \u001b[43m    \u001b[49m\u001b[43margs\u001b[49m\u001b[43m,\u001b[49m\u001b[43m \u001b[49m\u001b[43mwide_mode\u001b[49m\u001b[43m,\u001b[49m\u001b[43m \u001b[49m\u001b[43mvar_name\u001b[49m\u001b[43m,\u001b[49m\u001b[43m \u001b[49m\u001b[43mvalue_name\u001b[49m\n\u001b[0;32m   1494\u001b[0m \u001b[43m\u001b[49m\u001b[43m)\u001b[49m\n\u001b[0;32m   1496\u001b[0m \u001b[38;5;66;03m# now that `df_output` exists and `args` contains only references, we complete\u001b[39;00m\n\u001b[0;32m   1497\u001b[0m \u001b[38;5;66;03m# the special-case and wide-mode handling by further rewriting args and/or mutating\u001b[39;00m\n\u001b[0;32m   1498\u001b[0m \u001b[38;5;66;03m# df_output\u001b[39;00m\n\u001b[0;32m   1500\u001b[0m count_name \u001b[38;5;241m=\u001b[39m _escape_col_name(df_output, \u001b[38;5;124m\"\u001b[39m\u001b[38;5;124mcount\u001b[39m\u001b[38;5;124m\"\u001b[39m, [var_name, value_name])\n",
      "File \u001b[1;32m~\\AppData\\Local\\Programs\\Python\\Python312\\Lib\\site-packages\\plotly\\express\\_core.py:1253\u001b[0m, in \u001b[0;36mprocess_args_into_dataframe\u001b[1;34m(args, wide_mode, var_name, value_name)\u001b[0m\n\u001b[0;32m   1250\u001b[0m         col_name \u001b[38;5;241m=\u001b[39m _check_name_not_reserved(field, reserved_names)\n\u001b[0;32m   1252\u001b[0m     \u001b[38;5;28;01mif\u001b[39;00m length \u001b[38;5;129;01mand\u001b[39;00m \u001b[38;5;28mlen\u001b[39m(argument) \u001b[38;5;241m!=\u001b[39m length:\n\u001b[1;32m-> 1253\u001b[0m         \u001b[38;5;28;01mraise\u001b[39;00m \u001b[38;5;167;01mValueError\u001b[39;00m(\n\u001b[0;32m   1254\u001b[0m             \u001b[38;5;124m\"\u001b[39m\u001b[38;5;124mAll arguments should have the same length. \u001b[39m\u001b[38;5;124m\"\u001b[39m\n\u001b[0;32m   1255\u001b[0m             \u001b[38;5;124m\"\u001b[39m\u001b[38;5;124mThe length of argument `\u001b[39m\u001b[38;5;132;01m%s\u001b[39;00m\u001b[38;5;124m` is \u001b[39m\u001b[38;5;132;01m%d\u001b[39;00m\u001b[38;5;124m, whereas the \u001b[39m\u001b[38;5;124m\"\u001b[39m\n\u001b[0;32m   1256\u001b[0m             \u001b[38;5;124m\"\u001b[39m\u001b[38;5;124mlength of  previously-processed arguments \u001b[39m\u001b[38;5;132;01m%s\u001b[39;00m\u001b[38;5;124m is \u001b[39m\u001b[38;5;132;01m%d\u001b[39;00m\u001b[38;5;124m\"\u001b[39m\n\u001b[0;32m   1257\u001b[0m             \u001b[38;5;241m%\u001b[39m (field, \u001b[38;5;28mlen\u001b[39m(argument), \u001b[38;5;28mstr\u001b[39m(\u001b[38;5;28mlist\u001b[39m(df_output\u001b[38;5;241m.\u001b[39mkeys())), length)\n\u001b[0;32m   1258\u001b[0m         )\n\u001b[0;32m   1259\u001b[0m     df_output[\u001b[38;5;28mstr\u001b[39m(col_name)] \u001b[38;5;241m=\u001b[39m to_unindexed_series(argument, \u001b[38;5;28mstr\u001b[39m(col_name))\n\u001b[0;32m   1261\u001b[0m \u001b[38;5;66;03m# Finally, update argument with column name now that column exists\u001b[39;00m\n",
      "\u001b[1;31mValueError\u001b[0m: All arguments should have the same length. The length of argument `y` is 10, whereas the length of  previously-processed arguments ['x'] is 585"
     ]
    }
   ],
   "source": [
    "import pandas as pd\n",
    "import matplotlib.pyplot as plt\n",
    "df=pd.read_excel(\"world_literacy_data_2021_2023.xlsx\")\n",
    "df.fillna(mean_value,inplace=True)\n",
    "\n",
    "df_2023=df[df['Year']==2023]\n",
    "df_sorted=df_2023.sort_values(by='Literacy Rate',ascending=False)\n",
    "top_10_countries=df_sorted.head(10)\n",
    "# print(top_10_countries)\n",
    "fig = px.bar(x=df.Country, y=top_10_countries, color=df_2023, title=\"World GDP rates of year 2021-23\")\n",
    "plt.xlabel(\"Country\")\n",
    "plt.ylabel(\"Literacy Rate\")\n",
    "fig.show()"
   ]
  },
  {
   "cell_type": "code",
   "execution_count": 2,
   "id": "30b62c92-9b08-4df1-8dd7-583d5b3af383",
   "metadata": {},
   "outputs": [
    {
     "ename": "NameError",
     "evalue": "name 'pd' is not defined",
     "output_type": "error",
     "traceback": [
      "\u001b[1;31m---------------------------------------------------------------------------\u001b[0m",
      "\u001b[1;31mNameError\u001b[0m                                 Traceback (most recent call last)",
      "Cell \u001b[1;32mIn[2], line 2\u001b[0m\n\u001b[0;32m      1\u001b[0m \u001b[38;5;28;01mimport\u001b[39;00m \u001b[38;5;21;01mplotly\u001b[39;00m\u001b[38;5;21;01m.\u001b[39;00m\u001b[38;5;21;01mexpress\u001b[39;00m \u001b[38;5;28;01mas\u001b[39;00m \u001b[38;5;21;01mpx\u001b[39;00m\n\u001b[1;32m----> 2\u001b[0m df \u001b[38;5;241m=\u001b[39m \u001b[43mpd\u001b[49m\u001b[38;5;241m.\u001b[39mread_csv(\u001b[38;5;124m'\u001b[39m\u001b[38;5;124mworld_literacy_data_2021_2023.csv\u001b[39m\u001b[38;5;124m'\u001b[39m) \u001b[38;5;66;03m# iris is a pandas DataFrame\u001b[39;00m\n\u001b[0;32m      3\u001b[0m \u001b[38;5;66;03m# Filter data for the year 2023\u001b[39;00m\n\u001b[0;32m      4\u001b[0m df_2023 \u001b[38;5;241m=\u001b[39m df[df[\u001b[38;5;124m'\u001b[39m\u001b[38;5;124mYear\u001b[39m\u001b[38;5;124m'\u001b[39m] \u001b[38;5;241m==\u001b[39m \u001b[38;5;241m2023\u001b[39m]\n",
      "\u001b[1;31mNameError\u001b[0m: name 'pd' is not defined"
     ]
    }
   ],
   "source": [
    "import pandas as pd\n",
    "import plotly.express as px\n",
    "df = pd.read_csv('world_literacy_data_2021_2023.csv') # iris is a pandas DataFrame\n",
    "# Filter data for the year 2023\n",
    "df_2023 = df[df['Year'] == 2023]\n",
    "\n",
    "fig = px.scatter(df_2023, x=\"GDP\", y=\"Literacy Rate\", color='Country', \n",
    "                                 title='GDP vs Literacy Rate of Each Country (Year: 2023)')\n",
    "\n",
    "\n",
    "fig.update_layout(\n",
    "    xaxis_title='GDP',\n",
    "    yaxis_title='Literacy Rate',\n",
    "    legend_title='Country'\n",
    ")\n",
    "fig.show()\n"
   ]
  },
  {
   "cell_type": "code",
   "execution_count": null,
   "id": "e0270026-c373-43ef-852a-27280c6ab3e5",
   "metadata": {},
   "outputs": [],
   "source": []
  }
 ],
 "metadata": {
  "kernelspec": {
   "display_name": "Python 3 (ipykernel)",
   "language": "python",
   "name": "python3"
  },
  "language_info": {
   "codemirror_mode": {
    "name": "ipython",
    "version": 3
   },
   "file_extension": ".py",
   "mimetype": "text/x-python",
   "name": "python",
   "nbconvert_exporter": "python",
   "pygments_lexer": "ipython3",
   "version": "3.12.4"
  }
 },
 "nbformat": 4,
 "nbformat_minor": 5
}
