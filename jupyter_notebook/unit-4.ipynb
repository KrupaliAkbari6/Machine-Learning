{
 "cells": [
  {
   "cell_type": "markdown",
   "id": "5eb27c6f",
   "metadata": {},
   "source": [
    "# Preprocessing technique 1 --> Tokenization"
   ]
  },
  {
   "cell_type": "markdown",
   "id": "70b9a60c",
   "metadata": {},
   "source": [
    "# setence words and punctuation"
   ]
  },
  {
   "cell_type": "code",
   "execution_count": 24,
   "id": "2df703a6",
   "metadata": {},
   "outputs": [
    {
     "name": "stdout",
     "output_type": "stream",
     "text": [
      "showing info https://raw.githubusercontent.com/nltk/nltk_data/gh-pages/index.xml\n"
     ]
    },
    {
     "data": {
      "text/plain": [
       "True"
      ]
     },
     "execution_count": 24,
     "metadata": {},
     "output_type": "execute_result"
    }
   ],
   "source": [
    "import nltk\n",
    "nltk.download()"
   ]
  },
  {
   "cell_type": "code",
   "execution_count": 25,
   "id": "9ed1b842",
   "metadata": {},
   "outputs": [
    {
     "name": "stdout",
     "output_type": "stream",
     "text": [
      "A paragraph is defined as “a group of sentences or a single sentence that forms a unit” (Lunsford and Connors 116). Length and appearance do not determine whether a section in a paper is a paragraph. For instance, in some styles of writing, particularly journalistic styles, a paragraph can be just one sentence long.\n",
      "['A paragraph is defined as “a group of sentences or a single sentence that forms a unit” (Lunsford and Connors 116).', 'Length and appearance do not determine whether a section in a paper is a paragraph.', 'For instance, in some styles of writing, particularly journalistic styles, a paragraph can be just one sentence long.']\n"
     ]
    }
   ],
   "source": [
    "#sentence\n",
    "from nltk import sent_tokenize\n",
    "text=\"A paragraph is defined as “a group of sentences or a single sentence that forms a unit” (Lunsford and Connors 116). Length and appearance do not determine whether a section in a paper is a paragraph. For instance, in some styles of writing, particularly journalistic styles, a paragraph can be just one sentence long.\"\n",
    "print(text)\n",
    "output=sent_tokenize(text)\n",
    "print(output)"
   ]
  },
  {
   "cell_type": "code",
   "execution_count": 26,
   "id": "5193a480",
   "metadata": {},
   "outputs": [
    {
     "name": "stdout",
     "output_type": "stream",
     "text": [
      "A paragraph is defined as “a group of sentences or a single sentence that forms a unit” (Lunsford and Connors 116). Length and appearance do not determine whether a section in a paper is a paragraph. For instance, in some styles of writing, particularly journalistic styles, a paragraph can be just one sentence long.\n",
      "['A', 'paragraph', 'is', 'defined', 'as', '“', 'a', 'group', 'of', 'sentences', 'or', 'a', 'single', 'sentence', 'that', 'forms', 'a', 'unit', '”', '(', 'Lunsford', 'and', 'Connors', '116', ')', '.', 'Length', 'and', 'appearance', 'do', 'not', 'determine', 'whether', 'a', 'section', 'in', 'a', 'paper', 'is', 'a', 'paragraph', '.', 'For', 'instance', ',', 'in', 'some', 'styles', 'of', 'writing', ',', 'particularly', 'journalistic', 'styles', ',', 'a', 'paragraph', 'can', 'be', 'just', 'one', 'sentence', 'long', '.']\n"
     ]
    }
   ],
   "source": [
    "#words\n",
    "from nltk import word_tokenize\n",
    "text=\"A paragraph is defined as “a group of sentences or a single sentence that forms a unit” (Lunsford and Connors 116). Length and appearance do not determine whether a section in a paper is a paragraph. For instance, in some styles of writing, particularly journalistic styles, a paragraph can be just one sentence long.\"\n",
    "print(text)\n",
    "output=word_tokenize(text)\n",
    "print(output)"
   ]
  },
  {
   "cell_type": "code",
   "execution_count": 27,
   "id": "640c2b26",
   "metadata": {},
   "outputs": [
    {
     "name": "stdout",
     "output_type": "stream",
     "text": [
      "A paragraph is defined as “a group of sentences or a single sentence that forms a unit” (Lunsford and Connors 116). Length and appearance do not determine whether a section in a paper is a paragraph. For instance, in some styles of writing, particularly journalistic styles, a paragraph can be just one sentence long.\n",
      "----------------------------------------------------------------------\n",
      "['A', 'paragraph', 'is', 'defined', 'as', '“', 'a', 'group', 'of', 'sentences', 'or', 'a', 'single', 'sentence', 'that', 'forms', 'a', 'unit', '”', '(', 'Lunsford', 'and', 'Connors', '116', ')', '.', 'Length', 'and', 'appearance', 'do', 'not', 'determine', 'whether', 'a', 'section', 'in', 'a', 'paper', 'is', 'a', 'paragraph', '.', 'For', 'instance', ',', 'in', 'some', 'styles', 'of', 'writing', ',', 'particularly', 'journalistic', 'styles', ',', 'a', 'paragraph', 'can', 'be', 'just', 'one', 'sentence', 'long', '.']\n"
     ]
    }
   ],
   "source": [
    "#word Punctuation\n",
    "from nltk import WordPunctTokenizer\n",
    "text=\"A paragraph is defined as “a group of sentences or a single sentence that forms a unit” (Lunsford and Connors 116). Length and appearance do not determine whether a section in a paper is a paragraph. For instance, in some styles of writing, particularly journalistic styles, a paragraph can be just one sentence long.\"\n",
    "print(text)\n",
    "print(\"----------------------------------------------------------------------\")\n",
    "model=WordPunctTokenizer()\n",
    "output=word_tokenize(text)\n",
    "print(output)"
   ]
  },
  {
   "cell_type": "markdown",
   "id": "06be577e",
   "metadata": {},
   "source": [
    "# Preprocessing technique 2 --> Stemming"
   ]
  },
  {
   "cell_type": "code",
   "execution_count": 28,
   "id": "867df350",
   "metadata": {},
   "outputs": [
    {
     "name": "stdout",
     "output_type": "stream",
     "text": [
      "Porter Stemmer :  table ['tabl']\n",
      "Lancaster Stemmer :  table ['tabl']\n",
      "Snowball Stemmer :  table ['tabl']\n",
      "-------------------------------\n",
      "Porter Stemmer :  probably ['probabl']\n",
      "Lancaster Stemmer :  probably ['prob']\n",
      "Snowball Stemmer :  probably ['probabl']\n",
      "-------------------------------\n",
      "Porter Stemmer :  wolves ['wolv']\n",
      "Lancaster Stemmer :  wolves ['wolv']\n",
      "Snowball Stemmer :  wolves ['wolv']\n",
      "-------------------------------\n",
      "Porter Stemmer :  playing ['play']\n",
      "Lancaster Stemmer :  playing ['play']\n",
      "Snowball Stemmer :  playing ['play']\n",
      "-------------------------------\n",
      "Porter Stemmer :  is ['is']\n",
      "Lancaster Stemmer :  is ['is']\n",
      "Snowball Stemmer :  is ['is']\n",
      "-------------------------------\n",
      "Porter Stemmer :  the ['the']\n",
      "Lancaster Stemmer :  the ['the']\n",
      "Snowball Stemmer :  the ['the']\n",
      "-------------------------------\n",
      "Porter Stemmer :  cats ['cat']\n",
      "Lancaster Stemmer :  cats ['cat']\n",
      "Snowball Stemmer :  cats ['cat']\n",
      "-------------------------------\n",
      "Porter Stemmer :  talk ['talk']\n",
      "Lancaster Stemmer :  talk ['talk']\n",
      "Snowball Stemmer :  talk ['talk']\n",
      "-------------------------------\n"
     ]
    }
   ],
   "source": [
    "from nltk.stem.porter import PorterStemmer\n",
    "from nltk.stem.lancaster import LancasterStemmer\n",
    "from nltk.stem.snowball import SnowballStemmer\n",
    "\n",
    "words=['table','probably','wolves','playing','is','the','cats','talk']\n",
    "\n",
    "porter_stemmer=PorterStemmer()\n",
    "lancaster_stemmer=LancasterStemmer()\n",
    "snowball_stemmer=SnowballStemmer('english')\n",
    "\n",
    "for word in words:\n",
    "    stemmed_porter_words=[porter_stemmer.stem(word)]\n",
    "    stemmed_lancaster_words=[lancaster_stemmer.stem(word)]\n",
    "    stemmed_snowball_words=[snowball_stemmer.stem(word)]\n",
    "    \n",
    "    print(\"Porter Stemmer : \",word,stemmed_porter_words)\n",
    "    print(\"Lancaster Stemmer : \",word,stemmed_lancaster_words)\n",
    "    print(\"Snowball Stemmer : \",word,stemmed_snowball_words)\n",
    "    print(\"-------------------------------\")\n",
    "\n"
   ]
  },
  {
   "cell_type": "markdown",
   "id": "cc8b18f0",
   "metadata": {},
   "source": [
    "# Text Data Classification"
   ]
  },
  {
   "cell_type": "code",
   "execution_count": 11,
   "id": "e2a6e044",
   "metadata": {},
   "outputs": [
    {
     "name": "stdout",
     "output_type": "stream",
     "text": [
      "['misc.forsale', 'rec.motorcycles', 'rec.sport.baseball', 'sci.crypt', 'sci.space']\n",
      "From: demers@cs.ucsd.edu (David DeMers)\n",
      "Subject: Re: Montreal Question.......\n",
      "Organization: CSE Dept., UC San Diego\n",
      "Lines: 13\n",
      "Nntp-Posting-Host: mbongo.ucsd.edu\n",
      "\n",
      "\n",
      "In article <1993Apr19.015442.15723@oz.plymouth.edu>, k_mullin@oz.plymouth.edu (Mully) writes:\n",
      "|> \n",
      "|>    What position does Mike Lansing play?  I cannot seem to find it \n",
      "|>  anywhere.  Thanks!!!!1\n",
      "\n",
      "He's a shortstop by training, but he's been at second (mostly) and third\n",
      "this year for the Expos.\n",
      "-- \n",
      "Dave DeMers\t\t\t \t        demers@cs.ucsd.edu\n",
      "Computer Science & Engineering\t0114\t\tdemers%cs@ucsd.bitnet\n",
      "UC San Diego\t\t\t\t\t...!ucsd!cs!demers\n",
      "La Jolla, CA 92093-0114\t(619) 534-0688, or -8187, FAX: (619) 534-7029\n",
      "\n",
      "['misc.forsale', 'rec.motorcycles', 'rec.sport.baseball', 'sci.crypt', 'sci.space']\n",
      "From: bclarke@galaxy.gov.bc.ca\n",
      "Subject: Re: First Bike??\n",
      "Organization: BC Systems Corporation\n",
      "Lines: 8\n",
      "\n",
      "In article <0forqFa00iUzMATnMz@andrew.cmu.edu>, James Leo Belliveau <jbc9+@andrew.cmu.edu> writes:\n",
      ">     I am a serious motorcycle enthusiast without a motorcycle, and to\n",
      "> put it bluntly, it sucks.  I really would like some advice on what would\n",
      "\n",
      "Oh! For a second I thought this was a posting by Ed Green!\n",
      "-- \n",
      "Bruce Clarke       B.C. Environment\n",
      "                   e-mail: bclarke@galaxy.gov.bc.ca\n",
      "\n",
      "['misc.forsale', 'rec.motorcycles', 'rec.sport.baseball', 'sci.crypt', 'sci.space']\n",
      "From: CGKarras@world.std.com (Christopher G Karras)\n",
      "Subject: Need Maintenance tips\n",
      "Organization: The World Public Access UNIX, Brookline, MA\n",
      "Lines: 29\n",
      "\n",
      "\n",
      "After reading the service manual for my bike (Suzuki GS500E--1990) I have\n",
      "a couple of questions I hope you can answer:\n",
      "\n",
      "When checking the oil level with the dip stick built into the oil fill\n",
      "cap, does one check it with the cap screwed in or not?  I am more used to\n",
      "the dip stick for a cage where the stick is extracted fully, wiped clean\n",
      "and reinserted fully, then withdrawn and read.  The dip stick on my bike\n",
      "is part of the oil filler cap and has about 1/2 inch of threads on it.  Do\n",
      "I remove the cap, wipe the stick clean and reinsert it with/without\n",
      "screwing it down before reading?\n",
      "\n",
      "The service manual calls for the application of Suzuki Bond No. 1207B on\n",
      "the head cover.  I guess this is some sort of liquid gasket material.  do\n",
      "you know of a generic (cheaper) substitute?\n",
      "\n",
      "My headlight is a Halogen 60/55 W bulb.  Is there an easy, brighter\n",
      "replacement bulb available?  Where should I look for one?\n",
      "\n",
      "As always, I very much appreciate your help.  The weather in Philadelphia\n",
      "has finally turned WARM.  This weekend I saw lotsa bikes, and the riders\n",
      "ALL waved.  A nice change of tone from what Philadelphia can be like. . . .\n",
      "\n",
      "Chris\n",
      "\n",
      "-- \n",
      "*******************************************************************\n",
      "Christopher G. Karras\n",
      "Internet:    CGKarras@world.std.com\n",
      "\n",
      "['misc.forsale', 'rec.motorcycles', 'rec.sport.baseball', 'sci.crypt', 'sci.space']\n",
      "From: amolitor@nmsu.edu (Andrew Molitor)\n",
      "Subject: Re: Off the shelf cheap DES keyseach machine (Was: Re: Corporate acceptance of the wiretap chip)\n",
      "Organization: Department of Mathematics\n",
      "Lines: 28\n",
      "NNTP-Posting-Host: moink.nmsu.edu\n",
      "\n",
      "In article <1993Apr20.192105.11751@ulysses.att.com>\n",
      "\tsmb@research.att.com (Steven Bellovin) writes:\n",
      ">\n",
      "> [ responding to claims about Skipjack cracking engines ]\n",
      ">\n",
      ">Thousands?  Tens of thousands?  Do some arithmetic, please...  Skipjack\n",
      ">has 2^80 possible keys.  Let's assume a brute-force engine like that\n",
      ">hypothesized for DES:  1 microsecond per trial, 1 million chips.  That's\n",
      ">10^12 trials per second, or about 38,000 years for 2^80 trials.  Well,\n",
      ">maybe they can get chips running at one trial per nanosecond, and build\n",
      ">a machine with 10 million chips.  Sure -- only 3.8 years for each solution.\n",
      ">\n",
      "\n",
      "\tI think I should also point out that the mystical DES engines\n",
      "are known plaintext engines (unless you add a ton of really smart\n",
      "hardware?)\n",
      "\n",
      "\tThe 'plaintext' is digitized voice, and exists for a very short\n",
      "time, probably in a couple inches of copper, tops. It's flatly not\n",
      "available -- your bug in my office can hear my voice, and even digitize\n",
      "it, but it's going to get a different bitstream.\n",
      "\n",
      "\tIt is horribly naive to suppose that regular folks can figure\n",
      "out how to crack skipjack, or clipper based telephones. I'm certainly\n",
      "not devoting a great deal of thought to it.\n",
      "\n",
      "\tAndrew Molitor\n",
      "\n",
      "\n",
      "['misc.forsale', 'rec.motorcycles', 'rec.sport.baseball', 'sci.crypt', 'sci.space']\n",
      "From: behanna@syl.nj.nec.com (Chris BeHanna)\n",
      "Subject: Re: Flashing anyone?\n",
      "Keywords: flashing\n",
      "Organization: NEC Systems Laboratory, Inc.\n",
      "Lines: 31\n",
      "\n",
      "In article <1993Apr15.123539.2228@news.columbia.edu> rdc8@cunixf.cc.columbia.edu (Robert D Castro) writes:\n",
      ">Hello all,\n",
      ">\n",
      ">On my bike I have hazard lights (both front and back turn signals\n",
      ">flash).  Since I live in NJ and commute to NYC there are a number of\n",
      ">tolls one must pay on route.  Just before arriving at a toll booth I\n",
      ">switch the hazards on.  I do thisto warn other motorists that I will\n",
      ">be taking longer than the 2 1/2 seconds to make the transaction.\n",
      ">Taking gloves off, getting money out of coin changer/pocket, making\n",
      ">transaction, putting gloves back on takes a little more time than the\n",
      ">average cager takes to make the same transaction of paying the toll.\n",
      ">I also notice that when I do this cagers tend to get the message and\n",
      ">usually go to another booth.\n",
      ">\n",
      ">My question, is this a good/bad thing to do?\n",
      "\n",
      "\tThis sounds like a VERY good thing to do.\n",
      "\n",
      ">Any others tend to do the same?\n",
      "\n",
      "\tI will now, whenever I don't have my handy-dandy automatic coin\n",
      "fetcher/toll payer (Annette :-) with me.\n",
      "\n",
      "\tThanks for the tip.\n",
      "\n",
      "Later,\n",
      "-- \n",
      "Chris BeHanna\tDoD# 114          1983 H-D FXWG Wide Glide - Jubilee's Red Lady\n",
      "behanna@syl.nj.nec.com\t          1975 CB360T - Baby Bike\n",
      "Disclaimer:  Now why would NEC\t  1991 ZX-11 - needs a name\n",
      "agree with any of this anyway?    I was raised by a pack of wild corn dogs.\n",
      "\n",
      "['misc.forsale', 'rec.motorcycles', 'rec.sport.baseball', 'sci.crypt', 'sci.space']\n",
      "From: kingoz@camelot.bradley.edu (Orin Roth)\n",
      "Subject: Re: PHILS, NL EAST NOT SO WEAK\n",
      "Nntp-Posting-Host: camelot.bradley.edu\n",
      "Organization: Bradley University\n",
      "Lines: 34\n",
      "\n",
      "In <1993Apr15.214133.3371@guvax.acc.georgetown.edu> apanjabi@guvax.acc.georgetown.edu writes:\n",
      "\n",
      ">I Love it how all of these people are \"blaming\" the Phillies success \n",
      ">on a weak division.  Why don't we look at the record of the teams in \n",
      ">each division (READ: Inter-Divisional Play), we'll see that the East \n",
      ">is really kicking the shit out of the West.  I know it is early, but \n",
      ">that is all we have to go on.  Atlanta is just so strong with their \n",
      ">.188 BA, Cincinnati is 2-7 coming off a sweep at Veteran's Stadium in \n",
      ">Philadelphia, and Houston was swept in it's first three games by the \n",
      ">Phillies in the Astrodome.  That, my Western Division friends, shows \n",
      ">that the three best teams in your division may not be as strong as you \n",
      ">think!!\n",
      " \n",
      "  Or you may be posting this WAY TOO EARLY and be eating your words by\n",
      "  mid-season. C'mon, the Phillies haven't proved anything yet. Atlanta\n",
      "  was similar to the Phils 2 years ago. They sucked. They started having\n",
      "  a good year, but didn't get any respect until they actually won the\n",
      "  division. (which is how it should be) So until the Phils AT LEAST   \n",
      "  have a good year, not just a good 2 weeks, they won't get any respect\n",
      "  either. BTW, Atlanta's .188 BA is actually a compliment to how good\n",
      "  the Braves really are. Their record is 6-3. Can you imagine the Phils\n",
      "  record if they were batting .188? hahahaha. And Atlanta's hitting will\n",
      "  improve dramatically.  \n",
      "  No, I'm not a Braves fan. Just defending a good team. \n",
      "  Orin.\n",
      "  Bradley U.\n",
      "\n",
      ">PHILS ALL THE WAY IN '93\n",
      ">BRAVES HIT LIKE A AAA CLUB\n",
      ">REDS NEED MARGE\n",
      "\n",
      ">\t\t\t\t\t\t-BOB\n",
      "--\n",
      "I'm really a jester in disguise!                                   \n",
      "\n",
      "The curveballs of right handed pitchers tend to curve motorcycle to the left --> Motorcycles\n",
      "Caesar cipher is an ancient form of encryption --> Cryptography\n"
     ]
    }
   ],
   "source": [
    "from sklearn.datasets import fetch_20newsgroups\n",
    "from sklearn.naive_bayes import MultinomialNB\n",
    "from sklearn.feature_extraction.text import TfidfTransformer\n",
    "from sklearn.feature_extraction.text import CountVectorizer\n",
    "\n",
    "category_map={'misc.forsale':'Sales','rec.motorcycles':'Motorcycles','rec.sport.baseball':'Baseball','sci.crypt':'Cryptography','sci.space':'Space'}\n",
    "\n",
    "#Loading the training data based on the above categories...\n",
    "training_data=fetch_20newsgroups(subset='train',categories=category_map.keys(),shuffle=True,random_state=7)\n",
    "for i in range(6):\n",
    "     print(training_data.target_names)\n",
    "     print(training_data.data[i])\n",
    "\n",
    "#Importing the feature extractor\n",
    "cv=CountVectorizer()\n",
    "#tc:term count\n",
    "xtrain_tc = cv.fit_transform(training_data.data)\n",
    "\n",
    "#Training the classifier using multinomial naive bayes classifier\n",
    "\n",
    "#Defining random input sentences\n",
    "input_data=['The curveballs of right handed pitchers tend to curve motorcycle to the left','Caesar cipher is an ancient form of encryption']\n",
    "\n",
    "#Define tfidf transformer object and train it..\n",
    "tfidf_obj=TfidfTransformer()\n",
    "xtrain_tfidf=tfidf_obj.fit_transform(xtrain_tc)\n",
    "\n",
    "#train the multi-nomial naive bayes classifier using above feature vectors\n",
    "classifier=MultinomialNB().fit(xtrain_tfidf,training_data.target)\n",
    "\n",
    "#transform the input data using this word count\n",
    "input_data_tc=cv.transform(input_data)\n",
    "input_tfidf=tfidf_obj.fit_transform(input_data_tc)\n",
    "\n",
    "#predicted classifier\n",
    "p=classifier.predict(input_tfidf)\n",
    "for sentence,category in zip(input_data,p):\n",
    "    print(sentence,'-->',category_map[training_data.target_names[category]])"
   ]
  },
  {
   "cell_type": "markdown",
   "id": "913f4d63",
   "metadata": {},
   "source": [
    "# Identifying the Gender"
   ]
  },
  {
   "cell_type": "code",
   "execution_count": 8,
   "id": "af3d3a6d",
   "metadata": {},
   "outputs": [
    {
     "name": "stdout",
     "output_type": "stream",
     "text": [
      "[('Aaron', 'male'), ('Abbey', 'male')]\n",
      "48.0\n",
      "Leonardo --> female\n",
      "Amy --> female\n",
      "Sem --> female\n",
      "levely --> female\n",
      "king --> female\n",
      "mira --> female\n",
      "neha --> female\n",
      "jay --> male\n",
      "ram --> male\n",
      "sita --> female\n",
      "priti --> female\n",
      "darshil --> female\n",
      "mit --> male\n",
      "krupali --> female\n",
      "vishakha --> female\n"
     ]
    },
    {
     "name": "stderr",
     "output_type": "stream",
     "text": [
      "[nltk_data] Downloading package names to\n",
      "[nltk_data]     C:\\Users\\MCA2\\AppData\\Roaming\\nltk_data...\n",
      "[nltk_data]   Package names is already up-to-date!\n"
     ]
    }
   ],
   "source": [
    "import nltk\n",
    "nltk.download('names')\n",
    "import random\n",
    "from nltk.corpus import names\n",
    "from nltk import NaiveBayesClassifier\n",
    "from nltk.classify import accuracy\n",
    "\n",
    "def gender_features(word,n=2):\n",
    "    return ({'feature': word[-n:].lower()})\n",
    "\n",
    "labels=[(name,'male') for name in names.words('male.txt')]+[(name,'female') for name in names.words('female.txt')]\n",
    "print(labels[1:3])\n",
    "\n",
    "data=['Leonardo','Amy','Sem','levely','king','mira','neha','jay','ram','sita','priti','darshil','mit','krupali','vishakha']\n",
    "\n",
    "feature_set=[(gender_features(n,3),gender) for (n,gender) in labels]\n",
    "\n",
    "#Split\n",
    "training,testing=feature_set[500:],feature_set[:200]\n",
    "\n",
    "#model\n",
    "classifier=NaiveBayesClassifier.train(training)\n",
    "\n",
    "#EVALUATE\n",
    "print(accuracy(classifier,testing)*100)\n",
    "\n",
    "for name in data:\n",
    "    print(name,'-->',classifier.classify(gender_features(name,5)))"
   ]
  },
  {
   "cell_type": "code",
   "execution_count": null,
   "id": "09c2b0d5",
   "metadata": {},
   "outputs": [],
   "source": [
    "\n"
   ]
  }
 ],
 "metadata": {
  "kernelspec": {
   "display_name": "Python 3 (ipykernel)",
   "language": "python",
   "name": "python3"
  },
  "language_info": {
   "codemirror_mode": {
    "name": "ipython",
    "version": 3
   },
   "file_extension": ".py",
   "mimetype": "text/x-python",
   "name": "python",
   "nbconvert_exporter": "python",
   "pygments_lexer": "ipython3",
   "version": "3.9.6"
  }
 },
 "nbformat": 4,
 "nbformat_minor": 5
}
